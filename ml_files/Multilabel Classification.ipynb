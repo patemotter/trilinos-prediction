{
 "cells": [
  {
   "cell_type": "code",
   "execution_count": null,
   "metadata": {
    "collapsed": false
   },
   "outputs": [],
   "source": [
    "import pandas as pd\n",
    "import numpy as np\n",
    "properties = pd.read_csv('../matrix_properties/processed_properties.csv', header=0, index_col=0)\n",
    "properties"
   ]
  },
  {
   "cell_type": "code",
   "execution_count": null,
   "metadata": {
    "collapsed": false,
    "scrolled": true
   },
   "outputs": [],
   "source": [
    "time_files = ['../processed_timings/system_specific/bridges_all_np_timings_processed.csv',\n",
    "            '../processed_timings/system_specific/comet_all_np_timings_processed.csv',\n",
    "            '../processed_timings/system_specific/laptop_all_np_timings_processed.csv',\n",
    "            '../processed_timings/system_specific/summit_all_np_timings_processed.csv',\n",
    "            '../processed_timings/system_specific/stampede_all_np_timings_processed.csv']\n",
    "times_array = []\n",
    "for t in time_files:\n",
    "    times_array.append(pd.read_csv(t, header=0, index_col=0))\n",
    "combined_times = pd.concat(times_array)\n",
    "combined_times = combined_times.drop(labels=['system', 'solver', 'prec', 'status',\n",
    "                                            'new_time', 'good_or_bad', 'resid', 'iters'],\n",
    "                                         axis=1)\n",
    "combined_times = combined_times.drop_duplicates()\n",
    "combined_times"
   ]
  },
  {
   "cell_type": "code",
   "execution_count": null,
   "metadata": {
    "collapsed": false
   },
   "outputs": [],
   "source": [
    "systems_info = pd.read_csv('../systems_info/systems_info.csv')\n",
    "systems_info.system_id = systems_info.system_id.astype(int)\n",
    "systems_info = systems_info.drop(labels=['system'], axis=1)\n",
    "systems_info"
   ]
  },
  {
   "cell_type": "code",
   "execution_count": null,
   "metadata": {
    "collapsed": false,
    "scrolled": true
   },
   "outputs": [],
   "source": [
    "pt = pd.merge(properties, combined_times, on='matrix_id')\n",
    "pts = pd.merge(systems_info, pt, on='system_id')\n",
    "pts = pts.dropna()\n",
    "\n",
    "pts = pts.drop(\n",
    "        labels=['matrix_y', 'matrix_x'], axis=1)"
   ]
  },
  {
   "cell_type": "code",
   "execution_count": null,
   "metadata": {
    "collapsed": false
   },
   "outputs": [],
   "source": [
    "pts.status_id.unique()"
   ]
  },
  {
   "cell_type": "code",
   "execution_count": null,
   "metadata": {
    "collapsed": false,
    "scrolled": true
   },
   "outputs": [],
   "source": [
    "# Makes label for error\n",
    "lbl_error = []\n",
    "i = 0\n",
    "for row in pts.itertuples():\n",
    "    if getattr(row, \"status_id\") == -1:\n",
    "        lbl_error.append(1)\n",
    "    else:\n",
    "        lbl_error.append(0)\n",
    "lbl_error"
   ]
  },
  {
   "cell_type": "code",
   "execution_count": null,
   "metadata": {
    "collapsed": false
   },
   "outputs": [],
   "source": [
    "# Makes label for convergence\n",
    "lbl_converged = []\n",
    "i = 0\n",
    "for row in pts.itertuples():\n",
    "    if getattr(row, \"status_id\") == 1:\n",
    "        lbl_converged.append(1)\n",
    "    else:\n",
    "        lbl_converged.append(0)\n",
    "lbl_converged"
   ]
  },
  {
   "cell_type": "code",
   "execution_count": null,
   "metadata": {
    "collapsed": false,
    "scrolled": true
   },
   "outputs": [],
   "source": [
    "grouped = pts.groupby(['matrix_id', 'system_id', 'np','status_id'])\n",
    "best_times = grouped['time'].aggregate(np.min)\n",
    "best_times"
   ]
  },
  {
   "cell_type": "code",
   "execution_count": null,
   "metadata": {
    "collapsed": false
   },
   "outputs": [],
   "source": [
    "# Finds the best times for each specific combination of np and sys\n",
    "lbl_best_at_specific_sys_and_np = []\n",
    "i = 0\n",
    "for row in pts.itertuples():\n",
    "    cur_matrix_id = getattr(row, 'matrix_id')\n",
    "    cur_system_id = getattr(row, 'system_id')\n",
    "    cur_np = getattr(row, 'np')\n",
    "    cur_status_id = getattr(row, 'status_id')\n",
    "    try:\n",
    "        print(best_times[cur_matrix_id][cur_system_id][cur_np][1])\n",
    "    except:\n",
    "        print(\"error: 0\")"
   ]
  },
  {
   "cell_type": "code",
   "execution_count": null,
   "metadata": {
    "collapsed": true
   },
   "outputs": [],
   "source": []
  },
  {
   "cell_type": "code",
   "execution_count": null,
   "metadata": {
    "collapsed": true
   },
   "outputs": [],
   "source": []
  },
  {
   "cell_type": "code",
   "execution_count": null,
   "metadata": {
    "collapsed": true
   },
   "outputs": [],
   "source": []
  },
  {
   "cell_type": "code",
   "execution_count": null,
   "metadata": {
    "collapsed": true
   },
   "outputs": [],
   "source": []
  },
  {
   "cell_type": "code",
   "execution_count": null,
   "metadata": {
    "collapsed": true
   },
   "outputs": [],
   "source": []
  },
  {
   "cell_type": "code",
   "execution_count": null,
   "metadata": {
    "collapsed": true
   },
   "outputs": [],
   "source": []
  },
  {
   "cell_type": "code",
   "execution_count": null,
   "metadata": {
    "collapsed": true
   },
   "outputs": [],
   "source": []
  },
  {
   "cell_type": "code",
   "execution_count": null,
   "metadata": {
    "collapsed": true
   },
   "outputs": [],
   "source": []
  },
  {
   "cell_type": "code",
   "execution_count": null,
   "metadata": {
    "collapsed": true
   },
   "outputs": [],
   "source": []
  },
  {
   "cell_type": "code",
   "execution_count": null,
   "metadata": {
    "collapsed": true
   },
   "outputs": [],
   "source": []
  },
  {
   "cell_type": "code",
   "execution_count": null,
   "metadata": {
    "collapsed": true
   },
   "outputs": [],
   "source": []
  },
  {
   "cell_type": "code",
   "execution_count": null,
   "metadata": {
    "collapsed": true
   },
   "outputs": [],
   "source": []
  },
  {
   "cell_type": "code",
   "execution_count": null,
   "metadata": {
    "collapsed": true
   },
   "outputs": [],
   "source": []
  },
  {
   "cell_type": "code",
   "execution_count": null,
   "metadata": {
    "collapsed": true
   },
   "outputs": [],
   "source": []
  },
  {
   "cell_type": "code",
   "execution_count": null,
   "metadata": {
    "collapsed": true
   },
   "outputs": [],
   "source": []
  },
  {
   "cell_type": "code",
   "execution_count": null,
   "metadata": {
    "collapsed": true
   },
   "outputs": [],
   "source": []
  },
  {
   "cell_type": "code",
   "execution_count": null,
   "metadata": {
    "collapsed": true
   },
   "outputs": [],
   "source": []
  }
 ],
 "metadata": {
  "kernelspec": {
   "display_name": "Python 3",
   "language": "python",
   "name": "python3"
  },
  "language_info": {
   "codemirror_mode": {
    "name": "ipython",
    "version": 3
   },
   "file_extension": ".py",
   "mimetype": "text/x-python",
   "name": "python",
   "nbconvert_exporter": "python",
   "pygments_lexer": "ipython3",
   "version": "3.6.0"
  }
 },
 "nbformat": 4,
 "nbformat_minor": 2
}
