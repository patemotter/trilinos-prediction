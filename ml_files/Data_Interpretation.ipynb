{
 "cells": [
  {
   "cell_type": "code",
   "execution_count": 12,
   "metadata": {
    "collapsed": true
   },
   "outputs": [],
   "source": [
    "import pandas as pd\n",
    "import numpy as np"
   ]
  },
  {
   "cell_type": "code",
   "execution_count": 13,
   "metadata": {
    "collapsed": true
   },
   "outputs": [],
   "source": [
    "timing_file = '../data/all_results_janus_single_node_1-14-17.csv'\n",
    "properties_file = '../data/uflorida-features.csv'"
   ]
  },
  {
   "cell_type": "code",
   "execution_count": 14,
   "metadata": {
    "collapsed": false,
    "scrolled": true
   },
   "outputs": [],
   "source": [
    "timings = pd.read_csv(timing_file, header=0)\n",
    "properties = pd.read_csv(properties_file, header=0)"
   ]
  },
  {
   "cell_type": "markdown",
   "metadata": {},
   "source": [
    "Changing the name of the columns to more simple names for ease-of-use."
   ]
  },
  {
   "cell_type": "code",
   "execution_count": 15,
   "metadata": {
    "collapsed": true
   },
   "outputs": [],
   "source": [
    "timings.columns= ['np', 'matrix', 'solver', 'prec', 'status', 'time', 'iters', 'resid']\n",
    "properties.columns = ['rows', 'cols', 'min_nnz_row', 'row_var', 'col_var', 'diag_var', 'nnz', 'frob_norm', 'symm_frob_norm', 'antisymm_frob_norm', 'one_norm', 'inf_norm', 'symm_inf_norm', 'antisymm_inf_norm', 'max_nnz_row', 'trace', 'abs_trace', 'min_nnz_row', 'avg_nnz_row', 'dummy_rows', 'dummy_rows_kind', 'num_value_symm_1', 'nnz_pattern_symm_1', 'num_value_symm_2', 'nnz_pattern_symm_2', 'row_diag_dom', 'col_diag_dom', 'diag_avg', 'diag_sign', 'diag_nnz', 'lower_bw', 'upper_bw', 'row_log_val_spread', 'col_log_val_spread', 'symm', 'matrix']"
   ]
  },
  {
   "cell_type": "markdown",
   "metadata": {},
   "source": [
    "Combining the two dataframes into a single dataframe called 'combined.'  \n",
    "Replacing the string data with numerical data. \n"
   ]
  },
  {
   "cell_type": "code",
   "execution_count": 16,
   "metadata": {
    "collapsed": false,
    "scrolled": true
   },
   "outputs": [
    {
     "name": "stdout",
     "output_type": "stream",
     "text": [
      "<class 'pandas.core.frame.DataFrame'>\n",
      "Int64Index: 275286 entries, 0 to 275285\n",
      "Data columns (total 43 columns):\n",
      "rows                  275286 non-null int64\n",
      "cols                  275286 non-null int64\n",
      "min_nnz_row           275286 non-null int64\n",
      "row_var               275286 non-null float64\n",
      "col_var               275286 non-null float64\n",
      "diag_var              275286 non-null float64\n",
      "nnz                   275286 non-null int64\n",
      "frob_norm             275286 non-null float64\n",
      "symm_frob_norm        275286 non-null float64\n",
      "antisymm_frob_norm    275286 non-null float64\n",
      "one_norm              275286 non-null float64\n",
      "inf_norm              275286 non-null float64\n",
      "symm_inf_norm         275286 non-null float64\n",
      "antisymm_inf_norm     275286 non-null float64\n",
      "max_nnz_row           275286 non-null int64\n",
      "trace                 275286 non-null float64\n",
      "abs_trace             275286 non-null float64\n",
      "min_nnz_row           275286 non-null int64\n",
      "avg_nnz_row           275286 non-null int64\n",
      "dummy_rows            275286 non-null int64\n",
      "dummy_rows_kind       275286 non-null int64\n",
      "num_value_symm_1      275286 non-null int64\n",
      "nnz_pattern_symm_1    275286 non-null int64\n",
      "num_value_symm_2      275286 non-null float64\n",
      "nnz_pattern_symm_2    275286 non-null float64\n",
      "row_diag_dom          275286 non-null int64\n",
      "col_diag_dom          275286 non-null int64\n",
      "diag_avg              275286 non-null float64\n",
      "diag_sign             275286 non-null int64\n",
      "diag_nnz              275286 non-null int64\n",
      "lower_bw              275286 non-null int64\n",
      "upper_bw              275286 non-null int64\n",
      "row_log_val_spread    275286 non-null float64\n",
      "col_log_val_spread    275286 non-null float64\n",
      "symm                  275286 non-null int64\n",
      "matrix                275286 non-null object\n",
      "np                    275286 non-null int64\n",
      "solver                275286 non-null object\n",
      "prec                  275286 non-null object\n",
      "status                275286 non-null object\n",
      "time                  275286 non-null float64\n",
      "iters                 156188 non-null float64\n",
      "resid                 119113 non-null float64\n",
      "dtypes: float64(20), int64(19), object(4)\n",
      "memory usage: 92.4+ MB\n"
     ]
    }
   ],
   "source": [
    "combined = pd.merge(properties, timings)\n",
    "combined.info()"
   ]
  },
  {
   "cell_type": "code",
   "execution_count": 17,
   "metadata": {
    "collapsed": false
   },
   "outputs": [],
   "source": [
    "combined = combined.dropna()"
   ]
  },
  {
   "cell_type": "code",
   "execution_count": 18,
   "metadata": {
    "collapsed": true
   },
   "outputs": [],
   "source": [
    "combined['solver_num'] = combined.solver.map({'FIXED_POINT': 0, 'BICGSTAB': 1, 'MINRES': 2, 'PSEUDOBLOCK_CG': 3, 'PSEUDOBLOCK_STOCHASTIC_CG': 4, 'PSEUDOBLOCK_TFQMR': 5, 'TFQMR': 6, 'LSQR': 7, 'PSEUDOBLOCK_GMRES': 8}).astype(int)\n",
    "combined['prec_num'] = combined.prec.map({'ILUT': 0, 'RILUK': 1, 'RELAXATION': 2, 'CHEBYSHEV': 3, 'NONE': 4}).astype(int)\n",
    "combined['status_num'] = combined.status.map({'error': -1, 'unconverged': 0, 'converged': 1}).astype(int)"
   ]
  },
  {
   "cell_type": "markdown",
   "metadata": {},
   "source": [
    "None of the above should be changed"
   ]
  },
  {
   "cell_type": "code",
   "execution_count": 19,
   "metadata": {
    "collapsed": true
   },
   "outputs": [],
   "source": [
    "good = combined[combined.status == 'converged']"
   ]
  },
  {
   "cell_type": "code",
   "execution_count": 20,
   "metadata": {
    "collapsed": false,
    "scrolled": true
   },
   "outputs": [
    {
     "data": {
      "text/plain": [
       "solver\n",
       "BICGSTAB             6935\n",
       "FIXED_POINT          2147\n",
       "MINRES               5241\n",
       "PSEUDOBLOCK_CG       3593\n",
       "PSEUDOBLOCK_GMRES    6951\n",
       "PSEUDOBLOCK_TFQMR    5827\n",
       "TFQMR                5707\n",
       "dtype: int64"
      ]
     },
     "execution_count": 20,
     "metadata": {},
     "output_type": "execute_result"
    }
   ],
   "source": [
    "good.groupby('solver').size()"
   ]
  },
  {
   "cell_type": "markdown",
   "metadata": {},
   "source": [
    "So let's see how big of a difference there is between TFQMR and P_TFQMR"
   ]
  },
  {
   "cell_type": "code",
   "execution_count": 76,
   "metadata": {
    "collapsed": false
   },
   "outputs": [
    {
     "name": "stdout",
     "output_type": "stream",
     "text": [
      "<class 'pandas.core.frame.DataFrame'>\n",
      "Int64Index: 11534 entries, 25 to 275273\n",
      "Data columns (total 7 columns):\n",
      "np        11534 non-null int64\n",
      "solver    11534 non-null object\n",
      "prec      11534 non-null object\n",
      "status    11534 non-null object\n",
      "time      11534 non-null float64\n",
      "iters     11534 non-null float64\n",
      "resid     11534 non-null float64\n",
      "dtypes: float64(3), int64(1), object(3)\n",
      "memory usage: 720.9+ KB\n"
     ]
    }
   ],
   "source": [
    "values = {\"TFQMR\", \"PSEUDOBLOCK_TFQMR\"}\n",
    "tfqmr = good.loc[good.solver.isin(values)]\n",
    "tfqmr.solver.unique()\n",
    "tfqmr = tfqmr.drop(tfqmr.columns[:36], axis=1)\n",
    "tfqmr = tfqmr.drop(tfqmr.columns[-3:], axis=1)\n",
    "tfqmr.info()"
   ]
  },
  {
   "cell_type": "markdown",
   "metadata": {},
   "source": [
    "Show's how much difference there is between the two solver"
   ]
  },
  {
   "cell_type": "code",
   "execution_count": 77,
   "metadata": {
    "collapsed": false
   },
   "outputs": [
    {
     "data": {
      "text/html": [
       "<div>\n",
       "<table border=\"1\" class=\"dataframe\">\n",
       "  <thead>\n",
       "    <tr style=\"text-align: right;\">\n",
       "      <th></th>\n",
       "      <th></th>\n",
       "      <th>iters</th>\n",
       "      <th>np</th>\n",
       "      <th>resid</th>\n",
       "      <th>time</th>\n",
       "    </tr>\n",
       "    <tr>\n",
       "      <th>solver</th>\n",
       "      <th></th>\n",
       "      <th></th>\n",
       "      <th></th>\n",
       "      <th></th>\n",
       "      <th></th>\n",
       "    </tr>\n",
       "  </thead>\n",
       "  <tbody>\n",
       "    <tr>\n",
       "      <th rowspan=\"8\" valign=\"top\">PSEUDOBLOCK_TFQMR</th>\n",
       "      <th>count</th>\n",
       "      <td>5827.000000</td>\n",
       "      <td>5827.000000</td>\n",
       "      <td>5.827000e+03</td>\n",
       "      <td>5827.000000</td>\n",
       "    </tr>\n",
       "    <tr>\n",
       "      <th>mean</th>\n",
       "      <td>669.441737</td>\n",
       "      <td>5.921229</td>\n",
       "      <td>5.432610e-07</td>\n",
       "      <td>1.237965</td>\n",
       "    </tr>\n",
       "    <tr>\n",
       "      <th>std</th>\n",
       "      <td>1574.980811</td>\n",
       "      <td>3.809055</td>\n",
       "      <td>3.468492e-07</td>\n",
       "      <td>7.532847</td>\n",
       "    </tr>\n",
       "    <tr>\n",
       "      <th>min</th>\n",
       "      <td>1.000000</td>\n",
       "      <td>1.000000</td>\n",
       "      <td>4.560000e-33</td>\n",
       "      <td>0.000746</td>\n",
       "    </tr>\n",
       "    <tr>\n",
       "      <th>25%</th>\n",
       "      <td>13.000000</td>\n",
       "      <td>2.000000</td>\n",
       "      <td>2.220000e-07</td>\n",
       "      <td>0.018921</td>\n",
       "    </tr>\n",
       "    <tr>\n",
       "      <th>50%</th>\n",
       "      <td>91.000000</td>\n",
       "      <td>6.000000</td>\n",
       "      <td>6.000000e-07</td>\n",
       "      <td>0.085300</td>\n",
       "    </tr>\n",
       "    <tr>\n",
       "      <th>75%</th>\n",
       "      <td>382.000000</td>\n",
       "      <td>10.000000</td>\n",
       "      <td>8.735000e-07</td>\n",
       "      <td>0.426127</td>\n",
       "    </tr>\n",
       "    <tr>\n",
       "      <th>max</th>\n",
       "      <td>9959.000000</td>\n",
       "      <td>12.000000</td>\n",
       "      <td>1.000000e-06</td>\n",
       "      <td>271.173000</td>\n",
       "    </tr>\n",
       "    <tr>\n",
       "      <th rowspan=\"8\" valign=\"top\">TFQMR</th>\n",
       "      <th>count</th>\n",
       "      <td>5707.000000</td>\n",
       "      <td>5707.000000</td>\n",
       "      <td>5.707000e+03</td>\n",
       "      <td>5707.000000</td>\n",
       "    </tr>\n",
       "    <tr>\n",
       "      <th>mean</th>\n",
       "      <td>669.346066</td>\n",
       "      <td>5.915017</td>\n",
       "      <td>5.414734e-07</td>\n",
       "      <td>1.134524</td>\n",
       "    </tr>\n",
       "    <tr>\n",
       "      <th>std</th>\n",
       "      <td>1583.168929</td>\n",
       "      <td>3.828605</td>\n",
       "      <td>3.471924e-07</td>\n",
       "      <td>7.684904</td>\n",
       "    </tr>\n",
       "    <tr>\n",
       "      <th>min</th>\n",
       "      <td>1.000000</td>\n",
       "      <td>1.000000</td>\n",
       "      <td>4.560000e-33</td>\n",
       "      <td>0.000563</td>\n",
       "    </tr>\n",
       "    <tr>\n",
       "      <th>25%</th>\n",
       "      <td>13.000000</td>\n",
       "      <td>2.000000</td>\n",
       "      <td>2.190000e-07</td>\n",
       "      <td>0.013752</td>\n",
       "    </tr>\n",
       "    <tr>\n",
       "      <th>50%</th>\n",
       "      <td>92.000000</td>\n",
       "      <td>6.000000</td>\n",
       "      <td>5.980000e-07</td>\n",
       "      <td>0.062503</td>\n",
       "    </tr>\n",
       "    <tr>\n",
       "      <th>75%</th>\n",
       "      <td>387.000000</td>\n",
       "      <td>10.000000</td>\n",
       "      <td>8.720000e-07</td>\n",
       "      <td>0.306544</td>\n",
       "    </tr>\n",
       "    <tr>\n",
       "      <th>max</th>\n",
       "      <td>9959.000000</td>\n",
       "      <td>12.000000</td>\n",
       "      <td>1.000000e-06</td>\n",
       "      <td>288.867000</td>\n",
       "    </tr>\n",
       "  </tbody>\n",
       "</table>\n",
       "</div>"
      ],
      "text/plain": [
       "                               iters           np         resid         time\n",
       "solver                                                                      \n",
       "PSEUDOBLOCK_TFQMR count  5827.000000  5827.000000  5.827000e+03  5827.000000\n",
       "                  mean    669.441737     5.921229  5.432610e-07     1.237965\n",
       "                  std    1574.980811     3.809055  3.468492e-07     7.532847\n",
       "                  min       1.000000     1.000000  4.560000e-33     0.000746\n",
       "                  25%      13.000000     2.000000  2.220000e-07     0.018921\n",
       "                  50%      91.000000     6.000000  6.000000e-07     0.085300\n",
       "                  75%     382.000000    10.000000  8.735000e-07     0.426127\n",
       "                  max    9959.000000    12.000000  1.000000e-06   271.173000\n",
       "TFQMR             count  5707.000000  5707.000000  5.707000e+03  5707.000000\n",
       "                  mean    669.346066     5.915017  5.414734e-07     1.134524\n",
       "                  std    1583.168929     3.828605  3.471924e-07     7.684904\n",
       "                  min       1.000000     1.000000  4.560000e-33     0.000563\n",
       "                  25%      13.000000     2.000000  2.190000e-07     0.013752\n",
       "                  50%      92.000000     6.000000  5.980000e-07     0.062503\n",
       "                  75%     387.000000    10.000000  8.720000e-07     0.306544\n",
       "                  max    9959.000000    12.000000  1.000000e-06   288.867000"
      ]
     },
     "execution_count": 77,
     "metadata": {},
     "output_type": "execute_result"
    }
   ],
   "source": [
    "tfqmr = tfqmr.groupby('solver')\n",
    "tfqmr.describe()"
   ]
  },
  {
   "cell_type": "code",
   "execution_count": null,
   "metadata": {
    "collapsed": true
   },
   "outputs": [],
   "source": []
  }
 ],
 "metadata": {
  "anaconda-cloud": {},
  "kernelspec": {
   "display_name": "Python 3",
   "language": "python",
   "name": "python3"
  },
  "language_info": {
   "codemirror_mode": {
    "name": "ipython",
    "version": 3
   },
   "file_extension": ".py",
   "mimetype": "text/x-python",
   "name": "python",
   "nbconvert_exporter": "python",
   "pygments_lexer": "ipython3",
   "version": "3.5.2"
  }
 },
 "nbformat": 4,
 "nbformat_minor": 1
}
