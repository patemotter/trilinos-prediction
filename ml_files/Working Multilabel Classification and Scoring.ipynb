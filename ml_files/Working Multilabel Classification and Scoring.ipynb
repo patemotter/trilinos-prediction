{
 "cells": [
  {
   "cell_type": "code",
   "execution_count": 1,
   "metadata": {
    "collapsed": true
   },
   "outputs": [],
   "source": [
    "import pandas as pd\n",
    "import numpy as np\n",
    "from sklearn.externals import joblib\n",
    "from sklearn.pipeline import Pipeline\n",
    "from sklearn.svm import LinearSVC, SVC\n",
    "from sklearn.multiclass import OneVsRestClassifier\n",
    "from sklearn.model_selection import StratifiedShuffleSplit\n",
    "from sklearn.ensemble import RandomForestClassifier"
   ]
  },
  {
   "cell_type": "code",
   "execution_count": 2,
   "metadata": {
    "collapsed": true
   },
   "outputs": [],
   "source": [
    "labels = pd.read_csv('./labels.csv', index_col=0)\n",
    "pts = pd.read_csv('./pts.csv', index_col=0)"
   ]
  },
  {
   "cell_type": "code",
   "execution_count": 3,
   "metadata": {
    "scrolled": true
   },
   "outputs": [
    {
     "name": "stdout",
     "output_type": "stream",
     "text": [
      "<class 'pandas.core.frame.DataFrame'>\n",
      "Int64Index: 871535 entries, 0 to 871534\n",
      "Data columns (total 83 columns):\n",
      "system_id                               871535 non-null int64\n",
      "HPL_Tflops                              871535 non-null float64\n",
      "StarDGEMM_Gflops                        871535 non-null float64\n",
      "SingleDGEMM_Gflops                      871535 non-null float64\n",
      "PTRANS_GBs                              871535 non-null float64\n",
      "MPIRandomAccess_LCG_GUPs                871535 non-null float64\n",
      "MPIRandomAccess_GUPs                    871535 non-null float64\n",
      "StarRandomAccess_LCG_GUPs               871535 non-null float64\n",
      "SingleRandomAccess_LCG_GUPs             871535 non-null float64\n",
      "StarRandomAccess_GUPs                   871535 non-null float64\n",
      "SingleRandomAccess_GUPs                 871535 non-null float64\n",
      "StarSTREAM_Copy                         871535 non-null float64\n",
      "StarSTREAM_Scale                        871535 non-null float64\n",
      "StarSTREAM_Add                          871535 non-null float64\n",
      "StarSTREAM_Triad                        871535 non-null float64\n",
      "SingleSTREAM_Copy                       871535 non-null float64\n",
      "SingleSTREAM_Scale                      871535 non-null float64\n",
      "SingleSTREAM_Add                        871535 non-null float64\n",
      "SingleSTREAM_Triad                      871535 non-null float64\n",
      "StarFFT_Gflops                          871535 non-null float64\n",
      "SingleFFT_Gflops                        871535 non-null float64\n",
      "MPIFFT_Gflops                           871535 non-null float64\n",
      "MaxPingPongLatency_usec                 871535 non-null float64\n",
      "RandomlyOrderedRingLatency_usec         871535 non-null float64\n",
      "MinPingPongBandwidth_GBytes             871535 non-null float64\n",
      "NaturallyOrderedRingBandwidth_GBytes    871535 non-null float64\n",
      "RandomlyOrderedRingBandwidth_GBytes     871535 non-null float64\n",
      "MinPingPongLatency_usec                 871535 non-null float64\n",
      "AvgPingPongLatency_usec                 871535 non-null float64\n",
      "MaxPingPongBandwidth_GBytes             871535 non-null float64\n",
      "AvgPingPongBandwidth_GBytes             871535 non-null float64\n",
      "NaturallyOrderedRingLatency_usec        871535 non-null float64\n",
      "MemProc                                 871535 non-null int64\n",
      "core_count                              871535 non-null int64\n",
      "cpu_freq                                871535 non-null int64\n",
      "bogo_mips                               871535 non-null float64\n",
      "l1_cache                                871535 non-null int64\n",
      "l2_cache                                871535 non-null int64\n",
      "l3_cache                                871535 non-null int64\n",
      "memory_size                             871535 non-null int64\n",
      "memory_freq                             871535 non-null int64\n",
      "memory_type                             871535 non-null int64\n",
      "rows                                    871535 non-null int64\n",
      "cols                                    871535 non-null int64\n",
      "min_nnz_row                             871535 non-null int64\n",
      "row_var                                 871535 non-null float64\n",
      "col_var                                 871535 non-null float64\n",
      "diag_var                                871535 non-null float64\n",
      "nnz                                     871535 non-null int64\n",
      "frob_norm                               871535 non-null float64\n",
      "symm_frob_norm                          871535 non-null float64\n",
      "antisymm_frob_norm                      871535 non-null float64\n",
      "one_norm                                871535 non-null float64\n",
      "inf_norm                                871535 non-null float64\n",
      "symm_inf_norm                           871535 non-null float64\n",
      "antisymm_inf_norm                       871535 non-null float64\n",
      "max_nnz_row                             871535 non-null int64\n",
      "trace                                   871535 non-null float64\n",
      "abs_trace                               871535 non-null float64\n",
      "min_nnz_row.1                           871535 non-null int64\n",
      "avg_nnz_row                             871535 non-null int64\n",
      "dummy_rows                              871535 non-null int64\n",
      "dummy_rows_kind                         871535 non-null int64\n",
      "num_value_symm_1                        871535 non-null int64\n",
      "nnz_pattern_symm_1                      871535 non-null int64\n",
      "num_value_symm_2                        871535 non-null float64\n",
      "nnz_pattern_symm_2                      871535 non-null float64\n",
      "row_diag_dom                            871535 non-null int64\n",
      "col_diag_dom                            871535 non-null int64\n",
      "diag_avg                                871535 non-null float64\n",
      "diag_sign                               871535 non-null int64\n",
      "diag_nnz                                871535 non-null int64\n",
      "lower_bw                                871535 non-null int64\n",
      "upper_bw                                871535 non-null int64\n",
      "row_log_val_spread                      871535 non-null float64\n",
      "col_log_val_spread                      871535 non-null float64\n",
      "symm                                    871535 non-null int64\n",
      "matrix_id                               871535 non-null int64\n",
      "np                                      871535 non-null int64\n",
      "time                                    871535 non-null float64\n",
      "solver_id                               871535 non-null int64\n",
      "prec_id                                 871535 non-null int64\n",
      "status_id                               871535 non-null int64\n",
      "dtypes: float64(50), int64(33)\n",
      "memory usage: 558.5 MB\n"
     ]
    }
   ],
   "source": [
    "pts.info()"
   ]
  },
  {
   "cell_type": "code",
   "execution_count": 4,
   "metadata": {
    "collapsed": true
   },
   "outputs": [],
   "source": [
    "all_data = pts.drop([\n",
    "'matrix_id',\n",
    "'system_id',\n",
    "'time',\n",
    "'matrix_id',\n",
    "'status_id'], axis=1)"
   ]
  },
  {
   "cell_type": "code",
   "execution_count": 4,
   "metadata": {
    "collapsed": true
   },
   "outputs": [],
   "source": [
    "# plain_data = pts.drop([\n",
    "# 'matrix_id', \n",
    "# 'status_id', \n",
    "# 'time', \n",
    "# 'HPL_Tflops',        \n",
    "# 'StarDGEMM_Gflops',                        \n",
    "# 'SingleDGEMM_Gflops',                      \n",
    "# 'PTRANS_GBs',                              \n",
    "# 'MPIRandomAccess_LCG_GUPs',                \n",
    "# 'MPIRandomAccess_GUPs',                    \n",
    "# 'StarRandomAccess_LCG_GUPs',               \n",
    "# 'SingleRandomAccess_LCG_GUPs',             \n",
    "# 'StarRandomAccess_GUPs',                   \n",
    "# 'SingleRandomAccess_GUPs',                 \n",
    "# 'StarSTREAM_Copy',                         \n",
    "# 'StarSTREAM_Scale',                        \n",
    "# 'StarSTREAM_Add',                          \n",
    "# 'StarSTREAM_Triad',                        \n",
    "# 'SingleSTREAM_Copy',                       \n",
    "# 'SingleSTREAM_Scale',                      \n",
    "# 'SingleSTREAM_Add',                        \n",
    "# 'SingleSTREAM_Triad',                      \n",
    "# 'StarFFT_Gflops',                          \n",
    "# 'SingleFFT_Gflops',                        \n",
    "# 'MPIFFT_Gflops',                           \n",
    "# 'MaxPingPongLatency_usec',                 \n",
    "# 'RandomlyOrderedRingLatency_usec',         \n",
    "# 'MinPingPongBandwidth_GBytes',             \n",
    "# 'NaturallyOrderedRingBandwidth_GBytes',    \n",
    "# 'RandomlyOrderedRingBandwidth_GBytes',     \n",
    "# 'MinPingPongLatency_usec',                 \n",
    "# 'AvgPingPongLatency_usec',                 \n",
    "# 'MaxPingPongBandwidth_GBytes',             \n",
    "# 'AvgPingPongBandwidth_GBytes',             \n",
    "# 'NaturallyOrderedRingLatency_usec',        \n",
    "# 'MemProc',                                \n",
    "# 'core_count',                              \n",
    "# 'cpu_freq',                                \n",
    "# 'bogo_mips',                              \n",
    "# 'l1_cache',                                \n",
    "# 'l2_cache',                                \n",
    "# 'l3_cache',                                \n",
    "# 'memory_size',                             \n",
    "# 'memory_freq',                             \n",
    "# 'memory_type'], axis=1)"
   ]
  },
  {
   "cell_type": "code",
   "execution_count": 5,
   "metadata": {
    "scrolled": true
   },
   "outputs": [
    {
     "name": "stdout",
     "output_type": "stream",
     "text": [
      "<class 'pandas.core.frame.DataFrame'>\n",
      "Int64Index: 871535 entries, 0 to 871534\n",
      "Data columns (total 79 columns):\n",
      "HPL_Tflops                              871535 non-null float64\n",
      "StarDGEMM_Gflops                        871535 non-null float64\n",
      "SingleDGEMM_Gflops                      871535 non-null float64\n",
      "PTRANS_GBs                              871535 non-null float64\n",
      "MPIRandomAccess_LCG_GUPs                871535 non-null float64\n",
      "MPIRandomAccess_GUPs                    871535 non-null float64\n",
      "StarRandomAccess_LCG_GUPs               871535 non-null float64\n",
      "SingleRandomAccess_LCG_GUPs             871535 non-null float64\n",
      "StarRandomAccess_GUPs                   871535 non-null float64\n",
      "SingleRandomAccess_GUPs                 871535 non-null float64\n",
      "StarSTREAM_Copy                         871535 non-null float64\n",
      "StarSTREAM_Scale                        871535 non-null float64\n",
      "StarSTREAM_Add                          871535 non-null float64\n",
      "StarSTREAM_Triad                        871535 non-null float64\n",
      "SingleSTREAM_Copy                       871535 non-null float64\n",
      "SingleSTREAM_Scale                      871535 non-null float64\n",
      "SingleSTREAM_Add                        871535 non-null float64\n",
      "SingleSTREAM_Triad                      871535 non-null float64\n",
      "StarFFT_Gflops                          871535 non-null float64\n",
      "SingleFFT_Gflops                        871535 non-null float64\n",
      "MPIFFT_Gflops                           871535 non-null float64\n",
      "MaxPingPongLatency_usec                 871535 non-null float64\n",
      "RandomlyOrderedRingLatency_usec         871535 non-null float64\n",
      "MinPingPongBandwidth_GBytes             871535 non-null float64\n",
      "NaturallyOrderedRingBandwidth_GBytes    871535 non-null float64\n",
      "RandomlyOrderedRingBandwidth_GBytes     871535 non-null float64\n",
      "MinPingPongLatency_usec                 871535 non-null float64\n",
      "AvgPingPongLatency_usec                 871535 non-null float64\n",
      "MaxPingPongBandwidth_GBytes             871535 non-null float64\n",
      "AvgPingPongBandwidth_GBytes             871535 non-null float64\n",
      "NaturallyOrderedRingLatency_usec        871535 non-null float64\n",
      "MemProc                                 871535 non-null int64\n",
      "core_count                              871535 non-null int64\n",
      "cpu_freq                                871535 non-null int64\n",
      "bogo_mips                               871535 non-null float64\n",
      "l1_cache                                871535 non-null int64\n",
      "l2_cache                                871535 non-null int64\n",
      "l3_cache                                871535 non-null int64\n",
      "memory_size                             871535 non-null int64\n",
      "memory_freq                             871535 non-null int64\n",
      "memory_type                             871535 non-null int64\n",
      "rows                                    871535 non-null int64\n",
      "cols                                    871535 non-null int64\n",
      "min_nnz_row                             871535 non-null int64\n",
      "row_var                                 871535 non-null float64\n",
      "col_var                                 871535 non-null float64\n",
      "diag_var                                871535 non-null float64\n",
      "nnz                                     871535 non-null int64\n",
      "frob_norm                               871535 non-null float64\n",
      "symm_frob_norm                          871535 non-null float64\n",
      "antisymm_frob_norm                      871535 non-null float64\n",
      "one_norm                                871535 non-null float64\n",
      "inf_norm                                871535 non-null float64\n",
      "symm_inf_norm                           871535 non-null float64\n",
      "antisymm_inf_norm                       871535 non-null float64\n",
      "max_nnz_row                             871535 non-null int64\n",
      "trace                                   871535 non-null float64\n",
      "abs_trace                               871535 non-null float64\n",
      "min_nnz_row.1                           871535 non-null int64\n",
      "avg_nnz_row                             871535 non-null int64\n",
      "dummy_rows                              871535 non-null int64\n",
      "dummy_rows_kind                         871535 non-null int64\n",
      "num_value_symm_1                        871535 non-null int64\n",
      "nnz_pattern_symm_1                      871535 non-null int64\n",
      "num_value_symm_2                        871535 non-null float64\n",
      "nnz_pattern_symm_2                      871535 non-null float64\n",
      "row_diag_dom                            871535 non-null int64\n",
      "col_diag_dom                            871535 non-null int64\n",
      "diag_avg                                871535 non-null float64\n",
      "diag_sign                               871535 non-null int64\n",
      "diag_nnz                                871535 non-null int64\n",
      "lower_bw                                871535 non-null int64\n",
      "upper_bw                                871535 non-null int64\n",
      "row_log_val_spread                      871535 non-null float64\n",
      "col_log_val_spread                      871535 non-null float64\n",
      "symm                                    871535 non-null int64\n",
      "np                                      871535 non-null int64\n",
      "solver_id                               871535 non-null int64\n",
      "prec_id                                 871535 non-null int64\n",
      "dtypes: float64(49), int64(30)\n",
      "memory usage: 531.9 MB\n"
     ]
    }
   ],
   "source": [
    "all_data.info()"
   ]
  },
  {
   "cell_type": "code",
   "execution_count": 6,
   "metadata": {
    "collapsed": true
   },
   "outputs": [],
   "source": [
    "summit_only_data = plain_data[plain_data['system_id'] == 3]\n",
    "summit_only_labels = labels[plain_data['system_id'] == 3]"
   ]
  },
  {
   "cell_type": "code",
   "execution_count": 7,
   "metadata": {
    "scrolled": true
   },
   "outputs": [
    {
     "name": "stdout",
     "output_type": "stream",
     "text": [
      "<class 'pandas.core.frame.DataFrame'>\n",
      "Int64Index: 203878 entries, 622584 to 826461\n",
      "Data columns (total 39 columns):\n",
      "system_id             203878 non-null int64\n",
      "rows                  203878 non-null int64\n",
      "cols                  203878 non-null int64\n",
      "min_nnz_row           203878 non-null int64\n",
      "row_var               203878 non-null float64\n",
      "col_var               203878 non-null float64\n",
      "diag_var              203878 non-null float64\n",
      "nnz                   203878 non-null int64\n",
      "frob_norm             203878 non-null float64\n",
      "symm_frob_norm        203878 non-null float64\n",
      "antisymm_frob_norm    203878 non-null float64\n",
      "one_norm              203878 non-null float64\n",
      "inf_norm              203878 non-null float64\n",
      "symm_inf_norm         203878 non-null float64\n",
      "antisymm_inf_norm     203878 non-null float64\n",
      "max_nnz_row           203878 non-null int64\n",
      "trace                 203878 non-null float64\n",
      "abs_trace             203878 non-null float64\n",
      "min_nnz_row.1         203878 non-null int64\n",
      "avg_nnz_row           203878 non-null int64\n",
      "dummy_rows            203878 non-null int64\n",
      "dummy_rows_kind       203878 non-null int64\n",
      "num_value_symm_1      203878 non-null int64\n",
      "nnz_pattern_symm_1    203878 non-null int64\n",
      "num_value_symm_2      203878 non-null float64\n",
      "nnz_pattern_symm_2    203878 non-null float64\n",
      "row_diag_dom          203878 non-null int64\n",
      "col_diag_dom          203878 non-null int64\n",
      "diag_avg              203878 non-null float64\n",
      "diag_sign             203878 non-null int64\n",
      "diag_nnz              203878 non-null int64\n",
      "lower_bw              203878 non-null int64\n",
      "upper_bw              203878 non-null int64\n",
      "row_log_val_spread    203878 non-null float64\n",
      "col_log_val_spread    203878 non-null float64\n",
      "symm                  203878 non-null int64\n",
      "np                    203878 non-null int64\n",
      "solver_id             203878 non-null int64\n",
      "prec_id               203878 non-null int64\n",
      "dtypes: float64(17), int64(22)\n",
      "memory usage: 62.2 MB\n",
      "<class 'pandas.core.frame.DataFrame'>\n",
      "Int64Index: 203878 entries, 622584 to 826461\n",
      "Data columns (total 6 columns):\n",
      "error                    203878 non-null int64\n",
      "converged                203878 non-null int64\n",
      "fastest_np_and_system    203878 non-null int64\n",
      "fastest_np               203878 non-null int64\n",
      "fastest_sys              203878 non-null int64\n",
      "fastest_overall          203878 non-null int64\n",
      "dtypes: int64(6)\n",
      "memory usage: 10.9 MB\n"
     ]
    }
   ],
   "source": [
    "summit_only_data.info()\n",
    "summit_only_labels.info()"
   ]
  },
  {
   "cell_type": "code",
   "execution_count": 6,
   "metadata": {
    "scrolled": true
   },
   "outputs": [
    {
     "data": {
      "text/plain": [
       "array([[0, 1, 0, 0, 0, 0],\n",
       "       [0, 1, 0, 0, 0, 0],\n",
       "       [0, 0, 0, 0, 0, 0],\n",
       "       ..., \n",
       "       [0, 1, 0, 0, 0, 0],\n",
       "       [0, 1, 0, 0, 0, 0],\n",
       "       [0, 1, 0, 0, 0, 0]], dtype=int64)"
      ]
     },
     "execution_count": 6,
     "metadata": {},
     "output_type": "execute_result"
    }
   ],
   "source": [
    "X = all_data.as_matrix()\n",
    "y = labels.as_matrix()\n",
    "y"
   ]
  },
  {
   "cell_type": "code",
   "execution_count": 7,
   "metadata": {},
   "outputs": [
    {
     "data": {
      "text/plain": [
       "['all_data_classifier.pkl']"
      ]
     },
     "execution_count": 7,
     "metadata": {},
     "output_type": "execute_result"
    }
   ],
   "source": [
    "from sklearn.externals import joblib\n",
    "classifier = RandomForestClassifier()\n",
    "classifier = classifier.fit(X,y)\n",
    "joblib.dump(classifier, 'all_data_classifier.pkl')"
   ]
  },
  {
   "cell_type": "code",
   "execution_count": 17,
   "metadata": {
    "collapsed": true
   },
   "outputs": [],
   "source": [
    "classifier = RandomForestClassifier()\n",
    "sss = StratifiedShuffleSplit()\n",
    "y_preds = []\n",
    "y_tests = []\n",
    "i = 0\n",
    "for train_index, test_index in sss.split(X, y):\n",
    "    X_train, X_test = X[train_index], X[test_index]\n",
    "    y_train, y_test = y[train_index], y[test_index]\n",
    "    classifier.fit(X_train, y_train)\n",
    "    y_preds.append(classifier.predict(X_test))\n",
    "    y_tests.append(y_test)\n",
    "    i+=1"
   ]
  },
  {
   "cell_type": "code",
   "execution_count": 36,
   "metadata": {
    "scrolled": true
   },
   "outputs": [
    {
     "ename": "KeyboardInterrupt",
     "evalue": "",
     "output_type": "error",
     "traceback": [
      "\u001b[0;31m---------------------------------------------------------------------------\u001b[0m",
      "\u001b[0;31mKeyboardInterrupt\u001b[0m                         Traceback (most recent call last)",
      "\u001b[0;32m<ipython-input-36-0c3d67d41e9f>\u001b[0m in \u001b[0;36m<module>\u001b[0;34m()\u001b[0m\n\u001b[1;32m      8\u001b[0m     \u001b[0mX_train\u001b[0m\u001b[1;33m,\u001b[0m \u001b[0mX_test\u001b[0m \u001b[1;33m=\u001b[0m \u001b[0mX\u001b[0m\u001b[1;33m[\u001b[0m\u001b[0mtrain_index\u001b[0m\u001b[1;33m]\u001b[0m\u001b[1;33m,\u001b[0m \u001b[0mX\u001b[0m\u001b[1;33m[\u001b[0m\u001b[0mtest_index\u001b[0m\u001b[1;33m]\u001b[0m\u001b[1;33m\u001b[0m\u001b[0m\n\u001b[1;32m      9\u001b[0m     \u001b[0my_train\u001b[0m\u001b[1;33m,\u001b[0m \u001b[0my_test\u001b[0m \u001b[1;33m=\u001b[0m \u001b[0my\u001b[0m\u001b[1;33m[\u001b[0m\u001b[0mtrain_index\u001b[0m\u001b[1;33m]\u001b[0m\u001b[1;33m,\u001b[0m \u001b[0my\u001b[0m\u001b[1;33m[\u001b[0m\u001b[0mtest_index\u001b[0m\u001b[1;33m]\u001b[0m\u001b[1;33m\u001b[0m\u001b[0m\n\u001b[0;32m---> 10\u001b[0;31m     \u001b[0mclassifier\u001b[0m\u001b[1;33m.\u001b[0m\u001b[0mfit\u001b[0m\u001b[1;33m(\u001b[0m\u001b[0mX_train\u001b[0m\u001b[1;33m,\u001b[0m \u001b[0my_train\u001b[0m\u001b[1;33m)\u001b[0m\u001b[1;33m\u001b[0m\u001b[0m\n\u001b[0m\u001b[1;32m     11\u001b[0m     \u001b[0mloo_y_preds\u001b[0m\u001b[1;33m.\u001b[0m\u001b[0mappend\u001b[0m\u001b[1;33m(\u001b[0m\u001b[0mclassifier\u001b[0m\u001b[1;33m.\u001b[0m\u001b[0mpredict\u001b[0m\u001b[1;33m(\u001b[0m\u001b[0mX_test\u001b[0m\u001b[1;33m)\u001b[0m\u001b[1;33m)\u001b[0m\u001b[1;33m\u001b[0m\u001b[0m\n\u001b[1;32m     12\u001b[0m     \u001b[0mloo_y_tests\u001b[0m\u001b[1;33m.\u001b[0m\u001b[0mappend\u001b[0m\u001b[1;33m(\u001b[0m\u001b[0my_test\u001b[0m\u001b[1;33m)\u001b[0m\u001b[1;33m\u001b[0m\u001b[0m\n",
      "\u001b[0;32mC:\\Anaconda3\\lib\\site-packages\\sklearn\\ensemble\\forest.py\u001b[0m in \u001b[0;36mfit\u001b[0;34m(self, X, y, sample_weight)\u001b[0m\n\u001b[1;32m    324\u001b[0m                     \u001b[0mt\u001b[0m\u001b[1;33m,\u001b[0m \u001b[0mself\u001b[0m\u001b[1;33m,\u001b[0m \u001b[0mX\u001b[0m\u001b[1;33m,\u001b[0m \u001b[0my\u001b[0m\u001b[1;33m,\u001b[0m \u001b[0msample_weight\u001b[0m\u001b[1;33m,\u001b[0m \u001b[0mi\u001b[0m\u001b[1;33m,\u001b[0m \u001b[0mlen\u001b[0m\u001b[1;33m(\u001b[0m\u001b[0mtrees\u001b[0m\u001b[1;33m)\u001b[0m\u001b[1;33m,\u001b[0m\u001b[1;33m\u001b[0m\u001b[0m\n\u001b[1;32m    325\u001b[0m                     verbose=self.verbose, class_weight=self.class_weight)\n\u001b[0;32m--> 326\u001b[0;31m                 for i, t in enumerate(trees))\n\u001b[0m\u001b[1;32m    327\u001b[0m \u001b[1;33m\u001b[0m\u001b[0m\n\u001b[1;32m    328\u001b[0m             \u001b[1;31m# Collect newly grown trees\u001b[0m\u001b[1;33m\u001b[0m\u001b[1;33m\u001b[0m\u001b[0m\n",
      "\u001b[0;32mC:\\Anaconda3\\lib\\site-packages\\sklearn\\externals\\joblib\\parallel.py\u001b[0m in \u001b[0;36m__call__\u001b[0;34m(self, iterable)\u001b[0m\n\u001b[1;32m    756\u001b[0m             \u001b[1;31m# was dispatched. In particular this covers the edge\u001b[0m\u001b[1;33m\u001b[0m\u001b[1;33m\u001b[0m\u001b[0m\n\u001b[1;32m    757\u001b[0m             \u001b[1;31m# case of Parallel used with an exhausted iterator.\u001b[0m\u001b[1;33m\u001b[0m\u001b[1;33m\u001b[0m\u001b[0m\n\u001b[0;32m--> 758\u001b[0;31m             \u001b[1;32mwhile\u001b[0m \u001b[0mself\u001b[0m\u001b[1;33m.\u001b[0m\u001b[0mdispatch_one_batch\u001b[0m\u001b[1;33m(\u001b[0m\u001b[0miterator\u001b[0m\u001b[1;33m)\u001b[0m\u001b[1;33m:\u001b[0m\u001b[1;33m\u001b[0m\u001b[0m\n\u001b[0m\u001b[1;32m    759\u001b[0m                 \u001b[0mself\u001b[0m\u001b[1;33m.\u001b[0m\u001b[0m_iterating\u001b[0m \u001b[1;33m=\u001b[0m \u001b[1;32mTrue\u001b[0m\u001b[1;33m\u001b[0m\u001b[0m\n\u001b[1;32m    760\u001b[0m             \u001b[1;32melse\u001b[0m\u001b[1;33m:\u001b[0m\u001b[1;33m\u001b[0m\u001b[0m\n",
      "\u001b[0;32mC:\\Anaconda3\\lib\\site-packages\\sklearn\\externals\\joblib\\parallel.py\u001b[0m in \u001b[0;36mdispatch_one_batch\u001b[0;34m(self, iterator)\u001b[0m\n\u001b[1;32m    606\u001b[0m                 \u001b[1;32mreturn\u001b[0m \u001b[1;32mFalse\u001b[0m\u001b[1;33m\u001b[0m\u001b[0m\n\u001b[1;32m    607\u001b[0m             \u001b[1;32melse\u001b[0m\u001b[1;33m:\u001b[0m\u001b[1;33m\u001b[0m\u001b[0m\n\u001b[0;32m--> 608\u001b[0;31m                 \u001b[0mself\u001b[0m\u001b[1;33m.\u001b[0m\u001b[0m_dispatch\u001b[0m\u001b[1;33m(\u001b[0m\u001b[0mtasks\u001b[0m\u001b[1;33m)\u001b[0m\u001b[1;33m\u001b[0m\u001b[0m\n\u001b[0m\u001b[1;32m    609\u001b[0m                 \u001b[1;32mreturn\u001b[0m \u001b[1;32mTrue\u001b[0m\u001b[1;33m\u001b[0m\u001b[0m\n\u001b[1;32m    610\u001b[0m \u001b[1;33m\u001b[0m\u001b[0m\n",
      "\u001b[0;32mC:\\Anaconda3\\lib\\site-packages\\sklearn\\externals\\joblib\\parallel.py\u001b[0m in \u001b[0;36m_dispatch\u001b[0;34m(self, batch)\u001b[0m\n\u001b[1;32m    569\u001b[0m         \u001b[0mdispatch_timestamp\u001b[0m \u001b[1;33m=\u001b[0m \u001b[0mtime\u001b[0m\u001b[1;33m.\u001b[0m\u001b[0mtime\u001b[0m\u001b[1;33m(\u001b[0m\u001b[1;33m)\u001b[0m\u001b[1;33m\u001b[0m\u001b[0m\n\u001b[1;32m    570\u001b[0m         \u001b[0mcb\u001b[0m \u001b[1;33m=\u001b[0m \u001b[0mBatchCompletionCallBack\u001b[0m\u001b[1;33m(\u001b[0m\u001b[0mdispatch_timestamp\u001b[0m\u001b[1;33m,\u001b[0m \u001b[0mlen\u001b[0m\u001b[1;33m(\u001b[0m\u001b[0mbatch\u001b[0m\u001b[1;33m)\u001b[0m\u001b[1;33m,\u001b[0m \u001b[0mself\u001b[0m\u001b[1;33m)\u001b[0m\u001b[1;33m\u001b[0m\u001b[0m\n\u001b[0;32m--> 571\u001b[0;31m         \u001b[0mjob\u001b[0m \u001b[1;33m=\u001b[0m \u001b[0mself\u001b[0m\u001b[1;33m.\u001b[0m\u001b[0m_backend\u001b[0m\u001b[1;33m.\u001b[0m\u001b[0mapply_async\u001b[0m\u001b[1;33m(\u001b[0m\u001b[0mbatch\u001b[0m\u001b[1;33m,\u001b[0m \u001b[0mcallback\u001b[0m\u001b[1;33m=\u001b[0m\u001b[0mcb\u001b[0m\u001b[1;33m)\u001b[0m\u001b[1;33m\u001b[0m\u001b[0m\n\u001b[0m\u001b[1;32m    572\u001b[0m         \u001b[0mself\u001b[0m\u001b[1;33m.\u001b[0m\u001b[0m_jobs\u001b[0m\u001b[1;33m.\u001b[0m\u001b[0mappend\u001b[0m\u001b[1;33m(\u001b[0m\u001b[0mjob\u001b[0m\u001b[1;33m)\u001b[0m\u001b[1;33m\u001b[0m\u001b[0m\n\u001b[1;32m    573\u001b[0m \u001b[1;33m\u001b[0m\u001b[0m\n",
      "\u001b[0;32mC:\\Anaconda3\\lib\\site-packages\\sklearn\\externals\\joblib\\_parallel_backends.py\u001b[0m in \u001b[0;36mapply_async\u001b[0;34m(self, func, callback)\u001b[0m\n\u001b[1;32m    107\u001b[0m     \u001b[1;32mdef\u001b[0m \u001b[0mapply_async\u001b[0m\u001b[1;33m(\u001b[0m\u001b[0mself\u001b[0m\u001b[1;33m,\u001b[0m \u001b[0mfunc\u001b[0m\u001b[1;33m,\u001b[0m \u001b[0mcallback\u001b[0m\u001b[1;33m=\u001b[0m\u001b[1;32mNone\u001b[0m\u001b[1;33m)\u001b[0m\u001b[1;33m:\u001b[0m\u001b[1;33m\u001b[0m\u001b[0m\n\u001b[1;32m    108\u001b[0m         \u001b[1;34m\"\"\"Schedule a func to be run\"\"\"\u001b[0m\u001b[1;33m\u001b[0m\u001b[0m\n\u001b[0;32m--> 109\u001b[0;31m         \u001b[0mresult\u001b[0m \u001b[1;33m=\u001b[0m \u001b[0mImmediateResult\u001b[0m\u001b[1;33m(\u001b[0m\u001b[0mfunc\u001b[0m\u001b[1;33m)\u001b[0m\u001b[1;33m\u001b[0m\u001b[0m\n\u001b[0m\u001b[1;32m    110\u001b[0m         \u001b[1;32mif\u001b[0m \u001b[0mcallback\u001b[0m\u001b[1;33m:\u001b[0m\u001b[1;33m\u001b[0m\u001b[0m\n\u001b[1;32m    111\u001b[0m             \u001b[0mcallback\u001b[0m\u001b[1;33m(\u001b[0m\u001b[0mresult\u001b[0m\u001b[1;33m)\u001b[0m\u001b[1;33m\u001b[0m\u001b[0m\n",
      "\u001b[0;32mC:\\Anaconda3\\lib\\site-packages\\sklearn\\externals\\joblib\\_parallel_backends.py\u001b[0m in \u001b[0;36m__init__\u001b[0;34m(self, batch)\u001b[0m\n\u001b[1;32m    324\u001b[0m         \u001b[1;31m# Don't delay the application, to avoid keeping the input\u001b[0m\u001b[1;33m\u001b[0m\u001b[1;33m\u001b[0m\u001b[0m\n\u001b[1;32m    325\u001b[0m         \u001b[1;31m# arguments in memory\u001b[0m\u001b[1;33m\u001b[0m\u001b[1;33m\u001b[0m\u001b[0m\n\u001b[0;32m--> 326\u001b[0;31m         \u001b[0mself\u001b[0m\u001b[1;33m.\u001b[0m\u001b[0mresults\u001b[0m \u001b[1;33m=\u001b[0m \u001b[0mbatch\u001b[0m\u001b[1;33m(\u001b[0m\u001b[1;33m)\u001b[0m\u001b[1;33m\u001b[0m\u001b[0m\n\u001b[0m\u001b[1;32m    327\u001b[0m \u001b[1;33m\u001b[0m\u001b[0m\n\u001b[1;32m    328\u001b[0m     \u001b[1;32mdef\u001b[0m \u001b[0mget\u001b[0m\u001b[1;33m(\u001b[0m\u001b[0mself\u001b[0m\u001b[1;33m)\u001b[0m\u001b[1;33m:\u001b[0m\u001b[1;33m\u001b[0m\u001b[0m\n",
      "\u001b[0;32mC:\\Anaconda3\\lib\\site-packages\\sklearn\\externals\\joblib\\parallel.py\u001b[0m in \u001b[0;36m__call__\u001b[0;34m(self)\u001b[0m\n\u001b[1;32m    129\u001b[0m \u001b[1;33m\u001b[0m\u001b[0m\n\u001b[1;32m    130\u001b[0m     \u001b[1;32mdef\u001b[0m \u001b[0m__call__\u001b[0m\u001b[1;33m(\u001b[0m\u001b[0mself\u001b[0m\u001b[1;33m)\u001b[0m\u001b[1;33m:\u001b[0m\u001b[1;33m\u001b[0m\u001b[0m\n\u001b[0;32m--> 131\u001b[0;31m         \u001b[1;32mreturn\u001b[0m \u001b[1;33m[\u001b[0m\u001b[0mfunc\u001b[0m\u001b[1;33m(\u001b[0m\u001b[1;33m*\u001b[0m\u001b[0margs\u001b[0m\u001b[1;33m,\u001b[0m \u001b[1;33m**\u001b[0m\u001b[0mkwargs\u001b[0m\u001b[1;33m)\u001b[0m \u001b[1;32mfor\u001b[0m \u001b[0mfunc\u001b[0m\u001b[1;33m,\u001b[0m \u001b[0margs\u001b[0m\u001b[1;33m,\u001b[0m \u001b[0mkwargs\u001b[0m \u001b[1;32min\u001b[0m \u001b[0mself\u001b[0m\u001b[1;33m.\u001b[0m\u001b[0mitems\u001b[0m\u001b[1;33m]\u001b[0m\u001b[1;33m\u001b[0m\u001b[0m\n\u001b[0m\u001b[1;32m    132\u001b[0m \u001b[1;33m\u001b[0m\u001b[0m\n\u001b[1;32m    133\u001b[0m     \u001b[1;32mdef\u001b[0m \u001b[0m__len__\u001b[0m\u001b[1;33m(\u001b[0m\u001b[0mself\u001b[0m\u001b[1;33m)\u001b[0m\u001b[1;33m:\u001b[0m\u001b[1;33m\u001b[0m\u001b[0m\n",
      "\u001b[0;32mC:\\Anaconda3\\lib\\site-packages\\sklearn\\externals\\joblib\\parallel.py\u001b[0m in \u001b[0;36m<listcomp>\u001b[0;34m(.0)\u001b[0m\n\u001b[1;32m    129\u001b[0m \u001b[1;33m\u001b[0m\u001b[0m\n\u001b[1;32m    130\u001b[0m     \u001b[1;32mdef\u001b[0m \u001b[0m__call__\u001b[0m\u001b[1;33m(\u001b[0m\u001b[0mself\u001b[0m\u001b[1;33m)\u001b[0m\u001b[1;33m:\u001b[0m\u001b[1;33m\u001b[0m\u001b[0m\n\u001b[0;32m--> 131\u001b[0;31m         \u001b[1;32mreturn\u001b[0m \u001b[1;33m[\u001b[0m\u001b[0mfunc\u001b[0m\u001b[1;33m(\u001b[0m\u001b[1;33m*\u001b[0m\u001b[0margs\u001b[0m\u001b[1;33m,\u001b[0m \u001b[1;33m**\u001b[0m\u001b[0mkwargs\u001b[0m\u001b[1;33m)\u001b[0m \u001b[1;32mfor\u001b[0m \u001b[0mfunc\u001b[0m\u001b[1;33m,\u001b[0m \u001b[0margs\u001b[0m\u001b[1;33m,\u001b[0m \u001b[0mkwargs\u001b[0m \u001b[1;32min\u001b[0m \u001b[0mself\u001b[0m\u001b[1;33m.\u001b[0m\u001b[0mitems\u001b[0m\u001b[1;33m]\u001b[0m\u001b[1;33m\u001b[0m\u001b[0m\n\u001b[0m\u001b[1;32m    132\u001b[0m \u001b[1;33m\u001b[0m\u001b[0m\n\u001b[1;32m    133\u001b[0m     \u001b[1;32mdef\u001b[0m \u001b[0m__len__\u001b[0m\u001b[1;33m(\u001b[0m\u001b[0mself\u001b[0m\u001b[1;33m)\u001b[0m\u001b[1;33m:\u001b[0m\u001b[1;33m\u001b[0m\u001b[0m\n",
      "\u001b[0;32mC:\\Anaconda3\\lib\\site-packages\\sklearn\\ensemble\\forest.py\u001b[0m in \u001b[0;36m_parallel_build_trees\u001b[0;34m(tree, forest, X, y, sample_weight, tree_idx, n_trees, verbose, class_weight)\u001b[0m\n\u001b[1;32m    118\u001b[0m             \u001b[0mcurr_sample_weight\u001b[0m \u001b[1;33m*=\u001b[0m \u001b[0mcompute_sample_weight\u001b[0m\u001b[1;33m(\u001b[0m\u001b[1;34m'balanced'\u001b[0m\u001b[1;33m,\u001b[0m \u001b[0my\u001b[0m\u001b[1;33m,\u001b[0m \u001b[0mindices\u001b[0m\u001b[1;33m)\u001b[0m\u001b[1;33m\u001b[0m\u001b[0m\n\u001b[1;32m    119\u001b[0m \u001b[1;33m\u001b[0m\u001b[0m\n\u001b[0;32m--> 120\u001b[0;31m         \u001b[0mtree\u001b[0m\u001b[1;33m.\u001b[0m\u001b[0mfit\u001b[0m\u001b[1;33m(\u001b[0m\u001b[0mX\u001b[0m\u001b[1;33m,\u001b[0m \u001b[0my\u001b[0m\u001b[1;33m,\u001b[0m \u001b[0msample_weight\u001b[0m\u001b[1;33m=\u001b[0m\u001b[0mcurr_sample_weight\u001b[0m\u001b[1;33m,\u001b[0m \u001b[0mcheck_input\u001b[0m\u001b[1;33m=\u001b[0m\u001b[1;32mFalse\u001b[0m\u001b[1;33m)\u001b[0m\u001b[1;33m\u001b[0m\u001b[0m\n\u001b[0m\u001b[1;32m    121\u001b[0m     \u001b[1;32melse\u001b[0m\u001b[1;33m:\u001b[0m\u001b[1;33m\u001b[0m\u001b[0m\n\u001b[1;32m    122\u001b[0m         \u001b[0mtree\u001b[0m\u001b[1;33m.\u001b[0m\u001b[0mfit\u001b[0m\u001b[1;33m(\u001b[0m\u001b[0mX\u001b[0m\u001b[1;33m,\u001b[0m \u001b[0my\u001b[0m\u001b[1;33m,\u001b[0m \u001b[0msample_weight\u001b[0m\u001b[1;33m=\u001b[0m\u001b[0msample_weight\u001b[0m\u001b[1;33m,\u001b[0m \u001b[0mcheck_input\u001b[0m\u001b[1;33m=\u001b[0m\u001b[1;32mFalse\u001b[0m\u001b[1;33m)\u001b[0m\u001b[1;33m\u001b[0m\u001b[0m\n",
      "\u001b[0;32mC:\\Anaconda3\\lib\\site-packages\\sklearn\\tree\\tree.py\u001b[0m in \u001b[0;36mfit\u001b[0;34m(self, X, y, sample_weight, check_input, X_idx_sorted)\u001b[0m\n\u001b[1;32m    737\u001b[0m             \u001b[0msample_weight\u001b[0m\u001b[1;33m=\u001b[0m\u001b[0msample_weight\u001b[0m\u001b[1;33m,\u001b[0m\u001b[1;33m\u001b[0m\u001b[0m\n\u001b[1;32m    738\u001b[0m             \u001b[0mcheck_input\u001b[0m\u001b[1;33m=\u001b[0m\u001b[0mcheck_input\u001b[0m\u001b[1;33m,\u001b[0m\u001b[1;33m\u001b[0m\u001b[0m\n\u001b[0;32m--> 739\u001b[0;31m             X_idx_sorted=X_idx_sorted)\n\u001b[0m\u001b[1;32m    740\u001b[0m         \u001b[1;32mreturn\u001b[0m \u001b[0mself\u001b[0m\u001b[1;33m\u001b[0m\u001b[0m\n\u001b[1;32m    741\u001b[0m \u001b[1;33m\u001b[0m\u001b[0m\n",
      "\u001b[0;32mC:\\Anaconda3\\lib\\site-packages\\sklearn\\tree\\tree.py\u001b[0m in \u001b[0;36mfit\u001b[0;34m(self, X, y, sample_weight, check_input, X_idx_sorted)\u001b[0m\n\u001b[1;32m    156\u001b[0m             \u001b[1;32mfor\u001b[0m \u001b[0mk\u001b[0m \u001b[1;32min\u001b[0m \u001b[0mrange\u001b[0m\u001b[1;33m(\u001b[0m\u001b[0mself\u001b[0m\u001b[1;33m.\u001b[0m\u001b[0mn_outputs_\u001b[0m\u001b[1;33m)\u001b[0m\u001b[1;33m:\u001b[0m\u001b[1;33m\u001b[0m\u001b[0m\n\u001b[1;32m    157\u001b[0m                 classes_k, y_encoded[:, k] = np.unique(y[:, k],\n\u001b[0;32m--> 158\u001b[0;31m                                                        return_inverse=True)\n\u001b[0m\u001b[1;32m    159\u001b[0m                 \u001b[0mself\u001b[0m\u001b[1;33m.\u001b[0m\u001b[0mclasses_\u001b[0m\u001b[1;33m.\u001b[0m\u001b[0mappend\u001b[0m\u001b[1;33m(\u001b[0m\u001b[0mclasses_k\u001b[0m\u001b[1;33m)\u001b[0m\u001b[1;33m\u001b[0m\u001b[0m\n\u001b[1;32m    160\u001b[0m                 \u001b[0mself\u001b[0m\u001b[1;33m.\u001b[0m\u001b[0mn_classes_\u001b[0m\u001b[1;33m.\u001b[0m\u001b[0mappend\u001b[0m\u001b[1;33m(\u001b[0m\u001b[0mclasses_k\u001b[0m\u001b[1;33m.\u001b[0m\u001b[0mshape\u001b[0m\u001b[1;33m[\u001b[0m\u001b[1;36m0\u001b[0m\u001b[1;33m]\u001b[0m\u001b[1;33m)\u001b[0m\u001b[1;33m\u001b[0m\u001b[0m\n",
      "\u001b[0;32mC:\\Anaconda3\\lib\\site-packages\\numpy\\lib\\arraysetops.py\u001b[0m in \u001b[0;36munique\u001b[0;34m(ar, return_index, return_inverse, return_counts)\u001b[0m\n\u001b[1;32m    193\u001b[0m \u001b[1;33m\u001b[0m\u001b[0m\n\u001b[1;32m    194\u001b[0m     \u001b[1;32mif\u001b[0m \u001b[0moptional_indices\u001b[0m\u001b[1;33m:\u001b[0m\u001b[1;33m\u001b[0m\u001b[0m\n\u001b[0;32m--> 195\u001b[0;31m         \u001b[0mperm\u001b[0m \u001b[1;33m=\u001b[0m \u001b[0mar\u001b[0m\u001b[1;33m.\u001b[0m\u001b[0margsort\u001b[0m\u001b[1;33m(\u001b[0m\u001b[0mkind\u001b[0m\u001b[1;33m=\u001b[0m\u001b[1;34m'mergesort'\u001b[0m \u001b[1;32mif\u001b[0m \u001b[0mreturn_index\u001b[0m \u001b[1;32melse\u001b[0m \u001b[1;34m'quicksort'\u001b[0m\u001b[1;33m)\u001b[0m\u001b[1;33m\u001b[0m\u001b[0m\n\u001b[0m\u001b[1;32m    196\u001b[0m         \u001b[0maux\u001b[0m \u001b[1;33m=\u001b[0m \u001b[0mar\u001b[0m\u001b[1;33m[\u001b[0m\u001b[0mperm\u001b[0m\u001b[1;33m]\u001b[0m\u001b[1;33m\u001b[0m\u001b[0m\n\u001b[1;32m    197\u001b[0m     \u001b[1;32melse\u001b[0m\u001b[1;33m:\u001b[0m\u001b[1;33m\u001b[0m\u001b[0m\n",
      "\u001b[0;31mKeyboardInterrupt\u001b[0m: "
     ]
    }
   ],
   "source": [
    "from sklearn.model_selection import LeaveOneOut\n",
    "classifier = RandomForestClassifier()\n",
    "sss = LeaveOneOut()\n",
    "loo_y_preds = []\n",
    "loo_y_tests = []\n",
    "i = 0\n",
    "for train_index, test_index in sss.split(X, y):\n",
    "    X_train, X_test = X[train_index], X[test_index]\n",
    "    y_train, y_test = y[train_index], y[test_index]\n",
    "    classifier.fit(X_train, y_train)\n",
    "    loo_y_preds.append(classifier.predict(X_test))\n",
    "    loo_y_tests.append(y_test)\n",
    "    i+=1"
   ]
  },
  {
   "cell_type": "code",
   "execution_count": 31,
   "metadata": {},
   "outputs": [
    {
     "data": {
      "text/plain": [
       "10"
      ]
     },
     "execution_count": 31,
     "metadata": {},
     "output_type": "execute_result"
    }
   ],
   "source": [
    "from sklearn.neighbors import KNeighborsClassifier\n",
    "classifier = KNeighborsClassifier()\n",
    "sss = StratifiedShuffleSplit()\n",
    "y_preds = []\n",
    "y_tests = []\n",
    "i = 0\n",
    "for train_index, test_index in sss.split(X, y):\n",
    "    X_train, X_test = X[train_index], X[test_index]\n",
    "    y_train, y_test = y[train_index], y[test_index]\n",
    "    classifier.fit(X_train, y_train)\n",
    "    y_preds.append(classifier.predict(X_test))\n",
    "    y_tests.append(y_test)\n",
    "    i+=1"
   ]
  },
  {
   "cell_type": "code",
   "execution_count": 32,
   "metadata": {
    "scrolled": true
   },
   "outputs": [
    {
     "data": {
      "text/plain": [
       "[array([[0, 0, 0, 0, 0, 0],\n",
       "        [1, 0, 0, 0, 0, 0],\n",
       "        [0, 0, 0, 0, 0, 0],\n",
       "        ..., \n",
       "        [1, 0, 0, 0, 0, 0],\n",
       "        [0, 0, 0, 0, 0, 0],\n",
       "        [1, 0, 0, 0, 0, 0]]), array([[1, 0, 0, 0, 0, 0],\n",
       "        [0, 0, 0, 0, 0, 0],\n",
       "        [0, 1, 0, 0, 0, 0],\n",
       "        ..., \n",
       "        [1, 0, 0, 0, 0, 0],\n",
       "        [0, 0, 0, 0, 0, 0],\n",
       "        [0, 0, 0, 0, 0, 0]]), array([[0, 0, 0, 0, 0, 0],\n",
       "        [1, 0, 0, 0, 0, 0],\n",
       "        [1, 0, 0, 0, 0, 0],\n",
       "        ..., \n",
       "        [0, 0, 0, 0, 0, 0],\n",
       "        [1, 0, 0, 0, 0, 0],\n",
       "        [0, 0, 0, 0, 0, 0]]), array([[1, 0, 0, 0, 0, 0],\n",
       "        [0, 0, 0, 0, 0, 0],\n",
       "        [0, 0, 0, 0, 0, 0],\n",
       "        ..., \n",
       "        [1, 0, 0, 0, 0, 0],\n",
       "        [1, 0, 0, 0, 0, 0],\n",
       "        [0, 1, 0, 0, 0, 0]]), array([[0, 0, 0, 0, 0, 0],\n",
       "        [1, 0, 0, 0, 0, 0],\n",
       "        [0, 0, 0, 0, 0, 0],\n",
       "        ..., \n",
       "        [0, 0, 0, 0, 0, 0],\n",
       "        [1, 0, 0, 0, 0, 0],\n",
       "        [0, 0, 0, 0, 0, 0]]), array([[0, 0, 0, 0, 0, 0],\n",
       "        [1, 0, 0, 0, 0, 0],\n",
       "        [0, 1, 0, 0, 0, 0],\n",
       "        ..., \n",
       "        [1, 0, 0, 0, 0, 0],\n",
       "        [0, 1, 0, 0, 0, 0],\n",
       "        [0, 0, 0, 0, 0, 0]]), array([[1, 0, 0, 0, 0, 0],\n",
       "        [0, 1, 0, 0, 0, 0],\n",
       "        [0, 1, 0, 0, 0, 0],\n",
       "        ..., \n",
       "        [0, 1, 0, 0, 0, 0],\n",
       "        [1, 0, 0, 0, 0, 0],\n",
       "        [0, 0, 0, 0, 0, 0]]), array([[0, 0, 0, 0, 0, 0],\n",
       "        [0, 0, 0, 0, 0, 0],\n",
       "        [0, 1, 0, 0, 0, 0],\n",
       "        ..., \n",
       "        [0, 0, 0, 0, 0, 0],\n",
       "        [0, 1, 0, 0, 0, 0],\n",
       "        [0, 1, 0, 0, 0, 0]]), array([[1, 0, 0, 0, 0, 0],\n",
       "        [0, 0, 0, 0, 0, 0],\n",
       "        [0, 0, 0, 0, 0, 0],\n",
       "        ..., \n",
       "        [0, 0, 0, 0, 0, 0],\n",
       "        [0, 0, 0, 0, 0, 0],\n",
       "        [0, 1, 0, 0, 0, 0]]), array([[1, 0, 0, 0, 0, 0],\n",
       "        [0, 0, 0, 0, 0, 0],\n",
       "        [0, 0, 0, 0, 0, 0],\n",
       "        ..., \n",
       "        [0, 0, 0, 0, 0, 0],\n",
       "        [1, 0, 0, 0, 0, 0],\n",
       "        [0, 0, 0, 0, 0, 0]])]"
      ]
     },
     "execution_count": 32,
     "metadata": {},
     "output_type": "execute_result"
    }
   ],
   "source": [
    "j = i\n",
    "for i in range(0,j):\n",
    "    y_preds[i] = y_preds[i].astype(int)\n",
    "y_preds"
   ]
  },
  {
   "cell_type": "code",
   "execution_count": 33,
   "metadata": {},
   "outputs": [
    {
     "name": "stdout",
     "output_type": "stream",
     "text": [
      "             precision    recall  f1-score   support\n",
      "\n",
      "          0       0.66      0.63      0.65     35778\n",
      "          1       0.69      0.57      0.62     17875\n",
      "          2       0.45      0.12      0.19      2156\n",
      "          3       0.43      0.12      0.18       694\n",
      "          4       0.21      0.03      0.05       386\n",
      "          5       0.17      0.02      0.04        88\n",
      "\n",
      "avg / total       0.66      0.58      0.61     56977\n",
      "\n",
      "             precision    recall  f1-score   support\n",
      "\n",
      "          0       0.66      0.63      0.65     35723\n",
      "          1       0.69      0.56      0.62     17868\n",
      "          2       0.43      0.11      0.18      2188\n",
      "          3       0.37      0.09      0.15       729\n",
      "          4       0.10      0.01      0.02       407\n",
      "          5       0.11      0.01      0.02        94\n",
      "\n",
      "avg / total       0.65      0.58      0.61     57009\n",
      "\n",
      "             precision    recall  f1-score   support\n",
      "\n",
      "          0       0.67      0.64      0.66     35994\n",
      "          1       0.68      0.57      0.62     17682\n",
      "          2       0.41      0.11      0.17      2128\n",
      "          3       0.35      0.09      0.14       684\n",
      "          4       0.19      0.03      0.05       357\n",
      "          5       0.06      0.01      0.02        78\n",
      "\n",
      "avg / total       0.66      0.59      0.62     56923\n",
      "\n",
      "             precision    recall  f1-score   support\n",
      "\n",
      "          0       0.67      0.64      0.65     35702\n",
      "          1       0.69      0.56      0.62     18043\n",
      "          2       0.45      0.11      0.18      2083\n",
      "          3       0.34      0.08      0.13       670\n",
      "          4       0.20      0.03      0.05       402\n",
      "          5       0.31      0.07      0.11        74\n",
      "\n",
      "avg / total       0.66      0.58      0.61     56974\n",
      "\n",
      "             precision    recall  f1-score   support\n",
      "\n",
      "          0       0.67      0.63      0.65     35950\n",
      "          1       0.69      0.57      0.62     17758\n",
      "          2       0.43      0.11      0.18      2139\n",
      "          3       0.46      0.10      0.16       694\n",
      "          4       0.31      0.04      0.07       362\n",
      "          5       0.50      0.05      0.09        84\n",
      "\n",
      "avg / total       0.66      0.58      0.61     56987\n",
      "\n",
      "             precision    recall  f1-score   support\n",
      "\n",
      "          0       0.67      0.63      0.65     35545\n",
      "          1       0.68      0.56      0.62     17880\n",
      "          2       0.45      0.12      0.19      2052\n",
      "          3       0.39      0.09      0.15       665\n",
      "          4       0.25      0.03      0.06       375\n",
      "          5       0.14      0.03      0.04        80\n",
      "\n",
      "avg / total       0.66      0.58      0.61     56597\n",
      "\n",
      "             precision    recall  f1-score   support\n",
      "\n",
      "          0       0.66      0.64      0.65     35722\n",
      "          1       0.68      0.56      0.62     17869\n",
      "          2       0.46      0.13      0.20      2045\n",
      "          3       0.39      0.09      0.15       638\n",
      "          4       0.17      0.02      0.04       383\n",
      "          5       0.12      0.01      0.02        79\n",
      "\n",
      "avg / total       0.66      0.58      0.61     56736\n",
      "\n",
      "             precision    recall  f1-score   support\n",
      "\n",
      "          0       0.66      0.64      0.65     35680\n",
      "          1       0.69      0.57      0.62     17834\n",
      "          2       0.44      0.11      0.18      2041\n",
      "          3       0.35      0.08      0.13       655\n",
      "          4       0.27      0.04      0.07       377\n",
      "          5       0.06      0.01      0.02        84\n",
      "\n",
      "avg / total       0.66      0.58      0.61     56671\n",
      "\n",
      "             precision    recall  f1-score   support\n",
      "\n",
      "          0       0.67      0.64      0.65     36002\n",
      "          1       0.69      0.57      0.62     17672\n",
      "          2       0.46      0.13      0.20      2126\n",
      "          3       0.46      0.11      0.18       688\n",
      "          4       0.23      0.03      0.05       349\n",
      "          5       0.11      0.01      0.02        86\n",
      "\n",
      "avg / total       0.66      0.59      0.62     56923\n",
      "\n",
      "             precision    recall  f1-score   support\n",
      "\n",
      "          0       0.66      0.64      0.65     35679\n",
      "          1       0.69      0.57      0.62     17842\n",
      "          2       0.44      0.11      0.18      2079\n",
      "          3       0.32      0.08      0.12       666\n",
      "          4       0.23      0.04      0.06       347\n",
      "          5       0.31      0.06      0.10        89\n",
      "\n",
      "avg / total       0.66      0.58      0.61     56702\n",
      "\n"
     ]
    }
   ],
   "source": [
    "from sklearn.metrics import classification_report, confusion_matrix\n",
    "for i in range(0,10):\n",
    "    print(classification_report(y_tests[i],y_preds[i]))"
   ]
  },
  {
   "cell_type": "code",
   "execution_count": 26,
   "metadata": {
    "scrolled": false
   },
   "outputs": [
    {
     "name": "stdout",
     "output_type": "stream",
     "text": [
      "             precision    recall  f1-score   support\n",
      "\n",
      "          0       0.84      0.79      0.82     35735\n",
      "          1       0.85      0.76      0.80     18148\n",
      "          2       0.85      0.59      0.70      2111\n",
      "          3       0.79      0.48      0.60       671\n",
      "          4       0.72      0.42      0.53       357\n",
      "          5       0.80      0.43      0.56        81\n",
      "\n",
      "avg / total       0.84      0.77      0.80     57103\n",
      "\n",
      "             precision    recall  f1-score   support\n",
      "\n",
      "          0       0.84      0.79      0.82     35785\n",
      "          1       0.85      0.76      0.80     17781\n",
      "          2       0.85      0.59      0.70      2053\n",
      "          3       0.81      0.50      0.61       650\n",
      "          4       0.70      0.36      0.48       373\n",
      "          5       0.59      0.34      0.43        79\n",
      "\n",
      "avg / total       0.84      0.77      0.80     56721\n",
      "\n",
      "             precision    recall  f1-score   support\n",
      "\n",
      "          0       0.84      0.80      0.82     35592\n",
      "          1       0.86      0.77      0.81     17904\n",
      "          2       0.84      0.59      0.70      2081\n",
      "          3       0.82      0.53      0.64       654\n",
      "          4       0.70      0.40      0.51       346\n",
      "          5       0.75      0.43      0.54        89\n",
      "\n",
      "avg / total       0.85      0.78      0.81     56666\n",
      "\n",
      "             precision    recall  f1-score   support\n",
      "\n",
      "          0       0.84      0.79      0.81     35769\n",
      "          1       0.85      0.76      0.80     17964\n",
      "          2       0.86      0.58      0.69      2136\n",
      "          3       0.83      0.52      0.64       705\n",
      "          4       0.70      0.39      0.50       346\n",
      "          5       0.70      0.33      0.45        97\n",
      "\n",
      "avg / total       0.84      0.77      0.80     57017\n",
      "\n",
      "             precision    recall  f1-score   support\n",
      "\n",
      "          0       0.84      0.80      0.82     35900\n",
      "          1       0.85      0.76      0.80     17620\n",
      "          2       0.85      0.59      0.70      2190\n",
      "          3       0.80      0.50      0.61       704\n",
      "          4       0.73      0.41      0.52       343\n",
      "          5       0.64      0.36      0.46        83\n",
      "\n",
      "avg / total       0.84      0.77      0.80     56840\n",
      "\n",
      "             precision    recall  f1-score   support\n",
      "\n",
      "          0       0.84      0.79      0.81     35901\n",
      "          1       0.85      0.75      0.80     17805\n",
      "          2       0.87      0.56      0.68      2147\n",
      "          3       0.82      0.50      0.62       677\n",
      "          4       0.76      0.39      0.51       379\n",
      "          5       0.73      0.49      0.59        87\n",
      "\n",
      "avg / total       0.84      0.76      0.80     56996\n",
      "\n",
      "             precision    recall  f1-score   support\n",
      "\n",
      "          0       0.84      0.79      0.82     35555\n",
      "          1       0.86      0.76      0.81     18018\n",
      "          2       0.85      0.59      0.69      2040\n",
      "          3       0.83      0.49      0.62       682\n",
      "          4       0.75      0.42      0.54       385\n",
      "          5       0.71      0.38      0.50        92\n",
      "\n",
      "avg / total       0.85      0.77      0.81     56772\n",
      "\n",
      "             precision    recall  f1-score   support\n",
      "\n",
      "          0       0.84      0.80      0.82     35749\n",
      "          1       0.86      0.76      0.81     18050\n",
      "          2       0.84      0.56      0.67      2103\n",
      "          3       0.82      0.50      0.62       688\n",
      "          4       0.74      0.42      0.53       374\n",
      "          5       0.74      0.47      0.58        98\n",
      "\n",
      "avg / total       0.85      0.77      0.80     57062\n",
      "\n",
      "             precision    recall  f1-score   support\n",
      "\n",
      "          0       0.84      0.79      0.82     35736\n",
      "          1       0.85      0.76      0.80     17890\n",
      "          2       0.86      0.58      0.69      2184\n",
      "          3       0.86      0.51      0.64       727\n",
      "          4       0.65      0.37      0.48       324\n",
      "          5       0.71      0.35      0.47        92\n",
      "\n",
      "avg / total       0.84      0.77      0.80     56953\n",
      "\n",
      "             precision    recall  f1-score   support\n",
      "\n",
      "          0       0.84      0.80      0.82     35902\n",
      "          1       0.85      0.76      0.80     17848\n",
      "          2       0.84      0.59      0.69      2031\n",
      "          3       0.82      0.51      0.63       685\n",
      "          4       0.67      0.39      0.49       366\n",
      "          5       0.64      0.39      0.49       107\n",
      "\n",
      "avg / total       0.84      0.77      0.80     56939\n",
      "\n"
     ]
    }
   ],
   "source": [
    "from sklearn.metrics import classification_report, confusion_matrix\n",
    "for i in range(0,10):\n",
    "    print(classification_report(y_tests[i],y_preds[i]))"
   ]
  },
  {
   "cell_type": "code",
   "execution_count": 27,
   "metadata": {
    "collapsed": true
   },
   "outputs": [],
   "source": [
    "from sklearn.model_selection import KFold\n",
    "classifier = RandomForestClassifier()\n",
    "kf = KFold(n_splits=10)\n",
    "y_preds = []\n",
    "y_tests = []\n",
    "i = 0\n",
    "for train_index, test_index in kf.split(X, y):\n",
    "    X_train, X_test = X[train_index], X[test_index]\n",
    "    y_train, y_test = y[train_index], y[test_index]\n",
    "    classifier.fit(X_train, y_train)\n",
    "    y_preds.append(classifier.predict(X_test))\n",
    "    y_tests.append(y_test)\n",
    "    i+=1"
   ]
  },
  {
   "cell_type": "code",
   "execution_count": 28,
   "metadata": {},
   "outputs": [
    {
     "name": "stderr",
     "output_type": "stream",
     "text": [
      "C:\\Anaconda3\\lib\\site-packages\\sklearn\\metrics\\classification.py:1113: UndefinedMetricWarning: Precision and F-score are ill-defined and being set to 0.0 in labels with no predicted samples.\n",
      "  'precision', 'predicted', average, warn_for)\n"
     ]
    },
    {
     "name": "stdout",
     "output_type": "stream",
     "text": [
      "             precision    recall  f1-score   support\n",
      "\n",
      "          0       0.40      0.28      0.33     33880\n",
      "          1       0.40      0.03      0.06     18415\n",
      "          2       0.46      0.05      0.09      2090\n",
      "          3       0.69      0.01      0.02       864\n",
      "          4       0.00      0.00      0.00       370\n",
      "          5       0.00      0.00      0.00        86\n",
      "\n",
      "avg / total       0.40      0.18      0.22     55705\n",
      "\n",
      "             precision    recall  f1-score   support\n",
      "\n",
      "          0       0.49      0.24      0.32     40959\n",
      "          1       0.15      0.20      0.17     10239\n",
      "          2       0.47      0.15      0.23      1680\n",
      "          3       0.33      0.04      0.07       702\n",
      "          4       0.00      0.00      0.00       378\n",
      "          5       0.00      0.00      0.00        97\n",
      "\n",
      "avg / total       0.42      0.22      0.28     54055\n",
      "\n",
      "             precision    recall  f1-score   support\n",
      "\n",
      "          0       0.37      0.24      0.29     32437\n",
      "          1       0.24      0.04      0.07     19316\n",
      "          2       0.46      0.04      0.08      1904\n",
      "          3       0.21      0.00      0.01       601\n",
      "          4       0.00      0.00      0.00       385\n",
      "          5       0.00      0.00      0.00       106\n",
      "\n",
      "avg / total       0.32      0.16      0.20     54749\n",
      "\n",
      "             precision    recall  f1-score   support\n",
      "\n",
      "          0       0.39      0.29      0.33     33603\n",
      "          1       0.22      0.05      0.08     18281\n",
      "          2       0.64      0.13      0.22      2054\n",
      "          3       0.30      0.00      0.01       633\n",
      "          4       0.00      0.00      0.00       383\n",
      "          5       0.00      0.00      0.00        93\n",
      "\n",
      "avg / total       0.33      0.20      0.24     55047\n",
      "\n",
      "             precision    recall  f1-score   support\n",
      "\n",
      "          0       0.50      0.27      0.35     41005\n",
      "          1       0.18      0.11      0.13     14636\n",
      "          2       0.57      0.16      0.25      1712\n",
      "          3       0.40      0.06      0.10       348\n",
      "          4       0.00      0.00      0.00       327\n",
      "          5       0.00      0.00      0.00        76\n",
      "\n",
      "avg / total       0.42      0.22      0.29     58104\n",
      "\n",
      "             precision    recall  f1-score   support\n",
      "\n",
      "          0       0.44      0.31      0.36     37046\n",
      "          1       0.22      0.04      0.07     17379\n",
      "          2       0.72      0.07      0.12      2190\n",
      "          3       0.67      0.02      0.04       466\n",
      "          4       0.00      0.00      0.00       333\n",
      "          5       0.00      0.00      0.00        76\n",
      "\n",
      "avg / total       0.38      0.21      0.26     57490\n",
      "\n",
      "             precision    recall  f1-score   support\n",
      "\n",
      "          0       0.48      0.35      0.40     39283\n",
      "          1       0.15      0.03      0.05     11213\n",
      "          2       0.84      0.16      0.27      2422\n",
      "          3       0.25      0.00      0.01       427\n",
      "          4       0.00      0.00      0.00       342\n",
      "          5       0.00      0.00      0.00        83\n",
      "\n",
      "avg / total       0.42      0.27      0.32     53770\n",
      "\n",
      "             precision    recall  f1-score   support\n",
      "\n",
      "          0       0.34      0.23      0.28     28241\n",
      "          1       0.37      0.12      0.19     28943\n",
      "          2       0.72      0.07      0.13      2268\n",
      "          3       0.50      0.01      0.02       769\n",
      "          4       0.00      0.00      0.00       333\n",
      "          5       0.00      0.00      0.00        69\n",
      "\n",
      "avg / total       0.37      0.17      0.22     60623\n",
      "\n",
      "             precision    recall  f1-score   support\n",
      "\n",
      "          0       0.41      0.22      0.29     36196\n",
      "          1       0.29      0.14      0.19     23418\n",
      "          2       0.80      0.31      0.44      2413\n",
      "          3       0.58      0.12      0.20       879\n",
      "          4       0.00      0.00      0.00       368\n",
      "          5       0.00      0.00      0.00        89\n",
      "\n",
      "avg / total       0.38      0.19      0.25     63363\n",
      "\n",
      "             precision    recall  f1-score   support\n",
      "\n",
      "          0       0.40      0.24      0.30     35076\n",
      "          1       0.25      0.16      0.19     16785\n",
      "          2       0.87      0.41      0.56      2365\n",
      "          3       0.68      0.02      0.04      1215\n",
      "          4       0.00      0.00      0.00       397\n",
      "          5       0.00      0.00      0.00       108\n",
      "\n",
      "avg / total       0.38      0.22      0.27     55946\n",
      "\n"
     ]
    }
   ],
   "source": [
    "from sklearn.metrics import classification_report, confusion_matrix\n",
    "for i in range(0,10):\n",
    "    print(classification_report(y_tests[i],y_preds[i]))"
   ]
  },
  {
   "cell_type": "code",
   "execution_count": 16,
   "metadata": {},
   "outputs": [
    {
     "name": "stdout",
     "output_type": "stream",
     "text": [
      "1.36241595337\n",
      "1.36241595337\n"
     ]
    }
   ],
   "source": [
    "from sklearn.metrics import coverage_error, label_ranking_average_precision_score, label_ranking_loss\n",
    "print(coverage_error(y_tests[0], y_preds[0]))\n",
    "print(coverage_error(y_tests[1], y_preds[0]))\n",
    "print(coverage_error(y_tests[0], y_preds[0]))"
   ]
  },
  {
   "cell_type": "code",
   "execution_count": 8,
   "metadata": {},
   "outputs": [
    {
     "data": {
      "text/plain": [
       "array([[0, 1, 0, 0, 0, 0],\n",
       "       [0, 1, 0, 0, 0, 0],\n",
       "       [0, 0, 0, 0, 0, 0],\n",
       "       ..., \n",
       "       [0, 1, 0, 0, 0, 0],\n",
       "       [0, 1, 0, 0, 0, 0],\n",
       "       [0, 1, 0, 0, 0, 0]])"
      ]
     },
     "execution_count": 8,
     "metadata": {},
     "output_type": "execute_result"
    }
   ],
   "source": [
    "y_pred = classifier.predict(X)\n",
    "y_pred = y_pred.astype(int)\n",
    "y_pred"
   ]
  },
  {
   "cell_type": "code",
   "execution_count": 75,
   "metadata": {},
   "outputs": [
    {
     "data": {
      "text/plain": [
       "[array([[ 1. ,  0. ],\n",
       "        [ 1. ,  0. ],\n",
       "        [ 0.9,  0.1],\n",
       "        ..., \n",
       "        [ 1. ,  0. ],\n",
       "        [ 1. ,  0. ],\n",
       "        [ 0.9,  0.1]]), array([[ 0. ,  1. ],\n",
       "        [ 0.1,  0.9],\n",
       "        [ 0.7,  0.3],\n",
       "        ..., \n",
       "        [ 0. ,  1. ],\n",
       "        [ 0. ,  1. ],\n",
       "        [ 0.1,  0.9]]), array([[ 0.8,  0.2],\n",
       "        [ 0.9,  0.1],\n",
       "        [ 1. ,  0. ],\n",
       "        ..., \n",
       "        [ 1. ,  0. ],\n",
       "        [ 1. ,  0. ],\n",
       "        [ 1. ,  0. ]]), array([[ 1.,  0.],\n",
       "        [ 1.,  0.],\n",
       "        [ 1.,  0.],\n",
       "        ..., \n",
       "        [ 1.,  0.],\n",
       "        [ 1.,  0.],\n",
       "        [ 1.,  0.]]), array([[ 1.,  0.],\n",
       "        [ 1.,  0.],\n",
       "        [ 1.,  0.],\n",
       "        ..., \n",
       "        [ 1.,  0.],\n",
       "        [ 1.,  0.],\n",
       "        [ 1.,  0.]]), array([[ 1.,  0.],\n",
       "        [ 1.,  0.],\n",
       "        [ 1.,  0.],\n",
       "        ..., \n",
       "        [ 1.,  0.],\n",
       "        [ 1.,  0.],\n",
       "        [ 1.,  0.]])]"
      ]
     },
     "execution_count": 75,
     "metadata": {},
     "output_type": "execute_result"
    }
   ],
   "source": [
    "y_pred_prob = classifier.predict_proba(X)\n",
    "y_pred_prob"
   ]
  },
  {
   "cell_type": "code",
   "execution_count": 80,
   "metadata": {},
   "outputs": [
    {
     "name": "stdout",
     "output_type": "stream",
     "text": [
      "Predicted number of instances:\t 348605 168147 18511 5553 2367 580\n",
      "Predicted probabilities of instances:\n",
      " [ 513699.88492589  357835.1150742 ] \n",
      " [ 692681.60130509  178853.39869567] \n",
      " [ 850268.20762262   21266.79237786] \n",
      " [ 864584.20092999    6950.79907022] \n",
      " [ 867846.23927891    3688.76072121] \n",
      " [ 870614.08617525     920.91382476]\n",
      "Actual number of instances:\t 357726 178625 21098 6904 3616 883\n"
     ]
    }
   ],
   "source": [
    "print(\"Predicted number of instances:\\t\",\n",
    "sum(y_pred[:,0]),\n",
    "sum(y_pred[:,1]),\n",
    "sum(y_pred[:,2]),\n",
    "sum(y_pred[:,3]),\n",
    "sum(y_pred[:,4]),\n",
    "sum(y_pred[:,5]))\n",
    "\n",
    "print(\"Predicted probabilities of instances:\\n\",\n",
    "sum(y_pred_prob[0]), '\\n',\n",
    "sum(y_pred_prob[1]),'\\n',\n",
    "sum(y_pred_prob[2]),'\\n',\n",
    "sum(y_pred_prob[3]),'\\n',\n",
    "sum(y_pred_prob[4]),'\\n',\n",
    "sum(y_pred_prob[5]))\n",
    "\n",
    "print(\"Actual number of instances:\\t\",\n",
    "sum(y[:,0]),\n",
    "sum(y[:,1]),\n",
    "sum(y[:,2]),\n",
    "sum(y[:,3]),\n",
    "sum(y[:,4]),\n",
    "sum(y[:,5]))"
   ]
  },
  {
   "cell_type": "code",
   "execution_count": 56,
   "metadata": {},
   "outputs": [
    {
     "data": {
      "text/plain": [
       "0.89591812147532801"
      ]
     },
     "execution_count": 56,
     "metadata": {},
     "output_type": "execute_result"
    }
   ],
   "source": [
    "classifier.score(X,y)"
   ]
  },
  {
   "cell_type": "code",
   "execution_count": 43,
   "metadata": {},
   "outputs": [
    {
     "name": "stdout",
     "output_type": "stream",
     "text": [
      "1.00632332609\n",
      "0.941945405393\n",
      "0.0704532998292\n"
     ]
    }
   ],
   "source": [
    "from sklearn.metrics import coverage_error, label_ranking_average_precision_score, label_ranking_loss\n",
    "print(coverage_error(y, results_y))\n",
    "print(label_ranking_average_precision_score(y, results_y))\n",
    "print(label_ranking_loss(y, results_y))"
   ]
  },
  {
   "cell_type": "code",
   "execution_count": 86,
   "metadata": {},
   "outputs": [
    {
     "name": "stdout",
     "output_type": "stream",
     "text": [
      "[ 0.90917431  0.90349855  0.88227423  0.84017019  0.70967742  0.70813397]\n",
      "0.904337978546\n",
      "0.825488111613\n"
     ]
    },
    {
     "name": "stderr",
     "output_type": "stream",
     "text": [
      "/usr/local/lib/python3.5/dist-packages/sklearn/metrics/classification.py:1113: UndefinedMetricWarning: F-score is ill-defined and being set to 0.0 in samples with no predicted labels.\n",
      "  'precision', 'predicted', average, warn_for)\n",
      "/usr/local/lib/python3.5/dist-packages/sklearn/metrics/classification.py:1115: UndefinedMetricWarning: F-score is ill-defined and being set to 0.0 in samples with no true labels.\n",
      "  'recall', 'true', average, warn_for)\n"
     ]
    },
    {
     "name": "stdout",
     "output_type": "stream",
     "text": [
      "0.554095122809\n",
      "0.903976694961\n"
     ]
    }
   ],
   "source": [
    "from sklearn.metrics import confusion_matrix, f1_score, fbeta_score\n",
    "print(f1_score(y, y_pred, average=None))\n",
    "print(f1_score(y, y_pred, average='micro'))\n",
    "print(f1_score(y, y_pred, average='macro'))\n",
    "print(f1_score(y, y_pred, average='samples'))\n",
    "print(f1_score(y, y_pred, average='weighted'))\n",
    "scores = fbeta_score(y, y_pred, beta=0.5, average=None)"
   ]
  },
  {
   "cell_type": "code",
   "execution_count": 102,
   "metadata": {},
   "outputs": [
    {
     "name": "stdout",
     "output_type": "stream",
     "text": [
      "             precision    recall  f1-score   support\n",
      "\n",
      "          0       0.92      0.90      0.91    357726\n",
      "          1       0.93      0.88      0.90    178625\n",
      "          2       0.94      0.83      0.88     21098\n",
      "          3       0.94      0.76      0.84      6904\n",
      "          4       0.90      0.59      0.71      3616\n",
      "          5       0.89      0.59      0.71       883\n",
      "\n",
      "avg / total       0.93      0.88      0.90    568852\n",
      "\n",
      "[[486293  27516]\n",
      " [ 36637 321089]]\n"
     ]
    }
   ],
   "source": [
    "from sklearn.metrics import classification_report, confusion_matrix\n",
    "print(classification_report(y,y_pred))\n",
    "print(confusion_matrix(y[:,0],y_pred[:,0]))"
   ]
  },
  {
   "cell_type": "code",
   "execution_count": 103,
   "metadata": {},
   "outputs": [
    {
     "name": "stdout",
     "output_type": "stream",
     "text": [
      "0.871866570886\n"
     ]
    }
   ],
   "source": [
    "from sklearn.metrics import roc_auc_score, roc_curve\n",
    "print(roc_auc_score(y, y_pred))"
   ]
  },
  {
   "cell_type": "code",
   "execution_count": 112,
   "metadata": {},
   "outputs": [
    {
     "name": "stdout",
     "output_type": "stream",
     "text": [
      "0.104081878525\n",
      "90711\n"
     ]
    }
   ],
   "source": [
    "from sklearn.metrics import zero_one_loss\n",
    "print(zero_one_loss(y,y_pred)) # Fraction of misclassifications\n",
    "print(zero_one_loss(y,y_pred,normalize=False)) # num of misclassifications"
   ]
  }
 ],
 "metadata": {
  "kernelspec": {
   "display_name": "Python 3",
   "language": "python",
   "name": "python3"
  },
  "language_info": {
   "codemirror_mode": {
    "name": "ipython",
    "version": 3
   },
   "file_extension": ".py",
   "mimetype": "text/x-python",
   "name": "python",
   "nbconvert_exporter": "python",
   "pygments_lexer": "ipython3",
   "version": "3.5.3"
  }
 },
 "nbformat": 4,
 "nbformat_minor": 2
}
