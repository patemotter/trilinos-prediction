{
 "cells": [
  {
   "cell_type": "code",
   "execution_count": 1,
   "metadata": {
    "collapsed": true
   },
   "outputs": [],
   "source": [
    "import pandas as pd\n",
    "import numpy as np\n",
    "from sklearn.externals import joblib\n",
    "from sklearn.pipeline import Pipeline\n",
    "from sklearn.svm import LinearSVC, SVC\n",
    "from sklearn.multiclass import OneVsRestClassifier\n",
    "from sklearn.model_selection import StratifiedShuffleSplit\n",
    "from sklearn.ensemble import RandomForestClassifier\n",
    "import matplotlib.pyplot as plt\n",
    "from scikitplot import classifier_factory"
   ]
  },
  {
   "cell_type": "code",
   "execution_count": 2,
   "metadata": {
    "collapsed": true
   },
   "outputs": [],
   "source": [
    "labels = pd.read_csv('./labels.csv', index_col=0)\n",
    "pts = pd.read_csv('./pts.csv', index_col=0)"
   ]
  },
  {
   "cell_type": "code",
   "execution_count": 3,
   "metadata": {
    "scrolled": true
   },
   "outputs": [
    {
     "name": "stdout",
     "output_type": "stream",
     "text": [
      "<class 'pandas.core.frame.DataFrame'>\n",
      "Int64Index: 871535 entries, 0 to 871534\n",
      "Data columns (total 83 columns):\n",
      "system_id                               871535 non-null int64\n",
      "HPL_Tflops                              871535 non-null float64\n",
      "StarDGEMM_Gflops                        871535 non-null float64\n",
      "SingleDGEMM_Gflops                      871535 non-null float64\n",
      "PTRANS_GBs                              871535 non-null float64\n",
      "MPIRandomAccess_LCG_GUPs                871535 non-null float64\n",
      "MPIRandomAccess_GUPs                    871535 non-null float64\n",
      "StarRandomAccess_LCG_GUPs               871535 non-null float64\n",
      "SingleRandomAccess_LCG_GUPs             871535 non-null float64\n",
      "StarRandomAccess_GUPs                   871535 non-null float64\n",
      "SingleRandomAccess_GUPs                 871535 non-null float64\n",
      "StarSTREAM_Copy                         871535 non-null float64\n",
      "StarSTREAM_Scale                        871535 non-null float64\n",
      "StarSTREAM_Add                          871535 non-null float64\n",
      "StarSTREAM_Triad                        871535 non-null float64\n",
      "SingleSTREAM_Copy                       871535 non-null float64\n",
      "SingleSTREAM_Scale                      871535 non-null float64\n",
      "SingleSTREAM_Add                        871535 non-null float64\n",
      "SingleSTREAM_Triad                      871535 non-null float64\n",
      "StarFFT_Gflops                          871535 non-null float64\n",
      "SingleFFT_Gflops                        871535 non-null float64\n",
      "MPIFFT_Gflops                           871535 non-null float64\n",
      "MaxPingPongLatency_usec                 871535 non-null float64\n",
      "RandomlyOrderedRingLatency_usec         871535 non-null float64\n",
      "MinPingPongBandwidth_GBytes             871535 non-null float64\n",
      "NaturallyOrderedRingBandwidth_GBytes    871535 non-null float64\n",
      "RandomlyOrderedRingBandwidth_GBytes     871535 non-null float64\n",
      "MinPingPongLatency_usec                 871535 non-null float64\n",
      "AvgPingPongLatency_usec                 871535 non-null float64\n",
      "MaxPingPongBandwidth_GBytes             871535 non-null float64\n",
      "AvgPingPongBandwidth_GBytes             871535 non-null float64\n",
      "NaturallyOrderedRingLatency_usec        871535 non-null float64\n",
      "MemProc                                 871535 non-null int64\n",
      "core_count                              871535 non-null int64\n",
      "cpu_freq                                871535 non-null int64\n",
      "bogo_mips                               871535 non-null float64\n",
      "l1_cache                                871535 non-null int64\n",
      "l2_cache                                871535 non-null int64\n",
      "l3_cache                                871535 non-null int64\n",
      "memory_size                             871535 non-null int64\n",
      "memory_freq                             871535 non-null int64\n",
      "memory_type                             871535 non-null int64\n",
      "rows                                    871535 non-null int64\n",
      "cols                                    871535 non-null int64\n",
      "min_nnz_row                             871535 non-null int64\n",
      "row_var                                 871535 non-null float64\n",
      "col_var                                 871535 non-null float64\n",
      "diag_var                                871535 non-null float64\n",
      "nnz                                     871535 non-null int64\n",
      "frob_norm                               871535 non-null float64\n",
      "symm_frob_norm                          871535 non-null float64\n",
      "antisymm_frob_norm                      871535 non-null float64\n",
      "one_norm                                871535 non-null float64\n",
      "inf_norm                                871535 non-null float64\n",
      "symm_inf_norm                           871535 non-null float64\n",
      "antisymm_inf_norm                       871535 non-null float64\n",
      "max_nnz_row                             871535 non-null int64\n",
      "trace                                   871535 non-null float64\n",
      "abs_trace                               871535 non-null float64\n",
      "min_nnz_row.1                           871535 non-null int64\n",
      "avg_nnz_row                             871535 non-null int64\n",
      "dummy_rows                              871535 non-null int64\n",
      "dummy_rows_kind                         871535 non-null int64\n",
      "num_value_symm_1                        871535 non-null int64\n",
      "nnz_pattern_symm_1                      871535 non-null int64\n",
      "num_value_symm_2                        871535 non-null float64\n",
      "nnz_pattern_symm_2                      871535 non-null float64\n",
      "row_diag_dom                            871535 non-null int64\n",
      "col_diag_dom                            871535 non-null int64\n",
      "diag_avg                                871535 non-null float64\n",
      "diag_sign                               871535 non-null int64\n",
      "diag_nnz                                871535 non-null int64\n",
      "lower_bw                                871535 non-null int64\n",
      "upper_bw                                871535 non-null int64\n",
      "row_log_val_spread                      871535 non-null float64\n",
      "col_log_val_spread                      871535 non-null float64\n",
      "symm                                    871535 non-null int64\n",
      "matrix_id                               871535 non-null int64\n",
      "np                                      871535 non-null int64\n",
      "time                                    871535 non-null float64\n",
      "solver_id                               871535 non-null int64\n",
      "prec_id                                 871535 non-null int64\n",
      "status_id                               871535 non-null int64\n",
      "dtypes: float64(50), int64(33)\n",
      "memory usage: 558.5 MB\n"
     ]
    }
   ],
   "source": [
    "pts.info()"
   ]
  },
  {
   "cell_type": "code",
   "execution_count": 4,
   "metadata": {
    "collapsed": true
   },
   "outputs": [],
   "source": [
    "all_data = pts.drop([\n",
    "'matrix_id',\n",
    "'system_id',\n",
    "'time',\n",
    "'matrix_id',\n",
    "'status_id'], axis=1)"
   ]
  },
  {
   "cell_type": "code",
   "execution_count": null,
   "metadata": {
    "collapsed": true
   },
   "outputs": [],
   "source": [
    "# plain_data = pts.drop([\n",
    "# 'matrix_id', \n",
    "# 'status_id', \n",
    "# 'time', \n",
    "# 'HPL_Tflops',        \n",
    "# 'StarDGEMM_Gflops',                        \n",
    "# 'SingleDGEMM_Gflops',                      \n",
    "# 'PTRANS_GBs',                              \n",
    "# 'MPIRandomAccess_LCG_GUPs',                \n",
    "# 'MPIRandomAccess_GUPs',                    \n",
    "# 'StarRandomAccess_LCG_GUPs',               \n",
    "# 'SingleRandomAccess_LCG_GUPs',             \n",
    "# 'StarRandomAccess_GUPs',                   \n",
    "# 'SingleRandomAccess_GUPs',                 \n",
    "# 'StarSTREAM_Copy',                         \n",
    "# 'StarSTREAM_Scale',                        \n",
    "# 'StarSTREAM_Add',                          \n",
    "# 'StarSTREAM_Triad',                        \n",
    "# 'SingleSTREAM_Copy',                       \n",
    "# 'SingleSTREAM_Scale',                      \n",
    "# 'SingleSTREAM_Add',                        \n",
    "# 'SingleSTREAM_Triad',                      \n",
    "# 'StarFFT_Gflops',                          \n",
    "# 'SingleFFT_Gflops',                        \n",
    "# 'MPIFFT_Gflops',                           \n",
    "# 'MaxPingPongLatency_usec',                 \n",
    "# 'RandomlyOrderedRingLatency_usec',         \n",
    "# 'MinPingPongBandwidth_GBytes',             \n",
    "# 'NaturallyOrderedRingBandwidth_GBytes',    \n",
    "# 'RandomlyOrderedRingBandwidth_GBytes',     \n",
    "# 'MinPingPongLatency_usec',                 \n",
    "# 'AvgPingPongLatency_usec',                 \n",
    "# 'MaxPingPongBandwidth_GBytes',             \n",
    "# 'AvgPingPongBandwidth_GBytes',             \n",
    "# 'NaturallyOrderedRingLatency_usec',        \n",
    "# 'MemProc',                                \n",
    "# 'core_count',                              \n",
    "# 'cpu_freq',                                \n",
    "# 'bogo_mips',                              \n",
    "# 'l1_cache',                                \n",
    "# 'l2_cache',                                \n",
    "# 'l3_cache',                                \n",
    "# 'memory_size',                             \n",
    "# 'memory_freq',                             \n",
    "# 'memory_type'], axis=1)"
   ]
  },
  {
   "cell_type": "code",
   "execution_count": null,
   "metadata": {
    "collapsed": true,
    "scrolled": true
   },
   "outputs": [],
   "source": [
    "all_data.info()"
   ]
  },
  {
   "cell_type": "code",
   "execution_count": null,
   "metadata": {
    "collapsed": true
   },
   "outputs": [],
   "source": [
    "summit_only_data = plain_data[plain_data['system_id'] == 3]\n",
    "summit_only_labels = labels[plain_data['system_id'] == 3]"
   ]
  },
  {
   "cell_type": "code",
   "execution_count": null,
   "metadata": {
    "collapsed": true,
    "scrolled": true
   },
   "outputs": [],
   "source": [
    "summit_only_data.info()\n",
    "summit_only_labels.info()"
   ]
  },
  {
   "cell_type": "code",
   "execution_count": 5,
   "metadata": {
    "collapsed": true,
    "scrolled": true
   },
   "outputs": [],
   "source": [
    "X = all_data.as_matrix()\n",
    "y = labels.as_matrix()"
   ]
  },
  {
   "cell_type": "code",
   "execution_count": null,
   "metadata": {
    "collapsed": true
   },
   "outputs": [],
   "source": [
    "y = y[:,0]\n",
    "y.transpose()"
   ]
  },
  {
   "cell_type": "code",
   "execution_count": 7,
   "metadata": {},
   "outputs": [
    {
     "data": {
      "text/plain": [
       "['all_data_classifier.pkl']"
      ]
     },
     "execution_count": 7,
     "metadata": {},
     "output_type": "execute_result"
    }
   ],
   "source": [
    "from sklearn.externals import joblib\n",
    "classifier = RandomForestClassifier()\n",
    "classifier = classifier.fit(X,y)\n",
    "joblib.dump(classifier, 'all_data_classifier.pkl')"
   ]
  },
  {
   "cell_type": "code",
   "execution_count": 10,
   "metadata": {},
   "outputs": [
    {
     "data": {
      "text/plain": [
       "(871535, 18)"
      ]
     },
     "execution_count": 10,
     "metadata": {},
     "output_type": "execute_result"
    }
   ],
   "source": [
    "y.shape"
   ]
  },
  {
   "cell_type": "markdown",
   "metadata": {},
   "source": [
    "for i in range(0,18):\n",
    "    classifier = RandomForestClassifier()\n",
    "    classifier_factory(classifier)\n",
    "    classifier.plot_roc_curve(X, y[:,i], \n",
    "                             cv=10,\n",
    "                             title=str(i),\n",
    "                             shuffle=True\n",
    "                             )\n",
    "    plt.show()"
   ]
  },
  {
   "cell_type": "code",
   "execution_count": 6,
   "metadata": {},
   "outputs": [
    {
     "ename": "NameError",
     "evalue": "name 'classifier' is not defined",
     "output_type": "error",
     "traceback": [
      "\u001b[1;31m---------------------------------------------------------------------------\u001b[0m",
      "\u001b[1;31mNameError\u001b[0m                                 Traceback (most recent call last)",
      "\u001b[1;32m<ipython-input-6-6679b8061e3e>\u001b[0m in \u001b[0;36m<module>\u001b[1;34m()\u001b[0m\n\u001b[1;32m----> 1\u001b[1;33m classifier.plot_precision_recall_curve(X,y[:,0],\n\u001b[0m\u001b[0;32m      2\u001b[0m                                        \u001b[0mshuffle\u001b[0m\u001b[1;33m=\u001b[0m\u001b[1;32mTrue\u001b[0m\u001b[1;33m,\u001b[0m\u001b[1;33m\u001b[0m\u001b[0m\n\u001b[0;32m      3\u001b[0m                                        \u001b[0mcv\u001b[0m\u001b[1;33m=\u001b[0m\u001b[1;36m10\u001b[0m\u001b[1;33m,\u001b[0m\u001b[1;33m\u001b[0m\u001b[0m\n\u001b[0;32m      4\u001b[0m                                        curves='each_class')\n\u001b[0;32m      5\u001b[0m \u001b[0mplt\u001b[0m\u001b[1;33m.\u001b[0m\u001b[0mshow\u001b[0m\u001b[1;33m(\u001b[0m\u001b[1;33m)\u001b[0m\u001b[1;33m\u001b[0m\u001b[0m\n",
      "\u001b[1;31mNameError\u001b[0m: name 'classifier' is not defined"
     ]
    }
   ],
   "source": [
    "classifier.plot_precision_recall_curve(X,y[:,0],\n",
    "                                       shuffle=True,\n",
    "                                       cv=10,\n",
    "                                       curves='each_class')\n",
    "plt.show()"
   ]
  },
  {
   "cell_type": "code",
   "execution_count": null,
   "metadata": {
    "collapsed": true
   },
   "outputs": [],
   "source": []
  },
  {
   "cell_type": "code",
   "execution_count": null,
   "metadata": {
    "collapsed": true,
    "scrolled": true
   },
   "outputs": [],
   "source": [
    "classifier = RandomForestClassifier()\n",
    "classifier_factory(classifier)\n",
    "sss = StratifiedShuffleSplit()\n",
    "y_preds = []\n",
    "y_tests = []\n",
    "i = 0\n",
    "for train_index, test_index in sss.split(X, y):\n",
    "    X_train, X_test = X[train_index], X[test_index]\n",
    "    y_train, y_test = y[train_index], y[test_index]\n",
    "    classifier.fit(X_train, y_train)\n",
    "    classifier.plot_roc_curve(X_test,y_test)\n",
    "    plt.show()\n",
    "    y_preds.append(classifier.predict(X_test))\n",
    "    y_tests.append(y_test)\n",
    "    i+=1"
   ]
  },
  {
   "cell_type": "code",
   "execution_count": null,
   "metadata": {
    "collapsed": true,
    "scrolled": true
   },
   "outputs": [],
   "source": [
    "j = i\n",
    "for i in range(0,j):\n",
    "    y_preds[i] = y_preds[i].astype(int)\n",
    "y_preds"
   ]
  },
  {
   "cell_type": "code",
   "execution_count": null,
   "metadata": {
    "collapsed": true
   },
   "outputs": [],
   "source": [
    "from sklearn.metrics import classification_report, confusion_matrix\n",
    "for i in range(0,10):\n",
    "    print(classification_report(y_tests[i],y_preds[i]))"
   ]
  },
  {
   "cell_type": "code",
   "execution_count": null,
   "metadata": {
    "collapsed": true,
    "scrolled": false
   },
   "outputs": [],
   "source": [
    "from sklearn.metrics import classification_report, confusion_matrix\n",
    "for i in range(0,10):\n",
    "    print(classification_report(y_tests[i],y_preds[i]))"
   ]
  },
  {
   "cell_type": "code",
   "execution_count": null,
   "metadata": {
    "collapsed": true
   },
   "outputs": [],
   "source": [
    "from sklearn.model_selection import KFold\n",
    "classifier = RandomForestClassifier()\n",
    "kf = KFold(n_splits=10)\n",
    "y_preds = []\n",
    "y_tests = []\n",
    "i = 0\n",
    "for train_index, test_index in kf.split(X, y):\n",
    "    X_train, X_test = X[train_index], X[test_index]\n",
    "    y_train, y_test = y[train_index], y[test_index]\n",
    "    classifier.fit(X_train, y_train)\n",
    "    y_preds.append(classifier.predict(X_test))\n",
    "    y_tests.append(y_test)\n",
    "    i+=1"
   ]
  },
  {
   "cell_type": "code",
   "execution_count": null,
   "metadata": {
    "collapsed": true
   },
   "outputs": [],
   "source": [
    "from sklearn.metrics import classification_report, confusion_matrix\n",
    "for i in range(0,10):\n",
    "    print(classification_report(y_tests[i],y_preds[i]))"
   ]
  },
  {
   "cell_type": "code",
   "execution_count": null,
   "metadata": {
    "collapsed": true
   },
   "outputs": [],
   "source": [
    "from sklearn.metrics import coverage_error, label_ranking_average_precision_score, label_ranking_loss\n",
    "print(coverage_error(y_tests[0], y_preds[0]))\n",
    "print(coverage_error(y_tests[1], y_preds[0]))\n",
    "print(coverage_error(y_tests[0], y_preds[0]))"
   ]
  },
  {
   "cell_type": "code",
   "execution_count": null,
   "metadata": {
    "collapsed": true
   },
   "outputs": [],
   "source": [
    "y_pred = classifier.predict(X)\n",
    "y_pred = y_pred.astype(int)\n",
    "y_pred"
   ]
  },
  {
   "cell_type": "code",
   "execution_count": null,
   "metadata": {
    "collapsed": true
   },
   "outputs": [],
   "source": [
    "y_pred_prob = classifier.predict_proba(X)\n",
    "y_pred_prob"
   ]
  },
  {
   "cell_type": "code",
   "execution_count": null,
   "metadata": {
    "collapsed": true
   },
   "outputs": [],
   "source": [
    "print(\"Predicted number of instances:\\t\",\n",
    "sum(y_pred[:,0]),\n",
    "sum(y_pred[:,1]),\n",
    "sum(y_pred[:,2]),\n",
    "sum(y_pred[:,3]),\n",
    "sum(y_pred[:,4]),\n",
    "sum(y_pred[:,5]))\n",
    "\n",
    "print(\"Predicted probabilities of instances:\\n\",\n",
    "sum(y_pred_prob[0]), '\\n',\n",
    "sum(y_pred_prob[1]),'\\n',\n",
    "sum(y_pred_prob[2]),'\\n',\n",
    "sum(y_pred_prob[3]),'\\n',\n",
    "sum(y_pred_prob[4]),'\\n',\n",
    "sum(y_pred_prob[5]))\n",
    "\n",
    "print(\"Actual number of instances:\\t\",\n",
    "sum(y[:,0]),\n",
    "sum(y[:,1]),\n",
    "sum(y[:,2]),\n",
    "sum(y[:,3]),\n",
    "sum(y[:,4]),\n",
    "sum(y[:,5]))"
   ]
  },
  {
   "cell_type": "code",
   "execution_count": null,
   "metadata": {
    "collapsed": true
   },
   "outputs": [],
   "source": [
    "classifier.score(X,y)"
   ]
  },
  {
   "cell_type": "code",
   "execution_count": null,
   "metadata": {
    "collapsed": true
   },
   "outputs": [],
   "source": [
    "from sklearn.metrics import coverage_error, label_ranking_average_precision_score, label_ranking_loss\n",
    "print(coverage_error(y, results_y))\n",
    "print(label_ranking_average_precision_score(y, results_y))\n",
    "print(label_ranking_loss(y, results_y))"
   ]
  },
  {
   "cell_type": "code",
   "execution_count": null,
   "metadata": {
    "collapsed": true
   },
   "outputs": [],
   "source": [
    "from sklearn.metrics import confusion_matrix, f1_score, fbeta_score\n",
    "print(f1_score(y, y_pred, average=None))\n",
    "print(f1_score(y, y_pred, average='micro'))\n",
    "print(f1_score(y, y_pred, average='macro'))\n",
    "print(f1_score(y, y_pred, average='samples'))\n",
    "print(f1_score(y, y_pred, average='weighted'))\n",
    "scores = fbeta_score(y, y_pred, beta=0.5, average=None)"
   ]
  },
  {
   "cell_type": "code",
   "execution_count": null,
   "metadata": {
    "collapsed": true
   },
   "outputs": [],
   "source": [
    "from sklearn.metrics import classification_report, confusion_matrix\n",
    "print(classification_report(y,y_pred))\n",
    "print(confusion_matrix(y[:,0],y_pred[:,0]))"
   ]
  },
  {
   "cell_type": "code",
   "execution_count": null,
   "metadata": {
    "collapsed": true
   },
   "outputs": [],
   "source": [
    "from sklearn.metrics import roc_auc_score, roc_curve\n",
    "print(roc_auc_score(y, y_pred))"
   ]
  },
  {
   "cell_type": "code",
   "execution_count": null,
   "metadata": {
    "collapsed": true
   },
   "outputs": [],
   "source": [
    "from sklearn.metrics import zero_one_loss\n",
    "print(zero_one_loss(y,y_pred)) # Fraction of misclassifications\n",
    "print(zero_one_loss(y,y_pred,normalize=False)) # num of misclassifications"
   ]
  }
 ],
 "metadata": {
  "kernelspec": {
   "display_name": "Python 3",
   "language": "python",
   "name": "python3"
  },
  "language_info": {
   "codemirror_mode": {
    "name": "ipython",
    "version": 3
   },
   "file_extension": ".py",
   "mimetype": "text/x-python",
   "name": "python",
   "nbconvert_exporter": "python",
   "pygments_lexer": "ipython3",
   "version": "3.5.2"
  }
 },
 "nbformat": 4,
 "nbformat_minor": 2
}
