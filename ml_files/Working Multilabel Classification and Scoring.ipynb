{
 "cells": [
  {
   "cell_type": "code",
   "execution_count": 36,
   "metadata": {},
   "outputs": [],
   "source": [
    "import pandas as pd\n",
    "import numpy as np\n",
    "from sklearn.externals import joblib\n",
    "from sklearn.pipeline import Pipeline\n",
    "from sklearn.svm import LinearSVC, SVC\n",
    "from sklearn.multiclass import OneVsRestClassifier\n",
    "from sklearn.model_selection import StratifiedShuffleSplit\n",
    "from sklearn.ensemble import RandomForestClassifier"
   ]
  },
  {
   "cell_type": "code",
   "execution_count": 16,
   "metadata": {},
   "outputs": [],
   "source": [
    "labels = pd.read_csv('./labels.csv', index_col=0)\n",
    "pts = pd.read_csv('./pts.csv', index_col=0)"
   ]
  },
  {
   "cell_type": "code",
   "execution_count": 17,
   "metadata": {
    "scrolled": true
   },
   "outputs": [
    {
     "name": "stdout",
     "output_type": "stream",
     "text": [
      "<class 'pandas.core.frame.DataFrame'>\n",
      "Int64Index: 871535 entries, 0 to 871534\n",
      "Data columns (total 83 columns):\n",
      "system_id                               871535 non-null int64\n",
      "HPL_Tflops                              871535 non-null float64\n",
      "StarDGEMM_Gflops                        871535 non-null float64\n",
      "SingleDGEMM_Gflops                      871535 non-null float64\n",
      "PTRANS_GBs                              871535 non-null float64\n",
      "MPIRandomAccess_LCG_GUPs                871535 non-null float64\n",
      "MPIRandomAccess_GUPs                    871535 non-null float64\n",
      "StarRandomAccess_LCG_GUPs               871535 non-null float64\n",
      "SingleRandomAccess_LCG_GUPs             871535 non-null float64\n",
      "StarRandomAccess_GUPs                   871535 non-null float64\n",
      "SingleRandomAccess_GUPs                 871535 non-null float64\n",
      "StarSTREAM_Copy                         871535 non-null float64\n",
      "StarSTREAM_Scale                        871535 non-null float64\n",
      "StarSTREAM_Add                          871535 non-null float64\n",
      "StarSTREAM_Triad                        871535 non-null float64\n",
      "SingleSTREAM_Copy                       871535 non-null float64\n",
      "SingleSTREAM_Scale                      871535 non-null float64\n",
      "SingleSTREAM_Add                        871535 non-null float64\n",
      "SingleSTREAM_Triad                      871535 non-null float64\n",
      "StarFFT_Gflops                          871535 non-null float64\n",
      "SingleFFT_Gflops                        871535 non-null float64\n",
      "MPIFFT_Gflops                           871535 non-null float64\n",
      "MaxPingPongLatency_usec                 871535 non-null float64\n",
      "RandomlyOrderedRingLatency_usec         871535 non-null float64\n",
      "MinPingPongBandwidth_GBytes             871535 non-null float64\n",
      "NaturallyOrderedRingBandwidth_GBytes    871535 non-null float64\n",
      "RandomlyOrderedRingBandwidth_GBytes     871535 non-null float64\n",
      "MinPingPongLatency_usec                 871535 non-null float64\n",
      "AvgPingPongLatency_usec                 871535 non-null float64\n",
      "MaxPingPongBandwidth_GBytes             871535 non-null float64\n",
      "AvgPingPongBandwidth_GBytes             871535 non-null float64\n",
      "NaturallyOrderedRingLatency_usec        871535 non-null float64\n",
      "MemProc                                 871535 non-null int64\n",
      "core_count                              871535 non-null int64\n",
      "cpu_freq                                871535 non-null int64\n",
      "bogo_mips                               871535 non-null float64\n",
      "l1_cache                                871535 non-null int64\n",
      "l2_cache                                871535 non-null int64\n",
      "l3_cache                                871535 non-null int64\n",
      "memory_size                             871535 non-null int64\n",
      "memory_freq                             871535 non-null int64\n",
      "memory_type                             871535 non-null int64\n",
      "rows                                    871535 non-null int64\n",
      "cols                                    871535 non-null int64\n",
      "min_nnz_row                             871535 non-null int64\n",
      "row_var                                 871535 non-null float64\n",
      "col_var                                 871535 non-null float64\n",
      "diag_var                                871535 non-null float64\n",
      "nnz                                     871535 non-null int64\n",
      "frob_norm                               871535 non-null float64\n",
      "symm_frob_norm                          871535 non-null float64\n",
      "antisymm_frob_norm                      871535 non-null float64\n",
      "one_norm                                871535 non-null float64\n",
      "inf_norm                                871535 non-null float64\n",
      "symm_inf_norm                           871535 non-null float64\n",
      "antisymm_inf_norm                       871535 non-null float64\n",
      "max_nnz_row                             871535 non-null int64\n",
      "trace                                   871535 non-null float64\n",
      "abs_trace                               871535 non-null float64\n",
      "min_nnz_row.1                           871535 non-null int64\n",
      "avg_nnz_row                             871535 non-null int64\n",
      "dummy_rows                              871535 non-null int64\n",
      "dummy_rows_kind                         871535 non-null int64\n",
      "num_value_symm_1                        871535 non-null int64\n",
      "nnz_pattern_symm_1                      871535 non-null int64\n",
      "num_value_symm_2                        871535 non-null float64\n",
      "nnz_pattern_symm_2                      871535 non-null float64\n",
      "row_diag_dom                            871535 non-null int64\n",
      "col_diag_dom                            871535 non-null int64\n",
      "diag_avg                                871535 non-null float64\n",
      "diag_sign                               871535 non-null int64\n",
      "diag_nnz                                871535 non-null int64\n",
      "lower_bw                                871535 non-null int64\n",
      "upper_bw                                871535 non-null int64\n",
      "row_log_val_spread                      871535 non-null float64\n",
      "col_log_val_spread                      871535 non-null float64\n",
      "symm                                    871535 non-null int64\n",
      "matrix_id                               871535 non-null int64\n",
      "np                                      871535 non-null int64\n",
      "time                                    871535 non-null float64\n",
      "solver_id                               871535 non-null int64\n",
      "prec_id                                 871535 non-null int64\n",
      "status_id                               871535 non-null int64\n",
      "dtypes: float64(50), int64(33)\n",
      "memory usage: 558.5 MB\n"
     ]
    }
   ],
   "source": [
    "pts.info()"
   ]
  },
  {
   "cell_type": "code",
   "execution_count": 18,
   "metadata": {
    "collapsed": true
   },
   "outputs": [],
   "source": [
    "all_data = pts.drop([\n",
    "'matrix_id',\n",
    "'system_id',\n",
    "'time',\n",
    "'matrix_id',\n",
    "'status_id'], axis=1)"
   ]
  },
  {
   "cell_type": "code",
   "execution_count": 4,
   "metadata": {},
   "outputs": [],
   "source": [
    "# plain_data = pts.drop([\n",
    "# 'matrix_id', \n",
    "# 'status_id', \n",
    "# 'time', \n",
    "# 'HPL_Tflops',        \n",
    "# 'StarDGEMM_Gflops',                        \n",
    "# 'SingleDGEMM_Gflops',                      \n",
    "# 'PTRANS_GBs',                              \n",
    "# 'MPIRandomAccess_LCG_GUPs',                \n",
    "# 'MPIRandomAccess_GUPs',                    \n",
    "# 'StarRandomAccess_LCG_GUPs',               \n",
    "# 'SingleRandomAccess_LCG_GUPs',             \n",
    "# 'StarRandomAccess_GUPs',                   \n",
    "# 'SingleRandomAccess_GUPs',                 \n",
    "# 'StarSTREAM_Copy',                         \n",
    "# 'StarSTREAM_Scale',                        \n",
    "# 'StarSTREAM_Add',                          \n",
    "# 'StarSTREAM_Triad',                        \n",
    "# 'SingleSTREAM_Copy',                       \n",
    "# 'SingleSTREAM_Scale',                      \n",
    "# 'SingleSTREAM_Add',                        \n",
    "# 'SingleSTREAM_Triad',                      \n",
    "# 'StarFFT_Gflops',                          \n",
    "# 'SingleFFT_Gflops',                        \n",
    "# 'MPIFFT_Gflops',                           \n",
    "# 'MaxPingPongLatency_usec',                 \n",
    "# 'RandomlyOrderedRingLatency_usec',         \n",
    "# 'MinPingPongBandwidth_GBytes',             \n",
    "# 'NaturallyOrderedRingBandwidth_GBytes',    \n",
    "# 'RandomlyOrderedRingBandwidth_GBytes',     \n",
    "# 'MinPingPongLatency_usec',                 \n",
    "# 'AvgPingPongLatency_usec',                 \n",
    "# 'MaxPingPongBandwidth_GBytes',             \n",
    "# 'AvgPingPongBandwidth_GBytes',             \n",
    "# 'NaturallyOrderedRingLatency_usec',        \n",
    "# 'MemProc',                                \n",
    "# 'core_count',                              \n",
    "# 'cpu_freq',                                \n",
    "# 'bogo_mips',                              \n",
    "# 'l1_cache',                                \n",
    "# 'l2_cache',                                \n",
    "# 'l3_cache',                                \n",
    "# 'memory_size',                             \n",
    "# 'memory_freq',                             \n",
    "# 'memory_type'], axis=1)"
   ]
  },
  {
   "cell_type": "code",
   "execution_count": 19,
   "metadata": {
    "scrolled": true
   },
   "outputs": [
    {
     "name": "stdout",
     "output_type": "stream",
     "text": [
      "<class 'pandas.core.frame.DataFrame'>\n",
      "Int64Index: 871535 entries, 0 to 871534\n",
      "Data columns (total 79 columns):\n",
      "HPL_Tflops                              871535 non-null float64\n",
      "StarDGEMM_Gflops                        871535 non-null float64\n",
      "SingleDGEMM_Gflops                      871535 non-null float64\n",
      "PTRANS_GBs                              871535 non-null float64\n",
      "MPIRandomAccess_LCG_GUPs                871535 non-null float64\n",
      "MPIRandomAccess_GUPs                    871535 non-null float64\n",
      "StarRandomAccess_LCG_GUPs               871535 non-null float64\n",
      "SingleRandomAccess_LCG_GUPs             871535 non-null float64\n",
      "StarRandomAccess_GUPs                   871535 non-null float64\n",
      "SingleRandomAccess_GUPs                 871535 non-null float64\n",
      "StarSTREAM_Copy                         871535 non-null float64\n",
      "StarSTREAM_Scale                        871535 non-null float64\n",
      "StarSTREAM_Add                          871535 non-null float64\n",
      "StarSTREAM_Triad                        871535 non-null float64\n",
      "SingleSTREAM_Copy                       871535 non-null float64\n",
      "SingleSTREAM_Scale                      871535 non-null float64\n",
      "SingleSTREAM_Add                        871535 non-null float64\n",
      "SingleSTREAM_Triad                      871535 non-null float64\n",
      "StarFFT_Gflops                          871535 non-null float64\n",
      "SingleFFT_Gflops                        871535 non-null float64\n",
      "MPIFFT_Gflops                           871535 non-null float64\n",
      "MaxPingPongLatency_usec                 871535 non-null float64\n",
      "RandomlyOrderedRingLatency_usec         871535 non-null float64\n",
      "MinPingPongBandwidth_GBytes             871535 non-null float64\n",
      "NaturallyOrderedRingBandwidth_GBytes    871535 non-null float64\n",
      "RandomlyOrderedRingBandwidth_GBytes     871535 non-null float64\n",
      "MinPingPongLatency_usec                 871535 non-null float64\n",
      "AvgPingPongLatency_usec                 871535 non-null float64\n",
      "MaxPingPongBandwidth_GBytes             871535 non-null float64\n",
      "AvgPingPongBandwidth_GBytes             871535 non-null float64\n",
      "NaturallyOrderedRingLatency_usec        871535 non-null float64\n",
      "MemProc                                 871535 non-null int64\n",
      "core_count                              871535 non-null int64\n",
      "cpu_freq                                871535 non-null int64\n",
      "bogo_mips                               871535 non-null float64\n",
      "l1_cache                                871535 non-null int64\n",
      "l2_cache                                871535 non-null int64\n",
      "l3_cache                                871535 non-null int64\n",
      "memory_size                             871535 non-null int64\n",
      "memory_freq                             871535 non-null int64\n",
      "memory_type                             871535 non-null int64\n",
      "rows                                    871535 non-null int64\n",
      "cols                                    871535 non-null int64\n",
      "min_nnz_row                             871535 non-null int64\n",
      "row_var                                 871535 non-null float64\n",
      "col_var                                 871535 non-null float64\n",
      "diag_var                                871535 non-null float64\n",
      "nnz                                     871535 non-null int64\n",
      "frob_norm                               871535 non-null float64\n",
      "symm_frob_norm                          871535 non-null float64\n",
      "antisymm_frob_norm                      871535 non-null float64\n",
      "one_norm                                871535 non-null float64\n",
      "inf_norm                                871535 non-null float64\n",
      "symm_inf_norm                           871535 non-null float64\n",
      "antisymm_inf_norm                       871535 non-null float64\n",
      "max_nnz_row                             871535 non-null int64\n",
      "trace                                   871535 non-null float64\n",
      "abs_trace                               871535 non-null float64\n",
      "min_nnz_row.1                           871535 non-null int64\n",
      "avg_nnz_row                             871535 non-null int64\n",
      "dummy_rows                              871535 non-null int64\n",
      "dummy_rows_kind                         871535 non-null int64\n",
      "num_value_symm_1                        871535 non-null int64\n",
      "nnz_pattern_symm_1                      871535 non-null int64\n",
      "num_value_symm_2                        871535 non-null float64\n",
      "nnz_pattern_symm_2                      871535 non-null float64\n",
      "row_diag_dom                            871535 non-null int64\n",
      "col_diag_dom                            871535 non-null int64\n",
      "diag_avg                                871535 non-null float64\n",
      "diag_sign                               871535 non-null int64\n",
      "diag_nnz                                871535 non-null int64\n",
      "lower_bw                                871535 non-null int64\n",
      "upper_bw                                871535 non-null int64\n",
      "row_log_val_spread                      871535 non-null float64\n",
      "col_log_val_spread                      871535 non-null float64\n",
      "symm                                    871535 non-null int64\n",
      "np                                      871535 non-null int64\n",
      "solver_id                               871535 non-null int64\n",
      "prec_id                                 871535 non-null int64\n",
      "dtypes: float64(49), int64(30)\n",
      "memory usage: 531.9 MB\n"
     ]
    }
   ],
   "source": [
    "all_data.info()"
   ]
  },
  {
   "cell_type": "code",
   "execution_count": 6,
   "metadata": {},
   "outputs": [],
   "source": [
    "summit_only_data = plain_data[plain_data['system_id'] == 3]\n",
    "summit_only_labels = labels[plain_data['system_id'] == 3]"
   ]
  },
  {
   "cell_type": "code",
   "execution_count": 7,
   "metadata": {
    "scrolled": true
   },
   "outputs": [
    {
     "name": "stdout",
     "output_type": "stream",
     "text": [
      "<class 'pandas.core.frame.DataFrame'>\n",
      "Int64Index: 203878 entries, 622584 to 826461\n",
      "Data columns (total 39 columns):\n",
      "system_id             203878 non-null int64\n",
      "rows                  203878 non-null int64\n",
      "cols                  203878 non-null int64\n",
      "min_nnz_row           203878 non-null int64\n",
      "row_var               203878 non-null float64\n",
      "col_var               203878 non-null float64\n",
      "diag_var              203878 non-null float64\n",
      "nnz                   203878 non-null int64\n",
      "frob_norm             203878 non-null float64\n",
      "symm_frob_norm        203878 non-null float64\n",
      "antisymm_frob_norm    203878 non-null float64\n",
      "one_norm              203878 non-null float64\n",
      "inf_norm              203878 non-null float64\n",
      "symm_inf_norm         203878 non-null float64\n",
      "antisymm_inf_norm     203878 non-null float64\n",
      "max_nnz_row           203878 non-null int64\n",
      "trace                 203878 non-null float64\n",
      "abs_trace             203878 non-null float64\n",
      "min_nnz_row.1         203878 non-null int64\n",
      "avg_nnz_row           203878 non-null int64\n",
      "dummy_rows            203878 non-null int64\n",
      "dummy_rows_kind       203878 non-null int64\n",
      "num_value_symm_1      203878 non-null int64\n",
      "nnz_pattern_symm_1    203878 non-null int64\n",
      "num_value_symm_2      203878 non-null float64\n",
      "nnz_pattern_symm_2    203878 non-null float64\n",
      "row_diag_dom          203878 non-null int64\n",
      "col_diag_dom          203878 non-null int64\n",
      "diag_avg              203878 non-null float64\n",
      "diag_sign             203878 non-null int64\n",
      "diag_nnz              203878 non-null int64\n",
      "lower_bw              203878 non-null int64\n",
      "upper_bw              203878 non-null int64\n",
      "row_log_val_spread    203878 non-null float64\n",
      "col_log_val_spread    203878 non-null float64\n",
      "symm                  203878 non-null int64\n",
      "np                    203878 non-null int64\n",
      "solver_id             203878 non-null int64\n",
      "prec_id               203878 non-null int64\n",
      "dtypes: float64(17), int64(22)\n",
      "memory usage: 62.2 MB\n",
      "<class 'pandas.core.frame.DataFrame'>\n",
      "Int64Index: 203878 entries, 622584 to 826461\n",
      "Data columns (total 6 columns):\n",
      "error                    203878 non-null int64\n",
      "converged                203878 non-null int64\n",
      "fastest_np_and_system    203878 non-null int64\n",
      "fastest_np               203878 non-null int64\n",
      "fastest_sys              203878 non-null int64\n",
      "fastest_overall          203878 non-null int64\n",
      "dtypes: int64(6)\n",
      "memory usage: 10.9 MB\n"
     ]
    }
   ],
   "source": [
    "summit_only_data.info()\n",
    "summit_only_labels.info()"
   ]
  },
  {
   "cell_type": "code",
   "execution_count": 38,
   "metadata": {
    "scrolled": true
   },
   "outputs": [
    {
     "data": {
      "text/plain": [
       "array([[0, 1, 0, 0, 0, 0],\n",
       "       [0, 1, 0, 0, 0, 0],\n",
       "       [0, 0, 0, 0, 0, 0],\n",
       "       ..., \n",
       "       [0, 1, 0, 0, 0, 0],\n",
       "       [0, 1, 0, 0, 0, 0],\n",
       "       [0, 1, 0, 0, 0, 0]])"
      ]
     },
     "execution_count": 38,
     "metadata": {},
     "output_type": "execute_result"
    }
   ],
   "source": [
    "X = all_data.as_matrix()\n",
    "y = labels.as_matrix()\n",
    "y"
   ]
  },
  {
   "cell_type": "code",
   "execution_count": 39,
   "metadata": {},
   "outputs": [
    {
     "data": {
      "text/plain": [
       "['all_data_classifier.pkl']"
      ]
     },
     "execution_count": 39,
     "metadata": {},
     "output_type": "execute_result"
    }
   ],
   "source": [
    "from sklearn.externals import joblib\n",
    "classifier = RandomForestClassifier()\n",
    "classifier = classifier.fit(X,y)\n",
    "joblib.dump(classifier, 'all_data_classifier.pkl')"
   ]
  },
  {
   "cell_type": "code",
   "execution_count": 55,
   "metadata": {},
   "outputs": [
    {
     "data": {
      "text/plain": [
       "array([[0, 1, 0, 0, 0, 0],\n",
       "       [0, 1, 0, 0, 0, 0],\n",
       "       [0, 0, 0, 0, 0, 0],\n",
       "       ..., \n",
       "       [0, 1, 0, 0, 0, 0],\n",
       "       [0, 1, 0, 0, 0, 0],\n",
       "       [0, 1, 0, 0, 0, 0]])"
      ]
     },
     "execution_count": 55,
     "metadata": {},
     "output_type": "execute_result"
    }
   ],
   "source": [
    "y_pred = classifier.predict(X)\n",
    "y_pred = y_pred.astype(int)\n",
    "y_pred"
   ]
  },
  {
   "cell_type": "code",
   "execution_count": 75,
   "metadata": {},
   "outputs": [
    {
     "data": {
      "text/plain": [
       "[array([[ 1. ,  0. ],\n",
       "        [ 1. ,  0. ],\n",
       "        [ 0.9,  0.1],\n",
       "        ..., \n",
       "        [ 1. ,  0. ],\n",
       "        [ 1. ,  0. ],\n",
       "        [ 0.9,  0.1]]), array([[ 0. ,  1. ],\n",
       "        [ 0.1,  0.9],\n",
       "        [ 0.7,  0.3],\n",
       "        ..., \n",
       "        [ 0. ,  1. ],\n",
       "        [ 0. ,  1. ],\n",
       "        [ 0.1,  0.9]]), array([[ 0.8,  0.2],\n",
       "        [ 0.9,  0.1],\n",
       "        [ 1. ,  0. ],\n",
       "        ..., \n",
       "        [ 1. ,  0. ],\n",
       "        [ 1. ,  0. ],\n",
       "        [ 1. ,  0. ]]), array([[ 1.,  0.],\n",
       "        [ 1.,  0.],\n",
       "        [ 1.,  0.],\n",
       "        ..., \n",
       "        [ 1.,  0.],\n",
       "        [ 1.,  0.],\n",
       "        [ 1.,  0.]]), array([[ 1.,  0.],\n",
       "        [ 1.,  0.],\n",
       "        [ 1.,  0.],\n",
       "        ..., \n",
       "        [ 1.,  0.],\n",
       "        [ 1.,  0.],\n",
       "        [ 1.,  0.]]), array([[ 1.,  0.],\n",
       "        [ 1.,  0.],\n",
       "        [ 1.,  0.],\n",
       "        ..., \n",
       "        [ 1.,  0.],\n",
       "        [ 1.,  0.],\n",
       "        [ 1.,  0.]])]"
      ]
     },
     "execution_count": 75,
     "metadata": {},
     "output_type": "execute_result"
    }
   ],
   "source": [
    "y_pred_prob = classifier.predict_proba(X)\n",
    "y_pred_prob"
   ]
  },
  {
   "cell_type": "code",
   "execution_count": 80,
   "metadata": {},
   "outputs": [
    {
     "name": "stdout",
     "output_type": "stream",
     "text": [
      "Predicted number of instances:\t 348605 168147 18511 5553 2367 580\n",
      "Predicted probabilities of instances:\n",
      " [ 513699.88492589  357835.1150742 ] \n",
      " [ 692681.60130509  178853.39869567] \n",
      " [ 850268.20762262   21266.79237786] \n",
      " [ 864584.20092999    6950.79907022] \n",
      " [ 867846.23927891    3688.76072121] \n",
      " [ 870614.08617525     920.91382476]\n",
      "Actual number of instances:\t 357726 178625 21098 6904 3616 883\n"
     ]
    }
   ],
   "source": [
    "print(\"Predicted number of instances:\\t\",\n",
    "sum(y_pred[:,0]),\n",
    "sum(y_pred[:,1]),\n",
    "sum(y_pred[:,2]),\n",
    "sum(y_pred[:,3]),\n",
    "sum(y_pred[:,4]),\n",
    "sum(y_pred[:,5]))\n",
    "\n",
    "print(\"Predicted probabilities of instances:\\n\",\n",
    "sum(y_pred_prob[0]), '\\n',\n",
    "sum(y_pred_prob[1]),'\\n',\n",
    "sum(y_pred_prob[2]),'\\n',\n",
    "sum(y_pred_prob[3]),'\\n',\n",
    "sum(y_pred_prob[4]),'\\n',\n",
    "sum(y_pred_prob[5]))\n",
    "\n",
    "print(\"Actual number of instances:\\t\",\n",
    "sum(y[:,0]),\n",
    "sum(y[:,1]),\n",
    "sum(y[:,2]),\n",
    "sum(y[:,3]),\n",
    "sum(y[:,4]),\n",
    "sum(y[:,5]))"
   ]
  },
  {
   "cell_type": "code",
   "execution_count": 56,
   "metadata": {},
   "outputs": [
    {
     "data": {
      "text/plain": [
       "0.89591812147532801"
      ]
     },
     "execution_count": 56,
     "metadata": {},
     "output_type": "execute_result"
    }
   ],
   "source": [
    "classifier.score(X,y)"
   ]
  },
  {
   "cell_type": "code",
   "execution_count": 43,
   "metadata": {},
   "outputs": [
    {
     "name": "stdout",
     "output_type": "stream",
     "text": [
      "1.00632332609\n",
      "0.941945405393\n",
      "0.0704532998292\n"
     ]
    }
   ],
   "source": [
    "from sklearn.metrics import coverage_error, label_ranking_average_precision_score, label_ranking_loss\n",
    "print(coverage_error(y, results_y))\n",
    "print(label_ranking_average_precision_score(y, results_y))\n",
    "print(label_ranking_loss(y, results_y))"
   ]
  },
  {
   "cell_type": "code",
   "execution_count": 86,
   "metadata": {},
   "outputs": [
    {
     "name": "stdout",
     "output_type": "stream",
     "text": [
      "[ 0.90917431  0.90349855  0.88227423  0.84017019  0.70967742  0.70813397]\n",
      "0.904337978546\n",
      "0.825488111613\n"
     ]
    },
    {
     "name": "stderr",
     "output_type": "stream",
     "text": [
      "/usr/local/lib/python3.5/dist-packages/sklearn/metrics/classification.py:1113: UndefinedMetricWarning: F-score is ill-defined and being set to 0.0 in samples with no predicted labels.\n",
      "  'precision', 'predicted', average, warn_for)\n",
      "/usr/local/lib/python3.5/dist-packages/sklearn/metrics/classification.py:1115: UndefinedMetricWarning: F-score is ill-defined and being set to 0.0 in samples with no true labels.\n",
      "  'recall', 'true', average, warn_for)\n"
     ]
    },
    {
     "name": "stdout",
     "output_type": "stream",
     "text": [
      "0.554095122809\n",
      "0.903976694961\n"
     ]
    }
   ],
   "source": [
    "from sklearn.metrics import confusion_matrix, f1_score, fbeta_score\n",
    "print(f1_score(y, y_pred, average=None))\n",
    "print(f1_score(y, y_pred, average='micro'))\n",
    "print(f1_score(y, y_pred, average='macro'))\n",
    "print(f1_score(y, y_pred, average='samples'))\n",
    "print(f1_score(y, y_pred, average='weighted'))\n",
    "scores = fbeta_score(y, y_pred, beta=0.5, average=None)"
   ]
  },
  {
   "cell_type": "code",
   "execution_count": 102,
   "metadata": {},
   "outputs": [
    {
     "name": "stdout",
     "output_type": "stream",
     "text": [
      "             precision    recall  f1-score   support\n",
      "\n",
      "          0       0.92      0.90      0.91    357726\n",
      "          1       0.93      0.88      0.90    178625\n",
      "          2       0.94      0.83      0.88     21098\n",
      "          3       0.94      0.76      0.84      6904\n",
      "          4       0.90      0.59      0.71      3616\n",
      "          5       0.89      0.59      0.71       883\n",
      "\n",
      "avg / total       0.93      0.88      0.90    568852\n",
      "\n",
      "[[486293  27516]\n",
      " [ 36637 321089]]\n"
     ]
    }
   ],
   "source": [
    "from sklearn.metrics import classification_report, confusion_matrix\n",
    "print(classification_report(y,y_pred))\n",
    "print(confusion_matrix(y[:,0],y_pred[:,0]))"
   ]
  },
  {
   "cell_type": "code",
   "execution_count": 103,
   "metadata": {},
   "outputs": [
    {
     "name": "stdout",
     "output_type": "stream",
     "text": [
      "0.871866570886\n"
     ]
    }
   ],
   "source": [
    "from sklearn.metrics import roc_auc_score, roc_curve\n",
    "print(roc_auc_score(y, y_pred))"
   ]
  },
  {
   "cell_type": "code",
   "execution_count": 112,
   "metadata": {},
   "outputs": [
    {
     "name": "stdout",
     "output_type": "stream",
     "text": [
      "0.104081878525\n",
      "90711\n"
     ]
    }
   ],
   "source": [
    "from sklearn.metrics import zero_one_loss\n",
    "print(zero_one_loss(y,y_pred)) # Fraction of misclassifications\n",
    "print(zero_one_loss(y,y_pred,normalize=False)) # num of misclassifications"
   ]
  }
 ],
 "metadata": {
  "kernelspec": {
   "display_name": "Python 3",
   "language": "python",
   "name": "python3"
  },
  "language_info": {
   "codemirror_mode": {
    "name": "ipython",
    "version": 3
   },
   "file_extension": ".py",
   "mimetype": "text/x-python",
   "name": "python",
   "nbconvert_exporter": "python",
   "pygments_lexer": "ipython3",
   "version": "3.5.2"
  }
 },
 "nbformat": 4,
 "nbformat_minor": 2
}
