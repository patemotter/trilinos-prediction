{
 "cells": [
  {
   "cell_type": "code",
   "execution_count": 2,
   "metadata": {
    "collapsed": true
   },
   "outputs": [],
   "source": [
    "import pandas as pd\n",
    "import numpy as np"
   ]
  },
  {
   "cell_type": "code",
   "execution_count": 3,
   "metadata": {
    "collapsed": false
   },
   "outputs": [],
   "source": [
    "combined = pd.read_csv('./janus/all_combined.csv')"
   ]
  },
  {
   "cell_type": "code",
   "execution_count": 4,
   "metadata": {
    "collapsed": false,
    "scrolled": true
   },
   "outputs": [
    {
     "name": "stdout",
     "output_type": "stream",
     "text": [
      "<class 'pandas.core.frame.DataFrame'>\n",
      "RangeIndex: 263057 entries, 0 to 263056\n",
      "Data columns (total 43 columns):\n",
      "Unnamed: 0            263057 non-null int64\n",
      "rows                  263057 non-null int64\n",
      "cols                  263057 non-null int64\n",
      "min_nnz_row           263057 non-null int64\n",
      "row_var               263057 non-null float64\n",
      "col_var               263057 non-null float64\n",
      "diag_var              263057 non-null float64\n",
      "nnz                   263057 non-null int64\n",
      "frob_norm             263057 non-null float64\n",
      "symm_frob_norm        263057 non-null float64\n",
      "antisymm_frob_norm    263057 non-null float64\n",
      "one_norm              263057 non-null float64\n",
      "inf_norm              263057 non-null float64\n",
      "symm_inf_norm         263057 non-null float64\n",
      "antisymm_inf_norm     263057 non-null float64\n",
      "max_nnz_row           263057 non-null int64\n",
      "trace                 263057 non-null float64\n",
      "abs_trace             263057 non-null float64\n",
      "min_nnz_row.1         263057 non-null int64\n",
      "avg_nnz_row           263057 non-null int64\n",
      "dummy_rows            263057 non-null int64\n",
      "dummy_rows_kind       263057 non-null int64\n",
      "num_value_symm_1      263057 non-null int64\n",
      "nnz_pattern_symm_1    263057 non-null int64\n",
      "num_value_symm_2      263057 non-null float64\n",
      "nnz_pattern_symm_2    263057 non-null float64\n",
      "row_diag_dom          263057 non-null int64\n",
      "col_diag_dom          263057 non-null int64\n",
      "diag_avg              263057 non-null float64\n",
      "diag_sign             263057 non-null int64\n",
      "diag_nnz              263057 non-null int64\n",
      "lower_bw              263057 non-null int64\n",
      "upper_bw              263057 non-null int64\n",
      "row_log_val_spread    263057 non-null float64\n",
      "col_log_val_spread    263057 non-null float64\n",
      "symm                  263057 non-null int64\n",
      "matrix_id             263057 non-null int64\n",
      "np                    263057 non-null int64\n",
      "solver_id             263057 non-null int64\n",
      "prec_id               263057 non-null int64\n",
      "status_id             263057 non-null int64\n",
      "new_time              263057 non-null float64\n",
      "good_or_bad           263057 non-null int64\n",
      "dtypes: float64(18), int64(25)\n",
      "memory usage: 86.3 MB\n"
     ]
    }
   ],
   "source": [
    "combined.info()"
   ]
  },
  {
   "cell_type": "code",
   "execution_count": 5,
   "metadata": {
    "collapsed": false
   },
   "outputs": [],
   "source": [
    "good = combined[combined.good_or_bad == 1]"
   ]
  },
  {
   "cell_type": "code",
   "execution_count": 6,
   "metadata": {
    "collapsed": false,
    "scrolled": true
   },
   "outputs": [
    {
     "data": {
      "text/plain": [
       "solver_id\n",
       "0     106\n",
       "1     340\n",
       "2     126\n",
       "3     329\n",
       "4     233\n",
       "5      98\n",
       "6     499\n",
       "7    1113\n",
       "8     315\n",
       "dtype: int64"
      ]
     },
     "execution_count": 6,
     "metadata": {},
     "output_type": "execute_result"
    }
   ],
   "source": [
    "good.groupby('solver_id').size()"
   ]
  },
  {
   "cell_type": "code",
   "execution_count": null,
   "metadata": {
    "collapsed": true
   },
   "outputs": [],
   "source": [
    "good.tf"
   ]
  },
  {
   "cell_type": "code",
   "execution_count": 7,
   "metadata": {
    "collapsed": false
   },
   "outputs": [
    {
     "ename": "AttributeError",
     "evalue": "'DataFrame' object has no attribute 'solver'",
     "output_type": "error",
     "traceback": [
      "\u001b[1;31m---------------------------------------------------------------------------\u001b[0m",
      "\u001b[1;31mAttributeError\u001b[0m                            Traceback (most recent call last)",
      "\u001b[1;32m<ipython-input-7-7fd51ee591bf>\u001b[0m in \u001b[0;36m<module>\u001b[1;34m()\u001b[0m\n\u001b[1;32m----> 1\u001b[1;33m \u001b[0mtfqmr\u001b[0m \u001b[1;33m=\u001b[0m \u001b[0mgood\u001b[0m\u001b[1;33m[\u001b[0m\u001b[0mgood\u001b[0m\u001b[1;33m.\u001b[0m\u001b[0msolver\u001b[0m \u001b[1;33m==\u001b[0m \u001b[1;34m\"tfqmr\"\u001b[0m\u001b[1;33m]\u001b[0m\u001b[1;33m\u001b[0m\u001b[0m\n\u001b[0m",
      "\u001b[1;32m/usr/local/lib/python3.5/dist-packages/pandas/core/generic.py\u001b[0m in \u001b[0;36m__getattr__\u001b[1;34m(self, name)\u001b[0m\n\u001b[0;32m   2742\u001b[0m             \u001b[1;32mif\u001b[0m \u001b[0mname\u001b[0m \u001b[1;32min\u001b[0m \u001b[0mself\u001b[0m\u001b[1;33m.\u001b[0m\u001b[0m_info_axis\u001b[0m\u001b[1;33m:\u001b[0m\u001b[1;33m\u001b[0m\u001b[0m\n\u001b[0;32m   2743\u001b[0m                 \u001b[1;32mreturn\u001b[0m \u001b[0mself\u001b[0m\u001b[1;33m[\u001b[0m\u001b[0mname\u001b[0m\u001b[1;33m]\u001b[0m\u001b[1;33m\u001b[0m\u001b[0m\n\u001b[1;32m-> 2744\u001b[1;33m             \u001b[1;32mreturn\u001b[0m \u001b[0mobject\u001b[0m\u001b[1;33m.\u001b[0m\u001b[0m__getattribute__\u001b[0m\u001b[1;33m(\u001b[0m\u001b[0mself\u001b[0m\u001b[1;33m,\u001b[0m \u001b[0mname\u001b[0m\u001b[1;33m)\u001b[0m\u001b[1;33m\u001b[0m\u001b[0m\n\u001b[0m\u001b[0;32m   2745\u001b[0m \u001b[1;33m\u001b[0m\u001b[0m\n\u001b[0;32m   2746\u001b[0m     \u001b[1;32mdef\u001b[0m \u001b[0m__setattr__\u001b[0m\u001b[1;33m(\u001b[0m\u001b[0mself\u001b[0m\u001b[1;33m,\u001b[0m \u001b[0mname\u001b[0m\u001b[1;33m,\u001b[0m \u001b[0mvalue\u001b[0m\u001b[1;33m)\u001b[0m\u001b[1;33m:\u001b[0m\u001b[1;33m\u001b[0m\u001b[0m\n",
      "\u001b[1;31mAttributeError\u001b[0m: 'DataFrame' object has no attribute 'solver'"
     ]
    }
   ],
   "source": [
    "tfqmr = good[good.solver_id == \"tfqmr\"]"
   ]
  },
  {
   "cell_type": "code",
   "execution_count": null,
   "metadata": {
    "collapsed": true
   },
   "outputs": [],
   "source": []
  }
 ],
 "metadata": {
  "kernelspec": {
   "display_name": "Python 3",
   "language": "python",
   "name": "python3"
  },
  "language_info": {
   "codemirror_mode": {
    "name": "ipython",
    "version": 3
   },
   "file_extension": ".py",
   "mimetype": "text/x-python",
   "name": "python",
   "nbconvert_exporter": "python",
   "pygments_lexer": "ipython3",
   "version": "3.6.0"
  }
 },
 "nbformat": 4,
 "nbformat_minor": 2
}
