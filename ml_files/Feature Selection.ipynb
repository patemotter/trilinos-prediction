{
 "cells": [
  {
   "cell_type": "code",
   "execution_count": 1,
   "metadata": {
    "collapsed": true
   },
   "outputs": [],
   "source": [
    "import pandas as pd\n",
    "import numpy as np"
   ]
  },
  {
   "cell_type": "code",
   "execution_count": 2,
   "metadata": {
    "collapsed": true
   },
   "outputs": [],
   "source": [
    "from pandas import read_csv\n",
    "from sklearn.decomposition import PCA\n",
    "from sklearn.ensemble import ExtraTreesClassifier\n",
    "from sklearn.feature_selection import SelectFromModel\n",
    "from sklearn.linear_model import RandomizedLasso"
   ]
  },
  {
   "cell_type": "code",
   "execution_count": 3,
   "metadata": {},
   "outputs": [],
   "source": [
    "in_all = pd.read_csv('../classifications/merged_with_all_features.csv', index_col=0)"
   ]
  },
  {
   "cell_type": "code",
   "execution_count": 4,
   "metadata": {},
   "outputs": [
    {
     "name": "stdout",
     "output_type": "stream",
     "text": [
      "<class 'pandas.core.frame.DataFrame'>\n",
      "Int64Index: 748916 entries, 0 to 748915\n",
      "Data columns (total 81 columns):\n",
      "system_id                               748916 non-null int64\n",
      "HPL_Tflops                              748916 non-null float64\n",
      "StarDGEMM_Gflops                        748916 non-null float64\n",
      "SingleDGEMM_Gflops                      748916 non-null float64\n",
      "PTRANS_GBs                              748916 non-null float64\n",
      "MPIRandomAccess_LCG_GUPs                748916 non-null float64\n",
      "MPIRandomAccess_GUPs                    748916 non-null float64\n",
      "StarRandomAccess_LCG_GUPs               748916 non-null float64\n",
      "SingleRandomAccess_LCG_GUPs             748916 non-null float64\n",
      "StarRandomAccess_GUPs                   748916 non-null float64\n",
      "SingleRandomAccess_GUPs                 748916 non-null float64\n",
      "StarSTREAM_Copy                         748916 non-null float64\n",
      "StarSTREAM_Scale                        748916 non-null float64\n",
      "StarSTREAM_Add                          748916 non-null float64\n",
      "StarSTREAM_Triad                        748916 non-null float64\n",
      "SingleSTREAM_Copy                       748916 non-null float64\n",
      "SingleSTREAM_Scale                      748916 non-null float64\n",
      "SingleSTREAM_Add                        748916 non-null float64\n",
      "SingleSTREAM_Triad                      748916 non-null float64\n",
      "StarFFT_Gflops                          748916 non-null float64\n",
      "SingleFFT_Gflops                        748916 non-null float64\n",
      "MPIFFT_Gflops                           748916 non-null float64\n",
      "MaxPingPongLatency_usec                 748916 non-null float64\n",
      "RandomlyOrderedRingLatency_usec         748916 non-null float64\n",
      "MinPingPongBandwidth_GBytes             748916 non-null float64\n",
      "NaturallyOrderedRingBandwidth_GBytes    748916 non-null float64\n",
      "RandomlyOrderedRingBandwidth_GBytes     748916 non-null float64\n",
      "MinPingPongLatency_usec                 748916 non-null float64\n",
      "AvgPingPongLatency_usec                 748916 non-null float64\n",
      "MaxPingPongBandwidth_GBytes             748916 non-null float64\n",
      "AvgPingPongBandwidth_GBytes             748916 non-null float64\n",
      "NaturallyOrderedRingLatency_usec        748916 non-null float64\n",
      "MemProc                                 748916 non-null int64\n",
      "core_count                              748916 non-null int64\n",
      "cpu_freq                                748916 non-null int64\n",
      "bogo_mips                               748916 non-null float64\n",
      "l1_cache                                748916 non-null int64\n",
      "l2_cache                                748916 non-null int64\n",
      "l3_cache                                748916 non-null int64\n",
      "memory_size                             748916 non-null int64\n",
      "memory_freq                             748916 non-null int64\n",
      "memory_type                             748916 non-null int64\n",
      "rows                                    748916 non-null int64\n",
      "cols                                    748916 non-null int64\n",
      "min_nnz_row                             748916 non-null int64\n",
      "row_var                                 748916 non-null float64\n",
      "col_var                                 748916 non-null float64\n",
      "diag_var                                748916 non-null float64\n",
      "nnz                                     748916 non-null int64\n",
      "frob_norm                               748916 non-null float64\n",
      "symm_frob_norm                          748916 non-null float64\n",
      "antisymm_frob_norm                      748916 non-null float64\n",
      "one_norm                                748916 non-null float64\n",
      "inf_norm                                748916 non-null float64\n",
      "symm_inf_norm                           748916 non-null float64\n",
      "antisymm_inf_norm                       748916 non-null float64\n",
      "max_nnz_row                             748916 non-null int64\n",
      "trace                                   748916 non-null float64\n",
      "abs_trace                               748916 non-null float64\n",
      "min_nnz_row.1                           748916 non-null int64\n",
      "avg_nnz_row                             748916 non-null int64\n",
      "dummy_rows                              748916 non-null int64\n",
      "dummy_rows_kind                         748916 non-null int64\n",
      "num_value_symm_1                        748916 non-null int64\n",
      "nnz_pattern_symm_1                      748916 non-null int64\n",
      "num_value_symm_2                        748916 non-null float64\n",
      "nnz_pattern_symm_2                      748916 non-null float64\n",
      "row_diag_dom                            748916 non-null int64\n",
      "col_diag_dom                            748916 non-null int64\n",
      "diag_avg                                748916 non-null float64\n",
      "diag_sign                               748916 non-null int64\n",
      "diag_nnz                                748916 non-null int64\n",
      "lower_bw                                748916 non-null int64\n",
      "upper_bw                                748916 non-null int64\n",
      "row_log_val_spread                      748916 non-null float64\n",
      "col_log_val_spread                      748916 non-null float64\n",
      "symm                                    748916 non-null int64\n",
      "np                                      748916 non-null int64\n",
      "solver_id                               748916 non-null int64\n",
      "prec_id                                 748916 non-null int64\n",
      "good_or_bad                             748916 non-null float64\n",
      "dtypes: float64(50), int64(31)\n",
      "memory usage: 468.5 MB\n"
     ]
    }
   ],
   "source": [
    "in_all.info()"
   ]
  },
  {
   "cell_type": "code",
   "execution_count": 5,
   "metadata": {},
   "outputs": [
    {
     "data": {
      "text/plain": [
       "1    243200\n",
       "2    215561\n",
       "4    149605\n",
       "3    140550\n",
       "Name: system_id, dtype: int64"
      ]
     },
     "execution_count": 5,
     "metadata": {},
     "output_type": "execute_result"
    }
   ],
   "source": [
    "in_all.system_id.value_counts()"
   ]
  },
  {
   "cell_type": "code",
   "execution_count": 6,
   "metadata": {},
   "outputs": [],
   "source": [
    "X = in_all.iloc[:,0:-1]\n",
    "y = in_all.iloc[:,-1]"
   ]
  },
  {
   "cell_type": "code",
   "execution_count": 7,
   "metadata": {},
   "outputs": [
    {
     "name": "stdout",
     "output_type": "stream",
     "text": [
      "[  9.56537652e-05   6.88950128e-05   8.42141372e-05   9.60209722e-05\n",
      "   7.14296321e-05   7.46885515e-05   5.70044001e-05   9.15346525e-05\n",
      "   7.90386718e-05   1.03400095e-04   7.45316390e-05   9.89229634e-05\n",
      "   5.77601825e-05   8.80103025e-05   9.11406709e-05   1.12980090e-04\n",
      "   6.75211401e-05   8.45308869e-05   6.58600044e-05   1.42550883e-04\n",
      "   1.01703685e-04   6.37397061e-05   1.05653907e-04   7.67865119e-05\n",
      "   7.84360970e-05   7.27527849e-05   8.26801349e-05   1.12181442e-04\n",
      "   1.08394574e-04   6.04507763e-05   7.39511893e-05   8.76492382e-05\n",
      "   1.17584234e-04   7.00964907e-05   7.98117120e-05   7.72067674e-05\n",
      "   0.00000000e+00   0.00000000e+00   1.04177456e-04   5.65010429e-05\n",
      "   5.88066425e-05   5.17133738e-05   6.43986583e-03   6.31097202e-03\n",
      "   4.66827822e-03   4.52261553e-03   4.97713437e-03   4.75236555e-03\n",
      "   7.07855692e-03   5.58799254e-03   5.18597439e-03   4.83340806e-03\n",
      "   5.28379215e-03   4.75088050e-03   4.89161459e-03   5.24574437e-03\n",
      "   7.95030133e-03   5.06175970e-03   4.67310248e-03   4.21019673e-03\n",
      "   8.34061232e-03   9.85523166e-03   4.54532635e-03   2.17366249e-04\n",
      "   1.84996859e-04   1.14959453e-02   1.09906624e-02   2.28071486e-03\n",
      "   2.83970720e-03   4.79478069e-03   1.43253150e-02   7.57705210e-03\n",
      "   7.19327349e-03   5.49421660e-03   1.05155357e-02   1.01605287e-02\n",
      "   2.23490776e-04   1.22839409e-01   4.36548113e-01   2.29807201e-01]\n"
     ]
    }
   ],
   "source": [
    "model = ExtraTreesClassifier()\n",
    "model.fit(X,y)\n",
    "print(model.feature_importances_)\n",
    "a = model.feature_importances_"
   ]
  },
  {
   "cell_type": "code",
   "execution_count": 8,
   "metadata": {},
   "outputs": [],
   "source": [
    "blah = {}\n",
    "blah[0] = in_all.columns\n",
    "blah[1] = a\n",
    "new_df = pd.DataFrame()"
   ]
  },
  {
   "cell_type": "code",
   "execution_count": 9,
   "metadata": {},
   "outputs": [
    {
     "data": {
      "text/plain": [
       "Index(['system_id', 'HPL_Tflops', 'StarDGEMM_Gflops', 'SingleDGEMM_Gflops',\n",
       "       'PTRANS_GBs', 'MPIRandomAccess_LCG_GUPs', 'MPIRandomAccess_GUPs',\n",
       "       'StarRandomAccess_LCG_GUPs', 'SingleRandomAccess_LCG_GUPs',\n",
       "       'StarRandomAccess_GUPs', 'SingleRandomAccess_GUPs', 'StarSTREAM_Copy',\n",
       "       'StarSTREAM_Scale', 'StarSTREAM_Add', 'StarSTREAM_Triad',\n",
       "       'SingleSTREAM_Copy', 'SingleSTREAM_Scale', 'SingleSTREAM_Add',\n",
       "       'SingleSTREAM_Triad', 'StarFFT_Gflops', 'SingleFFT_Gflops',\n",
       "       'MPIFFT_Gflops', 'MaxPingPongLatency_usec',\n",
       "       'RandomlyOrderedRingLatency_usec', 'MinPingPongBandwidth_GBytes',\n",
       "       'NaturallyOrderedRingBandwidth_GBytes',\n",
       "       'RandomlyOrderedRingBandwidth_GBytes', 'MinPingPongLatency_usec',\n",
       "       'AvgPingPongLatency_usec', 'MaxPingPongBandwidth_GBytes',\n",
       "       'AvgPingPongBandwidth_GBytes', 'NaturallyOrderedRingLatency_usec',\n",
       "       'MemProc', 'core_count', 'cpu_freq', 'bogo_mips', 'l1_cache',\n",
       "       'l2_cache', 'l3_cache', 'memory_size', 'memory_freq', 'memory_type',\n",
       "       'rows', 'cols', 'min_nnz_row', 'row_var', 'col_var', 'diag_var', 'nnz',\n",
       "       'frob_norm', 'symm_frob_norm', 'antisymm_frob_norm', 'one_norm',\n",
       "       'inf_norm', 'symm_inf_norm', 'antisymm_inf_norm', 'max_nnz_row',\n",
       "       'trace', 'abs_trace', 'min_nnz_row.1', 'avg_nnz_row', 'dummy_rows',\n",
       "       'dummy_rows_kind', 'num_value_symm_1', 'nnz_pattern_symm_1',\n",
       "       'num_value_symm_2', 'nnz_pattern_symm_2', 'row_diag_dom',\n",
       "       'col_diag_dom', 'diag_avg', 'diag_sign', 'diag_nnz', 'lower_bw',\n",
       "       'upper_bw', 'row_log_val_spread', 'col_log_val_spread', 'symm', 'np',\n",
       "       'solver_id', 'prec_id'],\n",
       "      dtype='object')"
      ]
     },
     "execution_count": 9,
     "metadata": {},
     "output_type": "execute_result"
    }
   ],
   "source": [
    "X.columns"
   ]
  },
  {
   "cell_type": "code",
   "execution_count": 10,
   "metadata": {},
   "outputs": [
    {
     "name": "stderr",
     "output_type": "stream",
     "text": [
      "/usr/local/lib/python3.5/dist-packages/sklearn/linear_model/least_angle.py:309: ConvergenceWarning: Regressors in active set degenerate. Dropping a regressor, after 14 iterations, i.e. alpha=3.459e-06, with an active set of 14 regressors, and the smallest cholesky pivot element being 2.220e-16\n",
      "  ConvergenceWarning)\n",
      "/usr/local/lib/python3.5/dist-packages/sklearn/linear_model/least_angle.py:334: ConvergenceWarning: Early stopping the lars path, as the residues are small and the current value of alpha is no longer well controlled. 27 iterations, alpha=1.644e-06, previous alpha=1.644e-06, with an active set of 22 regressors.\n",
      "  ConvergenceWarning)\n",
      "/usr/local/lib/python3.5/dist-packages/sklearn/linear_model/least_angle.py:381: RuntimeWarning: overflow encountered in true_divide\n",
      "  g2 = arrayfuncs.min_pos((C + Cov) / (AA + corr_eq_dir + tiny))\n",
      "/usr/local/lib/python3.5/dist-packages/sklearn/linear_model/least_angle.py:381: RuntimeWarning: overflow encountered in true_divide\n",
      "  g2 = arrayfuncs.min_pos((C + Cov) / (AA + corr_eq_dir + tiny))\n"
     ]
    },
    {
     "data": {
      "text/plain": [
       "array([ 0.04 ,  0.115,  0.   ,  0.   ,  0.005,  0.   ,  0.   ,  0.045,\n",
       "        0.   ,  0.075,  0.   ,  0.025,  0.035,  0.05 ,  0.015,  0.   ,\n",
       "        0.   ,  0.   ,  0.   ,  0.115,  0.01 ,  0.005,  0.42 ,  0.08 ,\n",
       "        0.005,  0.035,  0.455,  0.   ,  0.32 ,  0.   ,  0.   ,  0.16 ,\n",
       "        0.   ,  0.   ,  0.025,  0.005,  0.   ,  0.   ,  0.   ,  0.   ,\n",
       "        0.   ,  0.   ,  0.   ,  0.   ,  0.71 ,  0.04 ,  0.015,  0.005,\n",
       "        0.27 ,  0.16 ,  0.19 ,  0.005,  0.175,  0.295,  0.375,  0.43 ,\n",
       "        0.68 ,  0.035,  0.04 ,  0.28 ,  0.885,  0.995,  1.   ,  0.605,\n",
       "        0.225,  0.51 ,  0.525,  0.705,  0.76 ,  0.24 ,  0.045,  0.84 ,\n",
       "        0.855,  0.48 ,  0.3  ,  0.73 ,  0.17 ,  0.49 ,  1.   ,  1.   ])"
      ]
     },
     "execution_count": 10,
     "metadata": {},
     "output_type": "execute_result"
    }
   ],
   "source": [
    "clfLasso = RandomizedLasso()\n",
    "clfLasso.fit(X,y)\n",
    "clfLasso.scores_"
   ]
  },
  {
   "cell_type": "code",
   "execution_count": 11,
   "metadata": {},
   "outputs": [
    {
     "name": "stdout",
     "output_type": "stream",
     "text": [
      "system_id 0.04\n",
      "HPL_Tflops 0.115\n",
      "StarDGEMM_Gflops 0.0\n",
      "SingleDGEMM_Gflops 0.0\n",
      "PTRANS_GBs 0.005\n",
      "MPIRandomAccess_LCG_GUPs 0.0\n",
      "MPIRandomAccess_GUPs 0.0\n",
      "StarRandomAccess_LCG_GUPs 0.045\n",
      "SingleRandomAccess_LCG_GUPs 0.0\n",
      "StarRandomAccess_GUPs 0.075\n",
      "SingleRandomAccess_GUPs 0.0\n",
      "StarSTREAM_Copy 0.025\n",
      "StarSTREAM_Scale 0.035\n",
      "StarSTREAM_Add 0.05\n",
      "StarSTREAM_Triad 0.015\n",
      "SingleSTREAM_Copy 0.0\n",
      "SingleSTREAM_Scale 0.0\n",
      "SingleSTREAM_Add 0.0\n",
      "SingleSTREAM_Triad 0.0\n",
      "StarFFT_Gflops 0.115\n",
      "SingleFFT_Gflops 0.01\n",
      "MPIFFT_Gflops 0.005\n",
      "MaxPingPongLatency_usec 0.42\n",
      "RandomlyOrderedRingLatency_usec 0.08\n",
      "MinPingPongBandwidth_GBytes 0.005\n",
      "NaturallyOrderedRingBandwidth_GBytes 0.035\n",
      "RandomlyOrderedRingBandwidth_GBytes 0.455\n",
      "MinPingPongLatency_usec 0.0\n",
      "AvgPingPongLatency_usec 0.32\n",
      "MaxPingPongBandwidth_GBytes 0.0\n",
      "AvgPingPongBandwidth_GBytes 0.0\n",
      "NaturallyOrderedRingLatency_usec 0.16\n",
      "MemProc 0.0\n",
      "core_count 0.0\n",
      "cpu_freq 0.025\n",
      "bogo_mips 0.005\n",
      "l1_cache 0.0\n",
      "l2_cache 0.0\n",
      "l3_cache 0.0\n",
      "memory_size 0.0\n",
      "memory_freq 0.0\n",
      "memory_type 0.0\n",
      "rows 0.0\n",
      "cols 0.0\n",
      "min_nnz_row 0.71\n",
      "row_var 0.04\n",
      "col_var 0.015\n",
      "diag_var 0.005\n",
      "nnz 0.27\n",
      "frob_norm 0.16\n",
      "symm_frob_norm 0.19\n",
      "antisymm_frob_norm 0.005\n",
      "one_norm 0.175\n",
      "inf_norm 0.295\n",
      "symm_inf_norm 0.375\n",
      "antisymm_inf_norm 0.43\n",
      "max_nnz_row 0.68\n",
      "trace 0.035\n",
      "abs_trace 0.04\n",
      "min_nnz_row.1 0.28\n",
      "avg_nnz_row 0.885\n",
      "dummy_rows 0.995\n",
      "dummy_rows_kind 1.0\n",
      "num_value_symm_1 0.605\n",
      "nnz_pattern_symm_1 0.225\n",
      "num_value_symm_2 0.51\n",
      "nnz_pattern_symm_2 0.525\n",
      "row_diag_dom 0.705\n",
      "col_diag_dom 0.76\n",
      "diag_avg 0.24\n",
      "diag_sign 0.045\n",
      "diag_nnz 0.84\n",
      "lower_bw 0.855\n",
      "upper_bw 0.48\n",
      "row_log_val_spread 0.3\n",
      "col_log_val_spread 0.73\n",
      "symm 0.17\n",
      "np 0.49\n",
      "solver_id 1.0\n",
      "prec_id 1.0\n"
     ]
    }
   ],
   "source": [
    "for i,j in zip(X.columns, clfLasso.scores_):\n",
    "    print(i,j)"
   ]
  }
 ],
 "metadata": {
  "kernelspec": {
   "display_name": "Python 3",
   "language": "python",
   "name": "python3"
  },
  "language_info": {
   "codemirror_mode": {
    "name": "ipython",
    "version": 3
   },
   "file_extension": ".py",
   "mimetype": "text/x-python",
   "name": "python",
   "nbconvert_exporter": "python",
   "pygments_lexer": "ipython3",
   "version": "3.5.2"
  }
 },
 "nbformat": 4,
 "nbformat_minor": 2
}
