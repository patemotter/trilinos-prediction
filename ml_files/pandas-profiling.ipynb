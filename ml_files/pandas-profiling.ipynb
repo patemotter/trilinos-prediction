{
 "cells": [
  {
   "cell_type": "code",
   "execution_count": 5,
   "metadata": {
    "collapsed": true
   },
   "outputs": [],
   "source": [
    "import pandas as pd\n",
    "import pandas_profiling"
   ]
  },
  {
   "cell_type": "code",
   "execution_count": 10,
   "metadata": {
    "collapsed": false
   },
   "outputs": [],
   "source": [
    "timings = pd.read_csv('./processed_timings.csv', header=0, index_col=0)"
   ]
  },
  {
   "cell_type": "code",
   "execution_count": 17,
   "metadata": {
    "collapsed": true
   },
   "outputs": [],
   "source": [
    "props = pd.read_csv('./processed_properties.csv', header=0, index_col=0)"
   ]
  },
  {
   "cell_type": "code",
   "execution_count": null,
   "metadata": {
    "collapsed": true
   },
   "outputs": [],
   "source": [
    "combined = pd.read_csv('./')"
   ]
  },
  {
   "cell_type": "code",
   "execution_count": 13,
   "metadata": {
    "collapsed": true
   },
   "outputs": [],
   "source": [
    "timings_profile = pandas_profiling.ProfileReport(timings)"
   ]
  },
  {
   "cell_type": "code",
   "execution_count": 14,
   "metadata": {
    "collapsed": true
   },
   "outputs": [],
   "source": [
    "props_profile = pandas_profiling.ProfileReport(props)"
   ]
  },
  {
   "cell_type": "code",
   "execution_count": 15,
   "metadata": {
    "collapsed": true
   },
   "outputs": [],
   "source": [
    "timings_profile.to_file('timings_profile.html')"
   ]
  },
  {
   "cell_type": "code",
   "execution_count": 16,
   "metadata": {
    "collapsed": true
   },
   "outputs": [],
   "source": [
    "props_profile.to_file('props_profile.html')"
   ]
  },
  {
   "cell_type": "code",
   "execution_count": 18,
   "metadata": {
    "collapsed": true
   },
   "outputs": [],
   "source": [
    "combined = pd.merge(timings,props)"
   ]
  },
  {
   "cell_type": "code",
   "execution_count": 19,
   "metadata": {
    "collapsed": false
   },
   "outputs": [
    {
     "name": "stderr",
     "output_type": "stream",
     "text": [
      "C:\\Anaconda3\\lib\\site-packages\\numpy\\lib\\function_base.py:3817: RuntimeWarning: invalid value encountered in multiply\n",
      "  x2 = take(ap, indices_above, axis=axis) * weights_above\n"
     ]
    },
    {
     "data": {
      "text/html": [
       "<div>\n",
       "<table border=\"1\" class=\"dataframe\">\n",
       "  <thead>\n",
       "    <tr style=\"text-align: right;\">\n",
       "      <th></th>\n",
       "      <th>np</th>\n",
       "      <th>matrix_id</th>\n",
       "      <th>solver_id</th>\n",
       "      <th>prec_id</th>\n",
       "      <th>status_id</th>\n",
       "      <th>new_time</th>\n",
       "      <th>good_or_bad</th>\n",
       "      <th>rows</th>\n",
       "      <th>cols</th>\n",
       "      <th>min_nnz_row</th>\n",
       "      <th>...</th>\n",
       "      <th>row_diag_dom</th>\n",
       "      <th>col_diag_dom</th>\n",
       "      <th>diag_avg</th>\n",
       "      <th>diag_sign</th>\n",
       "      <th>diag_nnz</th>\n",
       "      <th>lower_bw</th>\n",
       "      <th>upper_bw</th>\n",
       "      <th>row_log_val_spread</th>\n",
       "      <th>col_log_val_spread</th>\n",
       "      <th>symm</th>\n",
       "    </tr>\n",
       "  </thead>\n",
       "  <tbody>\n",
       "    <tr>\n",
       "      <th>count</th>\n",
       "      <td>36295.000000</td>\n",
       "      <td>3.629500e+04</td>\n",
       "      <td>36295.000000</td>\n",
       "      <td>36295.000000</td>\n",
       "      <td>36295.000000</td>\n",
       "      <td>3.629500e+04</td>\n",
       "      <td>36295.000000</td>\n",
       "      <td>36295.000000</td>\n",
       "      <td>36295.000000</td>\n",
       "      <td>36295.000000</td>\n",
       "      <td>...</td>\n",
       "      <td>36295.000000</td>\n",
       "      <td>36295.000000</td>\n",
       "      <td>3.629500e+04</td>\n",
       "      <td>36295.000000</td>\n",
       "      <td>36295.000000</td>\n",
       "      <td>36295.000000</td>\n",
       "      <td>36295.000000</td>\n",
       "      <td>36295.000000</td>\n",
       "      <td>36295.000000</td>\n",
       "      <td>36295.000000</td>\n",
       "    </tr>\n",
       "    <tr>\n",
       "      <th>mean</th>\n",
       "      <td>1.294255</td>\n",
       "      <td>-2.098954e+17</td>\n",
       "      <td>3.972696</td>\n",
       "      <td>1.999669</td>\n",
       "      <td>-0.127676</td>\n",
       "      <td>inf</td>\n",
       "      <td>-0.973385</td>\n",
       "      <td>15586.168563</td>\n",
       "      <td>15586.168563</td>\n",
       "      <td>2.030390</td>\n",
       "      <td>...</td>\n",
       "      <td>0.111448</td>\n",
       "      <td>0.106626</td>\n",
       "      <td>5.882436e+15</td>\n",
       "      <td>1.596308</td>\n",
       "      <td>13752.329880</td>\n",
       "      <td>9750.758066</td>\n",
       "      <td>5137.279295</td>\n",
       "      <td>42.291645</td>\n",
       "      <td>42.409151</td>\n",
       "      <td>0.012398</td>\n",
       "    </tr>\n",
       "    <tr>\n",
       "      <th>std</th>\n",
       "      <td>1.456155</td>\n",
       "      <td>5.132770e+18</td>\n",
       "      <td>2.582842</td>\n",
       "      <td>1.414272</td>\n",
       "      <td>0.772815</td>\n",
       "      <td>NaN</td>\n",
       "      <td>0.229180</td>\n",
       "      <td>23338.280452</td>\n",
       "      <td>23338.280452</td>\n",
       "      <td>4.096596</td>\n",
       "      <td>...</td>\n",
       "      <td>0.454710</td>\n",
       "      <td>0.438144</td>\n",
       "      <td>1.580851e+17</td>\n",
       "      <td>1.484227</td>\n",
       "      <td>22769.883583</td>\n",
       "      <td>20056.006972</td>\n",
       "      <td>13935.997120</td>\n",
       "      <td>68.016502</td>\n",
       "      <td>67.940348</td>\n",
       "      <td>0.110657</td>\n",
       "    </tr>\n",
       "    <tr>\n",
       "      <th>min</th>\n",
       "      <td>1.000000</td>\n",
       "      <td>-9.220398e+18</td>\n",
       "      <td>0.000000</td>\n",
       "      <td>0.000000</td>\n",
       "      <td>-1.000000</td>\n",
       "      <td>3.950600e-04</td>\n",
       "      <td>-1.000000</td>\n",
       "      <td>1000.000000</td>\n",
       "      <td>1000.000000</td>\n",
       "      <td>0.000000</td>\n",
       "      <td>...</td>\n",
       "      <td>0.000000</td>\n",
       "      <td>0.000000</td>\n",
       "      <td>0.000000e+00</td>\n",
       "      <td>-2.000000</td>\n",
       "      <td>0.000000</td>\n",
       "      <td>0.000000</td>\n",
       "      <td>0.000000</td>\n",
       "      <td>0.000000</td>\n",
       "      <td>0.733975</td>\n",
       "      <td>0.000000</td>\n",
       "    </tr>\n",
       "    <tr>\n",
       "      <th>25%</th>\n",
       "      <td>1.000000</td>\n",
       "      <td>-4.703796e+18</td>\n",
       "      <td>2.000000</td>\n",
       "      <td>1.000000</td>\n",
       "      <td>-1.000000</td>\n",
       "      <td>inf</td>\n",
       "      <td>-1.000000</td>\n",
       "      <td>1813.000000</td>\n",
       "      <td>1813.000000</td>\n",
       "      <td>1.000000</td>\n",
       "      <td>...</td>\n",
       "      <td>0.000000</td>\n",
       "      <td>0.000000</td>\n",
       "      <td>1.444200e-01</td>\n",
       "      <td>1.000000</td>\n",
       "      <td>1440.000000</td>\n",
       "      <td>327.000000</td>\n",
       "      <td>0.000000</td>\n",
       "      <td>7.738030</td>\n",
       "      <td>8.000000</td>\n",
       "      <td>0.000000</td>\n",
       "    </tr>\n",
       "    <tr>\n",
       "      <th>50%</th>\n",
       "      <td>1.000000</td>\n",
       "      <td>9.683424e+16</td>\n",
       "      <td>4.000000</td>\n",
       "      <td>2.000000</td>\n",
       "      <td>0.000000</td>\n",
       "      <td>NaN</td>\n",
       "      <td>-1.000000</td>\n",
       "      <td>5850.000000</td>\n",
       "      <td>5850.000000</td>\n",
       "      <td>1.000000</td>\n",
       "      <td>...</td>\n",
       "      <td>0.000000</td>\n",
       "      <td>0.000000</td>\n",
       "      <td>2.568980e+00</td>\n",
       "      <td>2.000000</td>\n",
       "      <td>4257.000000</td>\n",
       "      <td>1763.000000</td>\n",
       "      <td>420.000000</td>\n",
       "      <td>18.206699</td>\n",
       "      <td>18.338100</td>\n",
       "      <td>0.000000</td>\n",
       "    </tr>\n",
       "    <tr>\n",
       "      <th>75%</th>\n",
       "      <td>1.000000</td>\n",
       "      <td>4.103208e+18</td>\n",
       "      <td>6.000000</td>\n",
       "      <td>3.000000</td>\n",
       "      <td>0.000000</td>\n",
       "      <td>inf</td>\n",
       "      <td>-1.000000</td>\n",
       "      <td>19998.000000</td>\n",
       "      <td>19998.000000</td>\n",
       "      <td>1.000000</td>\n",
       "      <td>...</td>\n",
       "      <td>0.000000</td>\n",
       "      <td>0.000000</td>\n",
       "      <td>4.696360e+02</td>\n",
       "      <td>3.000000</td>\n",
       "      <td>16129.000000</td>\n",
       "      <td>10779.000000</td>\n",
       "      <td>3000.000000</td>\n",
       "      <td>32.754002</td>\n",
       "      <td>32.715099</td>\n",
       "      <td>0.000000</td>\n",
       "    </tr>\n",
       "    <tr>\n",
       "      <th>max</th>\n",
       "      <td>12.000000</td>\n",
       "      <td>9.178332e+18</td>\n",
       "      <td>8.000000</td>\n",
       "      <td>4.000000</td>\n",
       "      <td>1.000000</td>\n",
       "      <td>inf</td>\n",
       "      <td>1.000000</td>\n",
       "      <td>155924.000000</td>\n",
       "      <td>155924.000000</td>\n",
       "      <td>48.000000</td>\n",
       "      <td>...</td>\n",
       "      <td>2.000000</td>\n",
       "      <td>2.000000</td>\n",
       "      <td>4.485230e+18</td>\n",
       "      <td>3.000000</td>\n",
       "      <td>155924.000000</td>\n",
       "      <td>154381.000000</td>\n",
       "      <td>104472.000000</td>\n",
       "      <td>328.273987</td>\n",
       "      <td>328.306000</td>\n",
       "      <td>1.000000</td>\n",
       "    </tr>\n",
       "  </tbody>\n",
       "</table>\n",
       "<p>8 rows × 42 columns</p>\n",
       "</div>"
      ],
      "text/plain": [
       "                 np     matrix_id     solver_id       prec_id     status_id  \\\n",
       "count  36295.000000  3.629500e+04  36295.000000  36295.000000  36295.000000   \n",
       "mean       1.294255 -2.098954e+17      3.972696      1.999669     -0.127676   \n",
       "std        1.456155  5.132770e+18      2.582842      1.414272      0.772815   \n",
       "min        1.000000 -9.220398e+18      0.000000      0.000000     -1.000000   \n",
       "25%        1.000000 -4.703796e+18      2.000000      1.000000     -1.000000   \n",
       "50%        1.000000  9.683424e+16      4.000000      2.000000      0.000000   \n",
       "75%        1.000000  4.103208e+18      6.000000      3.000000      0.000000   \n",
       "max       12.000000  9.178332e+18      8.000000      4.000000      1.000000   \n",
       "\n",
       "           new_time   good_or_bad           rows           cols   min_nnz_row  \\\n",
       "count  3.629500e+04  36295.000000   36295.000000   36295.000000  36295.000000   \n",
       "mean            inf     -0.973385   15586.168563   15586.168563      2.030390   \n",
       "std             NaN      0.229180   23338.280452   23338.280452      4.096596   \n",
       "min    3.950600e-04     -1.000000    1000.000000    1000.000000      0.000000   \n",
       "25%             inf     -1.000000    1813.000000    1813.000000      1.000000   \n",
       "50%             NaN     -1.000000    5850.000000    5850.000000      1.000000   \n",
       "75%             inf     -1.000000   19998.000000   19998.000000      1.000000   \n",
       "max             inf      1.000000  155924.000000  155924.000000     48.000000   \n",
       "\n",
       "           ...       row_diag_dom  col_diag_dom      diag_avg     diag_sign  \\\n",
       "count      ...       36295.000000  36295.000000  3.629500e+04  36295.000000   \n",
       "mean       ...           0.111448      0.106626  5.882436e+15      1.596308   \n",
       "std        ...           0.454710      0.438144  1.580851e+17      1.484227   \n",
       "min        ...           0.000000      0.000000  0.000000e+00     -2.000000   \n",
       "25%        ...           0.000000      0.000000  1.444200e-01      1.000000   \n",
       "50%        ...           0.000000      0.000000  2.568980e+00      2.000000   \n",
       "75%        ...           0.000000      0.000000  4.696360e+02      3.000000   \n",
       "max        ...           2.000000      2.000000  4.485230e+18      3.000000   \n",
       "\n",
       "            diag_nnz       lower_bw       upper_bw  row_log_val_spread  \\\n",
       "count   36295.000000   36295.000000   36295.000000        36295.000000   \n",
       "mean    13752.329880    9750.758066    5137.279295           42.291645   \n",
       "std     22769.883583   20056.006972   13935.997120           68.016502   \n",
       "min         0.000000       0.000000       0.000000            0.000000   \n",
       "25%      1440.000000     327.000000       0.000000            7.738030   \n",
       "50%      4257.000000    1763.000000     420.000000           18.206699   \n",
       "75%     16129.000000   10779.000000    3000.000000           32.754002   \n",
       "max    155924.000000  154381.000000  104472.000000          328.273987   \n",
       "\n",
       "       col_log_val_spread          symm  \n",
       "count        36295.000000  36295.000000  \n",
       "mean            42.409151      0.012398  \n",
       "std             67.940348      0.110657  \n",
       "min              0.733975      0.000000  \n",
       "25%              8.000000      0.000000  \n",
       "50%             18.338100      0.000000  \n",
       "75%             32.715099      0.000000  \n",
       "max            328.306000      1.000000  \n",
       "\n",
       "[8 rows x 42 columns]"
      ]
     },
     "execution_count": 19,
     "metadata": {},
     "output_type": "execute_result"
    }
   ],
   "source": [
    "combined.describe()"
   ]
  },
  {
   "cell_type": "code",
   "execution_count": 20,
   "metadata": {
    "collapsed": false
   },
   "outputs": [
    {
     "name": "stdout",
     "output_type": "stream",
     "text": [
      "<class 'pandas.core.frame.DataFrame'>\n",
      "Int64Index: 36295 entries, 0 to 36294\n",
      "Data columns (total 43 columns):\n",
      "np                    36295 non-null int64\n",
      "matrix                36295 non-null object\n",
      "matrix_id             36295 non-null int64\n",
      "solver_id             36295 non-null int64\n",
      "prec_id               36295 non-null int64\n",
      "status_id             36295 non-null int64\n",
      "new_time              36295 non-null float64\n",
      "good_or_bad           36295 non-null int64\n",
      "rows                  36295 non-null int64\n",
      "cols                  36295 non-null int64\n",
      "min_nnz_row           36295 non-null int64\n",
      "row_var               36295 non-null float64\n",
      "col_var               36295 non-null float64\n",
      "diag_var              36295 non-null float64\n",
      "nnz                   36295 non-null int64\n",
      "frob_norm             36295 non-null float64\n",
      "symm_frob_norm        36295 non-null float64\n",
      "antisymm_frob_norm    36295 non-null float64\n",
      "one_norm              36295 non-null float64\n",
      "inf_norm              36295 non-null float64\n",
      "symm_inf_norm         36295 non-null float64\n",
      "antisymm_inf_norm     36295 non-null float64\n",
      "max_nnz_row           36295 non-null int64\n",
      "trace                 36295 non-null float64\n",
      "abs_trace             36295 non-null float64\n",
      "min_nnz_row.1         36295 non-null int64\n",
      "avg_nnz_row           36295 non-null int64\n",
      "dummy_rows            36295 non-null int64\n",
      "dummy_rows_kind       36295 non-null int64\n",
      "num_value_symm_1      36295 non-null int64\n",
      "nnz_pattern_symm_1    36295 non-null int64\n",
      "num_value_symm_2      36295 non-null float64\n",
      "nnz_pattern_symm_2    36295 non-null float64\n",
      "row_diag_dom          36295 non-null int64\n",
      "col_diag_dom          36295 non-null int64\n",
      "diag_avg              36295 non-null float64\n",
      "diag_sign             36295 non-null int64\n",
      "diag_nnz              36295 non-null int64\n",
      "lower_bw              36295 non-null int64\n",
      "upper_bw              36295 non-null int64\n",
      "row_log_val_spread    36295 non-null float64\n",
      "col_log_val_spread    36295 non-null float64\n",
      "symm                  36295 non-null int64\n",
      "dtypes: float64(18), int64(24), object(1)\n",
      "memory usage: 12.2+ MB\n"
     ]
    }
   ],
   "source": [
    "combined.info()"
   ]
  },
  {
   "cell_type": "code",
   "execution_count": 21,
   "metadata": {
    "collapsed": true
   },
   "outputs": [],
   "source": [
    "combined_profile = pandas_profiling.ProfileReport(combined)"
   ]
  },
  {
   "cell_type": "code",
   "execution_count": 22,
   "metadata": {
    "collapsed": true
   },
   "outputs": [],
   "source": [
    "combined_profile.to_file('./combined_profile.html')"
   ]
  },
  {
   "cell_type": "code",
   "execution_count": null,
   "metadata": {
    "collapsed": true
   },
   "outputs": [],
   "source": []
  }
 ],
 "metadata": {
  "anaconda-cloud": {},
  "kernelspec": {
   "display_name": "Python [default]",
   "language": "python",
   "name": "python3"
  },
  "language_info": {
   "codemirror_mode": {
    "name": "ipython",
    "version": 3
   },
   "file_extension": ".py",
   "mimetype": "text/x-python",
   "name": "python",
   "nbconvert_exporter": "python",
   "pygments_lexer": "ipython3",
   "version": "3.5.2"
  }
 },
 "nbformat": 4,
 "nbformat_minor": 0
}
