{
 "cells": [
  {
   "cell_type": "markdown",
   "metadata": {},
   "source": [
    "This script determines the columns which can be removed either because they correlate exactly '1' with another column or because they have too little variation."
   ]
  },
  {
   "cell_type": "code",
   "execution_count": null,
   "metadata": {
    "collapsed": false,
    "scrolled": true
   },
   "outputs": [],
   "source": [
    "import pandas_profiling\n",
    "import pandas as pd\n",
    "name = \"janus\"\n",
    "loc = \"../data/\" + name + \"/\" + name "
   ]
  },
  {
   "cell_type": "code",
   "execution_count": null,
   "metadata": {
    "collapsed": false
   },
   "outputs": [],
   "source": [
    "props = pd.read_csv('../data/processed_properties.csv', header=0, index_col=0)\n",
    "props = props.drop_duplicates()\n",
    "props_profile = pandas_profiling.ProfileReport(props)\n",
    "props_profile.to_file(loc + '_props_profile.html')"
   ]
  },
  {
   "cell_type": "code",
   "execution_count": null,
   "metadata": {
    "collapsed": false
   },
   "outputs": [],
   "source": [
    "timings = pd.read_csv(loc + '_processed_timings.csv', header=0, index_col=0)\n",
    "timings = timings.drop_duplicates()\n",
    "timings_profile = pandas_profiling.ProfileReport(timings)\n",
    "timings_profile.to_file(loc + '_timings_profile.html')"
   ]
  },
  {
   "cell_type": "code",
   "execution_count": null,
   "metadata": {
    "collapsed": false
   },
   "outputs": [],
   "source": [
    "combined = pd.merge(props,timings, on='matrix_id')\n",
    "combined = combined.drop_duplicates()\n",
    "combined_profile = pandas_profiling.ProfileReport(combined)\n",
    "combined_profile.to_file(loc + '_combined_profile.html')"
   ]
  }
 ],
 "metadata": {
  "anaconda-cloud": {},
  "kernelspec": {
   "display_name": "Python 3",
   "language": "python",
   "name": "python3"
  },
  "language_info": {
   "codemirror_mode": {
    "name": "ipython",
    "version": 3
   },
   "file_extension": ".py",
   "mimetype": "text/x-python",
   "name": "python",
   "nbconvert_exporter": "python",
   "pygments_lexer": "ipython3",
   "version": "3.5.2"
  }
 },
 "nbformat": 4,
 "nbformat_minor": 0
}
