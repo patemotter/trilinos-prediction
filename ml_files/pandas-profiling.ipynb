{
 "cells": [
  {
   "cell_type": "markdown",
   "metadata": {},
   "source": [
    "### This script generates profiles of pandas dataframes using the Pandas-Profiling library"
   ]
  },
  {
   "cell_type": "code",
   "execution_count": 1,
   "metadata": {
    "scrolled": true
   },
   "outputs": [
    {
     "name": "stderr",
     "output_type": "stream",
     "text": [
      "/usr/local/lib/python3.5/dist-packages/matplotlib/__init__.py:1401: UserWarning:  This call to matplotlib.use() has no effect\n",
      "because the backend has already been chosen;\n",
      "matplotlib.use() must be called *before* pylab, matplotlib.pyplot,\n",
      "or matplotlib.backends is imported for the first time.\n",
      "\n",
      "  warnings.warn(_use_error_msg)\n"
     ]
    }
   ],
   "source": [
    "import pandas_profiling\n",
    "import pandas as pd"
   ]
  },
  {
   "cell_type": "markdown",
   "metadata": {},
   "source": [
    "\n",
    "#### Generate profile just for the properties"
   ]
  },
  {
   "cell_type": "code",
   "execution_count": 2,
   "metadata": {
    "scrolled": true
   },
   "outputs": [
    {
     "name": "stdout",
     "output_type": "stream",
     "text": [
      "<class 'pandas.core.frame.DataFrame'>\n",
      "Int64Index: 1828 entries, 0 to 1827\n",
      "Data columns (total 37 columns):\n",
      "rows                  1828 non-null int64\n",
      "cols                  1828 non-null int64\n",
      "min_nnz_row           1828 non-null int64\n",
      "row_var               1828 non-null float64\n",
      "col_var               1828 non-null float64\n",
      "diag_var              1828 non-null float64\n",
      "nnz                   1828 non-null int64\n",
      "frob_norm             1828 non-null float64\n",
      "symm_frob_norm        1828 non-null float64\n",
      "antisymm_frob_norm    1828 non-null float64\n",
      "one_norm              1828 non-null float64\n",
      "inf_norm              1828 non-null float64\n",
      "symm_inf_norm         1828 non-null float64\n",
      "antisymm_inf_norm     1828 non-null float64\n",
      "max_nnz_row           1828 non-null int64\n",
      "trace                 1828 non-null float64\n",
      "abs_trace             1828 non-null float64\n",
      "min_nnz_row.1         1828 non-null int64\n",
      "avg_nnz_row           1828 non-null int64\n",
      "dummy_rows            1828 non-null int64\n",
      "dummy_rows_kind       1828 non-null int64\n",
      "num_value_symm_1      1828 non-null int64\n",
      "nnz_pattern_symm_1    1828 non-null int64\n",
      "num_value_symm_2      1828 non-null float64\n",
      "nnz_pattern_symm_2    1828 non-null float64\n",
      "row_diag_dom          1828 non-null int64\n",
      "col_diag_dom          1828 non-null int64\n",
      "diag_avg              1828 non-null float64\n",
      "diag_sign             1828 non-null int64\n",
      "diag_nnz              1828 non-null int64\n",
      "lower_bw              1828 non-null int64\n",
      "upper_bw              1828 non-null int64\n",
      "row_log_val_spread    1828 non-null float64\n",
      "col_log_val_spread    1828 non-null float64\n",
      "symm                  1828 non-null int64\n",
      "matrix                1828 non-null object\n",
      "matrix_id             1828 non-null int64\n",
      "dtypes: float64(17), int64(19), object(1)\n",
      "memory usage: 542.7+ KB\n"
     ]
    },
    {
     "name": "stderr",
     "output_type": "stream",
     "text": [
      "/usr/local/lib/python3.5/dist-packages/pandas_profiling/base.py:59: RuntimeWarning: overflow encountered in long_scalars\n",
      "  stats['range'] = stats['max'] - stats['min']\n"
     ]
    }
   ],
   "source": [
    "props = pd.read_csv('../data/processed_properties.csv', \n",
    "                    header=0, index_col=0)\n",
    "props = props.drop_duplicates()\n",
    "props = props.dropna()\n",
    "props.info()\n",
    "props_profile = pandas_profiling.ProfileReport(props)\n",
    "props_profile.to_file('props_profile.html')"
   ]
  },
  {
   "cell_type": "markdown",
   "metadata": {},
   "source": [
    "#### Generate profiles for the individual systems+properties"
   ]
  },
  {
   "cell_type": "code",
   "execution_count": 3,
   "metadata": {
    "scrolled": true
   },
   "outputs": [
    {
     "name": "stdout",
     "output_type": "stream",
     "text": [
      "<class 'pandas.core.frame.DataFrame'>\n",
      "Int64Index: 96516 entries, 0 to 33593\n",
      "Data columns (total 16 columns):\n",
      "system         96516 non-null object\n",
      "numprocs       96516 non-null int64\n",
      "matrix         96516 non-null object\n",
      "solver         96516 non-null object\n",
      "prec           96516 non-null object\n",
      "status         96516 non-null object\n",
      "time           96516 non-null float64\n",
      "iters          96516 non-null float64\n",
      "resid          96516 non-null float64\n",
      "system_id      96516 non-null int64\n",
      "solver_id      96516 non-null int64\n",
      "prec_id        96516 non-null int64\n",
      "status_id      96516 non-null int64\n",
      "good_or_bad    96516 non-null int64\n",
      "new_time       96516 non-null float64\n",
      "matrix_id      96516 non-null int64\n",
      "dtypes: float64(4), int64(7), object(5)\n",
      "memory usage: 12.5+ MB\n"
     ]
    },
    {
     "name": "stderr",
     "output_type": "stream",
     "text": [
      "/usr/local/lib/python3.5/dist-packages/pandas_profiling/base.py:59: RuntimeWarning: overflow encountered in long_scalars\n",
      "  stats['range'] = stats['max'] - stats['min']\n",
      "/usr/local/lib/python3.5/dist-packages/pandas_profiling/base.py:59: RuntimeWarning: overflow encountered in long_scalars\n",
      "  stats['range'] = stats['max'] - stats['min']\n"
     ]
    }
   ],
   "source": [
    "comet = pd.read_csv('../data/comet/comet_unprocessed_timings.csv', \n",
    "                    header=0, index_col=0)\n",
    "comet = comet.drop_duplicates()\n",
    "comet = comet.dropna()\n",
    "comet.info()\n",
    "comet_merged = pd.merge(comet, props, on='matrix')\n",
    "comet_profile = pandas_profiling.ProfileReport(comet_merged)\n",
    "comet_profile.to_file('comet_unprocessed_timings_profile.html')"
   ]
  },
  {
   "cell_type": "code",
   "execution_count": 4,
   "metadata": {
    "scrolled": true
   },
   "outputs": [
    {
     "name": "stdout",
     "output_type": "stream",
     "text": [
      "<class 'pandas.core.frame.DataFrame'>\n",
      "Int64Index: 124529 entries, 0 to 42688\n",
      "Data columns (total 16 columns):\n",
      "system         124529 non-null object\n",
      "numprocs       124529 non-null int64\n",
      "matrix         124529 non-null object\n",
      "solver         124529 non-null object\n",
      "prec           124529 non-null object\n",
      "status         124529 non-null object\n",
      "time           124529 non-null float64\n",
      "iters          124529 non-null float64\n",
      "resid          124529 non-null float64\n",
      "system_id      124529 non-null int64\n",
      "solver_id      124529 non-null int64\n",
      "prec_id        124529 non-null int64\n",
      "status_id      124529 non-null int64\n",
      "good_or_bad    124529 non-null int64\n",
      "new_time       124529 non-null float64\n",
      "matrix_id      124529 non-null int64\n",
      "dtypes: float64(4), int64(7), object(5)\n",
      "memory usage: 16.2+ MB\n"
     ]
    },
    {
     "name": "stderr",
     "output_type": "stream",
     "text": [
      "/usr/local/lib/python3.5/dist-packages/pandas_profiling/base.py:59: RuntimeWarning: overflow encountered in long_scalars\n",
      "  stats['range'] = stats['max'] - stats['min']\n",
      "/usr/local/lib/python3.5/dist-packages/pandas_profiling/base.py:59: RuntimeWarning: overflow encountered in long_scalars\n",
      "  stats['range'] = stats['max'] - stats['min']\n"
     ]
    }
   ],
   "source": [
    "janus = pd.read_csv('../data/janus/janus_unprocessed_timings.csv', \n",
    "                    header=0, index_col=0)\n",
    "janus = janus.drop_duplicates()\n",
    "janus = janus.dropna()\n",
    "janus.info()\n",
    "janus_merged = pd.merge(janus, props, on='matrix')\n",
    "janus_profile = pandas_profiling.ProfileReport(janus_merged)\n",
    "janus_profile.to_file('janus_unprocessed_timings_profile.html')"
   ]
  },
  {
   "cell_type": "code",
   "execution_count": 5,
   "metadata": {
    "scrolled": true
   },
   "outputs": [
    {
     "name": "stdout",
     "output_type": "stream",
     "text": [
      "<class 'pandas.core.frame.DataFrame'>\n",
      "Int64Index: 114765 entries, 0 to 33513\n",
      "Data columns (total 16 columns):\n",
      "system         114765 non-null object\n",
      "numprocs       114765 non-null int64\n",
      "matrix         114765 non-null object\n",
      "solver         114765 non-null object\n",
      "prec           114765 non-null object\n",
      "status         114765 non-null object\n",
      "time           114765 non-null float64\n",
      "iters          114765 non-null float64\n",
      "resid          114765 non-null float64\n",
      "system_id      114765 non-null int64\n",
      "solver_id      114765 non-null int64\n",
      "prec_id        114765 non-null int64\n",
      "status_id      114765 non-null int64\n",
      "good_or_bad    114765 non-null int64\n",
      "new_time       114765 non-null float64\n",
      "matrix_id      114765 non-null int64\n",
      "dtypes: float64(4), int64(7), object(5)\n",
      "memory usage: 14.9+ MB\n"
     ]
    },
    {
     "name": "stderr",
     "output_type": "stream",
     "text": [
      "/usr/local/lib/python3.5/dist-packages/pandas_profiling/base.py:59: RuntimeWarning: overflow encountered in long_scalars\n",
      "  stats['range'] = stats['max'] - stats['min']\n",
      "/usr/local/lib/python3.5/dist-packages/pandas_profiling/base.py:59: RuntimeWarning: overflow encountered in long_scalars\n",
      "  stats['range'] = stats['max'] - stats['min']\n"
     ]
    }
   ],
   "source": [
    "bridges = pd.read_csv('../data/bridges/bridges_unprocessed_timings.csv', \n",
    "                    header=0, index_col=0)\n",
    "bridges = bridges.drop_duplicates()\n",
    "bridges = bridges.dropna()\n",
    "bridges.info()\n",
    "bridges_merged = pd.merge(bridges, props, on='matrix')\n",
    "bridges_profile = pandas_profiling.ProfileReport(bridges_merged)\n",
    "bridges_profile.to_file('bridges_unprocessed_timings_profile.html')"
   ]
  },
  {
   "cell_type": "markdown",
   "metadata": {},
   "source": [
    " "
   ]
  },
  {
   "cell_type": "markdown",
   "metadata": {},
   "source": [
    "\n",
    "#### Generate profiles for the combined times+properties"
   ]
  },
  {
   "cell_type": "code",
   "execution_count": 6,
   "metadata": {
    "scrolled": true
   },
   "outputs": [
    {
     "name": "stdout",
     "output_type": "stream",
     "text": [
      "<class 'pandas.core.frame.DataFrame'>\n",
      "RangeIndex: 335810 entries, 0 to 335809\n",
      "Data columns (total 16 columns):\n",
      "system         335810 non-null object\n",
      "numprocs       335810 non-null int64\n",
      "matrix         335810 non-null object\n",
      "solver         335810 non-null object\n",
      "prec           335810 non-null object\n",
      "status         335810 non-null object\n",
      "time           335810 non-null float64\n",
      "iters          335810 non-null float64\n",
      "resid          335810 non-null float64\n",
      "system_id      335810 non-null int64\n",
      "solver_id      335810 non-null int64\n",
      "prec_id        335810 non-null int64\n",
      "status_id      335810 non-null int64\n",
      "good_or_bad    335810 non-null int64\n",
      "new_time       335810 non-null float64\n",
      "matrix_id      335810 non-null int64\n",
      "dtypes: float64(4), int64(7), object(5)\n",
      "memory usage: 41.0+ MB\n"
     ]
    }
   ],
   "source": [
    "all_times = pd.concat([comet, bridges, janus], ignore_index=True)\n",
    "all_times.info()"
   ]
  },
  {
   "cell_type": "code",
   "execution_count": 9,
   "metadata": {
    "scrolled": true
   },
   "outputs": [
    {
     "name": "stdout",
     "output_type": "stream",
     "text": [
      "<class 'pandas.core.frame.DataFrame'>\n",
      "Int64Index: 152755 entries, 0 to 152754\n",
      "Data columns (total 51 columns):\n",
      "rows                  152755 non-null int64\n",
      "cols                  152755 non-null int64\n",
      "min_nnz_row           152755 non-null int64\n",
      "row_var               152755 non-null float64\n",
      "col_var               152755 non-null float64\n",
      "diag_var              152755 non-null float64\n",
      "nnz                   152755 non-null int64\n",
      "frob_norm             152755 non-null float64\n",
      "symm_frob_norm        152755 non-null float64\n",
      "antisymm_frob_norm    152755 non-null float64\n",
      "one_norm              152755 non-null float64\n",
      "inf_norm              152755 non-null float64\n",
      "symm_inf_norm         152755 non-null float64\n",
      "antisymm_inf_norm     152755 non-null float64\n",
      "max_nnz_row           152755 non-null int64\n",
      "trace                 152755 non-null float64\n",
      "abs_trace             152755 non-null float64\n",
      "min_nnz_row.1         152755 non-null int64\n",
      "avg_nnz_row           152755 non-null int64\n",
      "dummy_rows            152755 non-null int64\n",
      "dummy_rows_kind       152755 non-null int64\n",
      "num_value_symm_1      152755 non-null int64\n",
      "nnz_pattern_symm_1    152755 non-null int64\n",
      "num_value_symm_2      152755 non-null float64\n",
      "nnz_pattern_symm_2    152755 non-null float64\n",
      "row_diag_dom          152755 non-null int64\n",
      "col_diag_dom          152755 non-null int64\n",
      "diag_avg              152755 non-null float64\n",
      "diag_sign             152755 non-null int64\n",
      "diag_nnz              152755 non-null int64\n",
      "lower_bw              152755 non-null int64\n",
      "upper_bw              152755 non-null int64\n",
      "row_log_val_spread    152755 non-null float64\n",
      "col_log_val_spread    152755 non-null float64\n",
      "symm                  152755 non-null int64\n",
      "matrix                152755 non-null object\n",
      "matrix_id             152755 non-null int64\n",
      "system                152755 non-null object\n",
      "numprocs              152755 non-null int64\n",
      "solver                152755 non-null object\n",
      "prec                  152755 non-null object\n",
      "status                152755 non-null object\n",
      "time                  152755 non-null float64\n",
      "iters                 152755 non-null float64\n",
      "resid                 152755 non-null float64\n",
      "system_id             152755 non-null int64\n",
      "solver_id             152755 non-null int64\n",
      "prec_id               152755 non-null int64\n",
      "status_id             152755 non-null int64\n",
      "good_or_bad           152755 non-null int64\n",
      "new_time              152755 non-null float64\n",
      "dtypes: float64(21), int64(25), object(5)\n",
      "memory usage: 60.6+ MB\n"
     ]
    },
    {
     "name": "stderr",
     "output_type": "stream",
     "text": [
      "/usr/local/lib/python3.5/dist-packages/pandas_profiling/base.py:59: RuntimeWarning: overflow encountered in long_scalars\n",
      "  stats['range'] = stats['max'] - stats['min']\n"
     ]
    }
   ],
   "source": [
    "combined = pd.merge(props, all_times, on=['matrix','matrix_id'])\n",
    "combined.info()\n",
    "combined = combined.drop_duplicates()\n",
    "combined = combined.dropna()\n",
    "combined_profile = pandas_profiling.ProfileReport(combined)\n",
    "combined_profile.to_file('unprocessed_combined_profile.html')"
   ]
  },
  {
   "cell_type": "code",
   "execution_count": 24,
   "metadata": {},
   "outputs": [
    {
     "ename": "ValueError",
     "evalue": "Input contains NaN, infinity or a value too large for dtype('float32').",
     "output_type": "error",
     "traceback": [
      "\u001b[1;31m---------------------------------------------------------------------------\u001b[0m",
      "\u001b[1;31mValueError\u001b[0m                                Traceback (most recent call last)",
      "\u001b[1;32m<ipython-input-24-829494bcf779>\u001b[0m in \u001b[0;36m<module>\u001b[1;34m()\u001b[0m\n\u001b[0;32m     14\u001b[0m \u001b[1;33m\u001b[0m\u001b[0m\n\u001b[0;32m     15\u001b[0m \u001b[0mclf\u001b[0m \u001b[1;33m=\u001b[0m \u001b[0mRandomForestClassifier\u001b[0m\u001b[1;33m(\u001b[0m\u001b[1;33m)\u001b[0m\u001b[1;33m\u001b[0m\u001b[0m\n\u001b[1;32m---> 16\u001b[1;33m \u001b[0mclf\u001b[0m\u001b[1;33m.\u001b[0m\u001b[0mfit\u001b[0m\u001b[1;33m(\u001b[0m\u001b[0mX\u001b[0m\u001b[1;33m,\u001b[0m \u001b[0my\u001b[0m\u001b[1;33m)\u001b[0m\u001b[1;33m\u001b[0m\u001b[0m\n\u001b[0m",
      "\u001b[1;32m/usr/local/lib/python3.5/dist-packages/sklearn/ensemble/forest.py\u001b[0m in \u001b[0;36mfit\u001b[1;34m(self, X, y, sample_weight)\u001b[0m\n\u001b[0;32m    245\u001b[0m         \"\"\"\n\u001b[0;32m    246\u001b[0m         \u001b[1;31m# Validate or convert input data\u001b[0m\u001b[1;33m\u001b[0m\u001b[1;33m\u001b[0m\u001b[0m\n\u001b[1;32m--> 247\u001b[1;33m         \u001b[0mX\u001b[0m \u001b[1;33m=\u001b[0m \u001b[0mcheck_array\u001b[0m\u001b[1;33m(\u001b[0m\u001b[0mX\u001b[0m\u001b[1;33m,\u001b[0m \u001b[0maccept_sparse\u001b[0m\u001b[1;33m=\u001b[0m\u001b[1;34m\"csc\"\u001b[0m\u001b[1;33m,\u001b[0m \u001b[0mdtype\u001b[0m\u001b[1;33m=\u001b[0m\u001b[0mDTYPE\u001b[0m\u001b[1;33m)\u001b[0m\u001b[1;33m\u001b[0m\u001b[0m\n\u001b[0m\u001b[0;32m    248\u001b[0m         \u001b[0my\u001b[0m \u001b[1;33m=\u001b[0m \u001b[0mcheck_array\u001b[0m\u001b[1;33m(\u001b[0m\u001b[0my\u001b[0m\u001b[1;33m,\u001b[0m \u001b[0maccept_sparse\u001b[0m\u001b[1;33m=\u001b[0m\u001b[1;34m'csc'\u001b[0m\u001b[1;33m,\u001b[0m \u001b[0mensure_2d\u001b[0m\u001b[1;33m=\u001b[0m\u001b[1;32mFalse\u001b[0m\u001b[1;33m,\u001b[0m \u001b[0mdtype\u001b[0m\u001b[1;33m=\u001b[0m\u001b[1;32mNone\u001b[0m\u001b[1;33m)\u001b[0m\u001b[1;33m\u001b[0m\u001b[0m\n\u001b[0;32m    249\u001b[0m         \u001b[1;32mif\u001b[0m \u001b[0missparse\u001b[0m\u001b[1;33m(\u001b[0m\u001b[0mX\u001b[0m\u001b[1;33m)\u001b[0m\u001b[1;33m:\u001b[0m\u001b[1;33m\u001b[0m\u001b[0m\n",
      "\u001b[1;32m/usr/local/lib/python3.5/dist-packages/sklearn/utils/validation.py\u001b[0m in \u001b[0;36mcheck_array\u001b[1;34m(array, accept_sparse, dtype, order, copy, force_all_finite, ensure_2d, allow_nd, ensure_min_samples, ensure_min_features, warn_on_dtype, estimator)\u001b[0m\n\u001b[0;32m    405\u001b[0m                              % (array.ndim, estimator_name))\n\u001b[0;32m    406\u001b[0m         \u001b[1;32mif\u001b[0m \u001b[0mforce_all_finite\u001b[0m\u001b[1;33m:\u001b[0m\u001b[1;33m\u001b[0m\u001b[0m\n\u001b[1;32m--> 407\u001b[1;33m             \u001b[0m_assert_all_finite\u001b[0m\u001b[1;33m(\u001b[0m\u001b[0marray\u001b[0m\u001b[1;33m)\u001b[0m\u001b[1;33m\u001b[0m\u001b[0m\n\u001b[0m\u001b[0;32m    408\u001b[0m \u001b[1;33m\u001b[0m\u001b[0m\n\u001b[0;32m    409\u001b[0m     \u001b[0mshape_repr\u001b[0m \u001b[1;33m=\u001b[0m \u001b[0m_shape_repr\u001b[0m\u001b[1;33m(\u001b[0m\u001b[0marray\u001b[0m\u001b[1;33m.\u001b[0m\u001b[0mshape\u001b[0m\u001b[1;33m)\u001b[0m\u001b[1;33m\u001b[0m\u001b[0m\n",
      "\u001b[1;32m/usr/local/lib/python3.5/dist-packages/sklearn/utils/validation.py\u001b[0m in \u001b[0;36m_assert_all_finite\u001b[1;34m(X)\u001b[0m\n\u001b[0;32m     56\u001b[0m             and not np.isfinite(X).all()):\n\u001b[0;32m     57\u001b[0m         raise ValueError(\"Input contains NaN, infinity\"\n\u001b[1;32m---> 58\u001b[1;33m                          \" or a value too large for %r.\" % X.dtype)\n\u001b[0m\u001b[0;32m     59\u001b[0m \u001b[1;33m\u001b[0m\u001b[0m\n\u001b[0;32m     60\u001b[0m \u001b[1;33m\u001b[0m\u001b[0m\n",
      "\u001b[1;31mValueError\u001b[0m: Input contains NaN, infinity or a value too large for dtype('float32')."
     ]
    }
   ],
   "source": [
    "import numpy as np\n",
    "import matplotlib.pyplot as plt\n",
    "\n",
    "from sklearn.datasets import make_classification\n",
    "from sklearn.ensemble import RandomForestClassifier\n",
    "\n",
    "combined_new = combined.drop(['matrix', 'solver', 'prec', \n",
    "                              'status', 'system'], axis=1)\n",
    "combined_new = combined_new.dropna()\n",
    "\n",
    "X = combined_new.iloc[:,:-2]\n",
    "y = combined_new.iloc[:, -1]\n",
    "\n",
    "clf = RandomForestClassifier()\n",
    "clf.fit(X, y)"
   ]
  }
 ],
 "metadata": {
  "anaconda-cloud": {},
  "kernelspec": {
   "display_name": "Python 3",
   "language": "python",
   "name": "python3"
  },
  "language_info": {
   "codemirror_mode": {
    "name": "ipython",
    "version": 3
   },
   "file_extension": ".py",
   "mimetype": "text/x-python",
   "name": "python",
   "nbconvert_exporter": "python",
   "pygments_lexer": "ipython3",
   "version": "3.5.2"
  }
 },
 "nbformat": 4,
 "nbformat_minor": 1
}
