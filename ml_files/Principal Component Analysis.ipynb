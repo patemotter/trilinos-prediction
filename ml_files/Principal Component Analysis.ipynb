{
 "cells": [
  {
   "cell_type": "code",
   "execution_count": 1,
   "metadata": {
    "collapsed": true
   },
   "outputs": [],
   "source": [
    "import pandas as pd\n",
    "import numpy as np"
   ]
  },
  {
   "cell_type": "code",
   "execution_count": 18,
   "metadata": {
    "collapsed": true
   },
   "outputs": [],
   "source": [
    "from pandas import read_csv\n",
    "from sklearn.decomposition import PCA\n",
    "from sklearn.ensemble import ExtraTreesClassifier"
   ]
  },
  {
   "cell_type": "code",
   "execution_count": 70,
   "metadata": {
    "collapsed": false
   },
   "outputs": [],
   "source": [
    "in_all = pd.read_csv('../classifications/all_merged_without_system_info_or_np.csv', index_col=0)"
   ]
  },
  {
   "cell_type": "code",
   "execution_count": 71,
   "metadata": {
    "collapsed": false
   },
   "outputs": [
    {
     "name": "stdout",
     "output_type": "stream",
     "text": [
      "<class 'pandas.core.frame.DataFrame'>\n",
      "Int64Index: 812244 entries, 0 to 812243\n",
      "Data columns (total 19 columns):\n",
      "system_id             812244 non-null int64\n",
      "rows                  812244 non-null int64\n",
      "min_nnz_row           812244 non-null int64\n",
      "row_var               812244 non-null float64\n",
      "nnz                   812244 non-null int64\n",
      "max_nnz_row           812244 non-null int64\n",
      "avg_nnz_row           812244 non-null int64\n",
      "dummy_rows            812244 non-null int64\n",
      "dummy_rows_kind       812244 non-null int64\n",
      "num_value_symm_1      812244 non-null int64\n",
      "num_value_symm_2      812244 non-null float64\n",
      "row_diag_dom          812244 non-null int64\n",
      "diag_sign             812244 non-null int64\n",
      "lower_bw              812244 non-null int64\n",
      "upper_bw              812244 non-null int64\n",
      "row_log_val_spread    812244 non-null float64\n",
      "solver_id             812244 non-null int64\n",
      "prec_id               812244 non-null int64\n",
      "good_or_bad           812244 non-null int64\n",
      "dtypes: float64(3), int64(16)\n",
      "memory usage: 123.9 MB\n"
     ]
    }
   ],
   "source": [
    "in_all.info()"
   ]
  },
  {
   "cell_type": "code",
   "execution_count": 72,
   "metadata": {
    "collapsed": false
   },
   "outputs": [
    {
     "data": {
      "text/plain": [
       "1    243200\n",
       "2    215561\n",
       "3    203878\n",
       "4    149605\n",
       "Name: system_id, dtype: int64"
      ]
     },
     "execution_count": 72,
     "metadata": {},
     "output_type": "execute_result"
    }
   ],
   "source": [
    "in_all.system_id.value_counts()"
   ]
  },
  {
   "cell_type": "code",
   "execution_count": 73,
   "metadata": {
    "collapsed": false
   },
   "outputs": [],
   "source": [
    "X = in_all.iloc[:,0:18]\n",
    "y = in_all.iloc[:,18]"
   ]
  },
  {
   "cell_type": "code",
   "execution_count": 74,
   "metadata": {
    "collapsed": true
   },
   "outputs": [],
   "source": [
    "pca = PCA()\n",
    "fit = pca.fit(X)"
   ]
  },
  {
   "cell_type": "code",
   "execution_count": 75,
   "metadata": {
    "collapsed": false
   },
   "outputs": [
    {
     "name": "stdout",
     "output_type": "stream",
     "text": [
      "[ 0.0248706   0.02578735  0.01415561  0.02889444  0.02864735  0.03164681\n",
      "  0.03310743  0.02899261  0.00909077  0.00088367  0.046857    0.00671015\n",
      "  0.03292707  0.02863328  0.01865273  0.03570207  0.37398725  0.23045381]\n"
     ]
    }
   ],
   "source": [
    "model = ExtraTreesClassifier()\n",
    "model.fit(X,y)\n",
    "print(model.feature_importances_)\n",
    "a = model.feature_importances_"
   ]
  },
  {
   "cell_type": "code",
   "execution_count": 76,
   "metadata": {
    "collapsed": false
   },
   "outputs": [],
   "source": [
    "blah = {}\n",
    "blah[0] = in_all.columns\n",
    "blah[1] = a\n",
    "new_df = pd.DataFrame()"
   ]
  },
  {
   "cell_type": "code",
   "execution_count": 77,
   "metadata": {
    "collapsed": false
   },
   "outputs": [
    {
     "name": "stdout",
     "output_type": "stream",
     "text": [
      "Index(['system_id', 'rows', 'min_nnz_row', 'row_var', 'nnz', 'max_nnz_row',\n",
      "       'avg_nnz_row', 'dummy_rows', 'dummy_rows_kind', 'num_value_symm_1',\n",
      "       'num_value_symm_2', 'row_diag_dom', 'diag_sign', 'lower_bw', 'upper_bw',\n",
      "       'row_log_val_spread', 'solver_id', 'prec_id', 'good_or_bad'],\n",
      "      dtype='object')\n"
     ]
    }
   ],
   "source": [
    "print(blah[0])"
   ]
  },
  {
   "cell_type": "code",
   "execution_count": 52,
   "metadata": {
    "collapsed": false
   },
   "outputs": [
    {
     "ename": "TypeError",
     "evalue": "'int' object is not callable",
     "output_type": "error",
     "traceback": [
      "\u001b[0;31m---------------------------------------------------------------------------\u001b[0m",
      "\u001b[0;31mTypeError\u001b[0m                                 Traceback (most recent call last)",
      "\u001b[0;32m<ipython-input-52-4771d1ed4ade>\u001b[0m in \u001b[0;36m<module>\u001b[0;34m()\u001b[0m\n\u001b[0;32m----> 1\u001b[0;31m \u001b[0mblah\u001b[0m\u001b[1;33m[\u001b[0m\u001b[1;36m0\u001b[0m\u001b[1;33m]\u001b[0m\u001b[1;33m.\u001b[0m\u001b[0msize\u001b[0m\u001b[1;33m(\u001b[0m\u001b[1;33m)\u001b[0m\u001b[1;33m\u001b[0m\u001b[0m\n\u001b[0m",
      "\u001b[0;31mTypeError\u001b[0m: 'int' object is not callable"
     ]
    }
   ],
   "source": [
    "blah[0].size()"
   ]
  },
  {
   "cell_type": "code",
   "execution_count": null,
   "metadata": {
    "collapsed": true
   },
   "outputs": [],
   "source": []
  }
 ],
 "metadata": {
  "kernelspec": {
   "display_name": "Python 3",
   "language": "python",
   "name": "python3"
  },
  "language_info": {
   "codemirror_mode": {
    "name": "ipython",
    "version": 3
   },
   "file_extension": ".py",
   "mimetype": "text/x-python",
   "name": "python",
   "nbconvert_exporter": "python",
   "pygments_lexer": "ipython3",
   "version": "3.6.0"
  }
 },
 "nbformat": 4,
 "nbformat_minor": 2
}
