{
 "cells": [
  {
   "cell_type": "code",
   "execution_count": 1,
   "metadata": {
    "collapsed": true
   },
   "outputs": [],
   "source": [
    "import pandas as pd"
   ]
  },
  {
   "cell_type": "code",
   "execution_count": 2,
   "metadata": {
    "collapsed": false
   },
   "outputs": [],
   "source": [
    "df = pd.read_csv('./data/all_results_janus_single_node_1-14-17.csv')"
   ]
  },
  {
   "cell_type": "code",
   "execution_count": 3,
   "metadata": {
    "collapsed": false
   },
   "outputs": [
    {
     "data": {
      "text/html": [
       "<div>\n",
       "<table border=\"1\" class=\"dataframe\">\n",
       "  <thead>\n",
       "    <tr style=\"text-align: right;\">\n",
       "      <th></th>\n",
       "      <th>num_procs</th>\n",
       "      <th>matrix_name</th>\n",
       "      <th>solver</th>\n",
       "      <th>preconditioner</th>\n",
       "      <th>status</th>\n",
       "      <th>time</th>\n",
       "      <th>iterations</th>\n",
       "      <th>final_residual</th>\n",
       "    </tr>\n",
       "  </thead>\n",
       "  <tbody>\n",
       "    <tr>\n",
       "      <th>0</th>\n",
       "      <td>1</td>\n",
       "      <td>saylr3.mtx</td>\n",
       "      <td>FIXED_POINT</td>\n",
       "      <td>ILUT</td>\n",
       "      <td>unconverged</td>\n",
       "      <td>0.806348</td>\n",
       "      <td>10000.0</td>\n",
       "      <td>0.260768</td>\n",
       "    </tr>\n",
       "    <tr>\n",
       "      <th>1</th>\n",
       "      <td>1</td>\n",
       "      <td>saylr3.mtx</td>\n",
       "      <td>FIXED_POINT</td>\n",
       "      <td>RILUK</td>\n",
       "      <td>error</td>\n",
       "      <td>0.001645</td>\n",
       "      <td>NaN</td>\n",
       "      <td>NaN</td>\n",
       "    </tr>\n",
       "    <tr>\n",
       "      <th>2</th>\n",
       "      <td>1</td>\n",
       "      <td>saylr3.mtx</td>\n",
       "      <td>FIXED_POINT</td>\n",
       "      <td>RELAXATION</td>\n",
       "      <td>unconverged</td>\n",
       "      <td>0.325009</td>\n",
       "      <td>10000.0</td>\n",
       "      <td>0.063474</td>\n",
       "    </tr>\n",
       "    <tr>\n",
       "      <th>3</th>\n",
       "      <td>1</td>\n",
       "      <td>saylr3.mtx</td>\n",
       "      <td>FIXED_POINT</td>\n",
       "      <td>CHEBYSHEV</td>\n",
       "      <td>error</td>\n",
       "      <td>0.007176</td>\n",
       "      <td>NaN</td>\n",
       "      <td>NaN</td>\n",
       "    </tr>\n",
       "    <tr>\n",
       "      <th>4</th>\n",
       "      <td>1</td>\n",
       "      <td>saylr3.mtx</td>\n",
       "      <td>FIXED_POINT</td>\n",
       "      <td>NONE</td>\n",
       "      <td>error</td>\n",
       "      <td>0.011856</td>\n",
       "      <td>NaN</td>\n",
       "      <td>NaN</td>\n",
       "    </tr>\n",
       "  </tbody>\n",
       "</table>\n",
       "</div>"
      ],
      "text/plain": [
       "   num_procs matrix_name       solver preconditioner       status      time  \\\n",
       "0          1  saylr3.mtx  FIXED_POINT           ILUT  unconverged  0.806348   \n",
       "1          1  saylr3.mtx  FIXED_POINT          RILUK        error  0.001645   \n",
       "2          1  saylr3.mtx  FIXED_POINT     RELAXATION  unconverged  0.325009   \n",
       "3          1  saylr3.mtx  FIXED_POINT      CHEBYSHEV        error  0.007176   \n",
       "4          1  saylr3.mtx  FIXED_POINT           NONE        error  0.011856   \n",
       "\n",
       "   iterations  final_residual  \n",
       "0     10000.0        0.260768  \n",
       "1         NaN             NaN  \n",
       "2     10000.0        0.063474  \n",
       "3         NaN             NaN  \n",
       "4         NaN             NaN  "
      ]
     },
     "execution_count": 3,
     "metadata": {},
     "output_type": "execute_result"
    }
   ],
   "source": [
    "df.head(5)"
   ]
  },
  {
   "cell_type": "markdown",
   "metadata": {},
   "source": [
    "Changing the name of the columns to more simple names for ease-of-use."
   ]
  },
  {
   "cell_type": "code",
   "execution_count": 4,
   "metadata": {
    "collapsed": true
   },
   "outputs": [],
   "source": [
    "df.columns= ['np', 'matrix', 'solver', 'prec', 'status', 'time', 'iters', 'resid']"
   ]
  },
  {
   "cell_type": "code",
   "execution_count": 5,
   "metadata": {
    "collapsed": false
   },
   "outputs": [
    {
     "data": {
      "text/html": [
       "<div>\n",
       "<table border=\"1\" class=\"dataframe\">\n",
       "  <thead>\n",
       "    <tr style=\"text-align: right;\">\n",
       "      <th></th>\n",
       "      <th>np</th>\n",
       "      <th>matrix</th>\n",
       "      <th>solver</th>\n",
       "      <th>prec</th>\n",
       "      <th>status</th>\n",
       "      <th>time</th>\n",
       "      <th>iters</th>\n",
       "      <th>resid</th>\n",
       "    </tr>\n",
       "  </thead>\n",
       "  <tbody>\n",
       "    <tr>\n",
       "      <th>0</th>\n",
       "      <td>1</td>\n",
       "      <td>saylr3.mtx</td>\n",
       "      <td>FIXED_POINT</td>\n",
       "      <td>ILUT</td>\n",
       "      <td>unconverged</td>\n",
       "      <td>0.806348</td>\n",
       "      <td>10000.0</td>\n",
       "      <td>0.260768</td>\n",
       "    </tr>\n",
       "    <tr>\n",
       "      <th>1</th>\n",
       "      <td>1</td>\n",
       "      <td>saylr3.mtx</td>\n",
       "      <td>FIXED_POINT</td>\n",
       "      <td>RILUK</td>\n",
       "      <td>error</td>\n",
       "      <td>0.001645</td>\n",
       "      <td>NaN</td>\n",
       "      <td>NaN</td>\n",
       "    </tr>\n",
       "    <tr>\n",
       "      <th>2</th>\n",
       "      <td>1</td>\n",
       "      <td>saylr3.mtx</td>\n",
       "      <td>FIXED_POINT</td>\n",
       "      <td>RELAXATION</td>\n",
       "      <td>unconverged</td>\n",
       "      <td>0.325009</td>\n",
       "      <td>10000.0</td>\n",
       "      <td>0.063474</td>\n",
       "    </tr>\n",
       "    <tr>\n",
       "      <th>3</th>\n",
       "      <td>1</td>\n",
       "      <td>saylr3.mtx</td>\n",
       "      <td>FIXED_POINT</td>\n",
       "      <td>CHEBYSHEV</td>\n",
       "      <td>error</td>\n",
       "      <td>0.007176</td>\n",
       "      <td>NaN</td>\n",
       "      <td>NaN</td>\n",
       "    </tr>\n",
       "    <tr>\n",
       "      <th>4</th>\n",
       "      <td>1</td>\n",
       "      <td>saylr3.mtx</td>\n",
       "      <td>FIXED_POINT</td>\n",
       "      <td>NONE</td>\n",
       "      <td>error</td>\n",
       "      <td>0.011856</td>\n",
       "      <td>NaN</td>\n",
       "      <td>NaN</td>\n",
       "    </tr>\n",
       "  </tbody>\n",
       "</table>\n",
       "</div>"
      ],
      "text/plain": [
       "   np      matrix       solver        prec       status      time    iters  \\\n",
       "0   1  saylr3.mtx  FIXED_POINT        ILUT  unconverged  0.806348  10000.0   \n",
       "1   1  saylr3.mtx  FIXED_POINT       RILUK        error  0.001645      NaN   \n",
       "2   1  saylr3.mtx  FIXED_POINT  RELAXATION  unconverged  0.325009  10000.0   \n",
       "3   1  saylr3.mtx  FIXED_POINT   CHEBYSHEV        error  0.007176      NaN   \n",
       "4   1  saylr3.mtx  FIXED_POINT        NONE        error  0.011856      NaN   \n",
       "\n",
       "      resid  \n",
       "0  0.260768  \n",
       "1       NaN  \n",
       "2  0.063474  \n",
       "3       NaN  \n",
       "4       NaN  "
      ]
     },
     "execution_count": 5,
     "metadata": {},
     "output_type": "execute_result"
    }
   ],
   "source": [
    "df.head(5)"
   ]
  },
  {
   "cell_type": "markdown",
   "metadata": {},
   "source": [
    "How many total rows do we have?"
   ]
  },
  {
   "cell_type": "code",
   "execution_count": 6,
   "metadata": {
    "collapsed": false
   },
   "outputs": [
    {
     "data": {
      "text/plain": [
       "285275"
      ]
     },
     "execution_count": 6,
     "metadata": {},
     "output_type": "execute_result"
    }
   ],
   "source": [
    "len(df)"
   ]
  },
  {
   "cell_type": "markdown",
   "metadata": {},
   "source": [
    "Attempt at getting some basic info from the timings"
   ]
  },
  {
   "cell_type": "code",
   "execution_count": 7,
   "metadata": {
    "collapsed": false
   },
   "outputs": [
    {
     "name": "stderr",
     "output_type": "stream",
     "text": [
      "/home/pate/anaconda2/lib/python2.7/site-packages/numpy/lib/function_base.py:3834: RuntimeWarning: Invalid value encountered in percentile\n",
      "  RuntimeWarning)\n"
     ]
    },
    {
     "data": {
      "text/html": [
       "<div>\n",
       "<table border=\"1\" class=\"dataframe\">\n",
       "  <thead>\n",
       "    <tr style=\"text-align: right;\">\n",
       "      <th></th>\n",
       "      <th>np</th>\n",
       "      <th>time</th>\n",
       "      <th>iters</th>\n",
       "      <th>resid</th>\n",
       "    </tr>\n",
       "  </thead>\n",
       "  <tbody>\n",
       "    <tr>\n",
       "      <th>count</th>\n",
       "      <td>285275.000000</td>\n",
       "      <td>285275.000000</td>\n",
       "      <td>163166.000000</td>\n",
       "      <td>1.245290e+05</td>\n",
       "    </tr>\n",
       "    <tr>\n",
       "      <th>mean</th>\n",
       "      <td>6.344695</td>\n",
       "      <td>14.156326</td>\n",
       "      <td>6306.703229</td>\n",
       "      <td>inf</td>\n",
       "    </tr>\n",
       "    <tr>\n",
       "      <th>std</th>\n",
       "      <td>3.752068</td>\n",
       "      <td>83.139410</td>\n",
       "      <td>4427.508800</td>\n",
       "      <td>NaN</td>\n",
       "    </tr>\n",
       "    <tr>\n",
       "      <th>min</th>\n",
       "      <td>1.000000</td>\n",
       "      <td>0.000297</td>\n",
       "      <td>1.000000</td>\n",
       "      <td>0.000000e+00</td>\n",
       "    </tr>\n",
       "    <tr>\n",
       "      <th>25%</th>\n",
       "      <td>2.000000</td>\n",
       "      <td>0.006834</td>\n",
       "      <td>NaN</td>\n",
       "      <td>NaN</td>\n",
       "    </tr>\n",
       "    <tr>\n",
       "      <th>50%</th>\n",
       "      <td>6.000000</td>\n",
       "      <td>0.234893</td>\n",
       "      <td>NaN</td>\n",
       "      <td>NaN</td>\n",
       "    </tr>\n",
       "    <tr>\n",
       "      <th>75%</th>\n",
       "      <td>10.000000</td>\n",
       "      <td>3.542865</td>\n",
       "      <td>NaN</td>\n",
       "      <td>NaN</td>\n",
       "    </tr>\n",
       "    <tr>\n",
       "      <th>max</th>\n",
       "      <td>12.000000</td>\n",
       "      <td>4288.670000</td>\n",
       "      <td>10000.000000</td>\n",
       "      <td>inf</td>\n",
       "    </tr>\n",
       "  </tbody>\n",
       "</table>\n",
       "</div>"
      ],
      "text/plain": [
       "                  np           time          iters         resid\n",
       "count  285275.000000  285275.000000  163166.000000  1.245290e+05\n",
       "mean        6.344695      14.156326    6306.703229           inf\n",
       "std         3.752068      83.139410    4427.508800           NaN\n",
       "min         1.000000       0.000297       1.000000  0.000000e+00\n",
       "25%         2.000000       0.006834            NaN           NaN\n",
       "50%         6.000000       0.234893            NaN           NaN\n",
       "75%        10.000000       3.542865            NaN           NaN\n",
       "max        12.000000    4288.670000   10000.000000           inf"
      ]
     },
     "execution_count": 7,
     "metadata": {},
     "output_type": "execute_result"
    }
   ],
   "source": [
    "df.describe()"
   ]
  },
  {
   "cell_type": "markdown",
   "metadata": {},
   "source": [
    "We can now access the modified column names like an object"
   ]
  },
  {
   "cell_type": "code",
   "execution_count": 8,
   "metadata": {
    "collapsed": false
   },
   "outputs": [
    {
     "data": {
      "text/plain": [
       "0            0.806348\n",
       "1            0.001645\n",
       "2            0.325009\n",
       "3            0.007176\n",
       "4            0.011856\n",
       "5            0.198511\n",
       "6            0.001454\n",
       "7            1.143130\n",
       "8            0.974769\n",
       "9            1.649560\n",
       "10           0.420352\n",
       "11           0.417270\n",
       "12           0.415508\n",
       "13           0.417506\n",
       "14           0.413472\n",
       "15           0.001205\n",
       "16           0.001093\n",
       "17           0.000310\n",
       "18           0.000678\n",
       "19           0.000307\n",
       "20           0.001208\n",
       "21           0.001163\n",
       "22           0.000352\n",
       "23           0.000701\n",
       "24           0.000316\n",
       "25           0.154298\n",
       "26           0.001435\n",
       "27           1.031930\n",
       "28           1.016320\n",
       "29           2.234580\n",
       "             ...     \n",
       "285245    1594.720000\n",
       "285246    1581.760000\n",
       "285247     835.426000\n",
       "285248     945.718000\n",
       "285249     900.731000\n",
       "285250    1690.600000\n",
       "285251    1773.110000\n",
       "285252     937.361000\n",
       "285253     954.732000\n",
       "285254     909.077000\n",
       "285255    1235.320000\n",
       "285256       2.823500\n",
       "285257    1501.500000\n",
       "285258    1534.060000\n",
       "285259    1442.960000\n",
       "285260    3317.880000\n",
       "285261    3426.920000\n",
       "285262    1882.320000\n",
       "285263    1942.490000\n",
       "285264    1852.170000\n",
       "285265       5.769650\n",
       "285266       5.586820\n",
       "285267      27.516500\n",
       "285268       6.664960\n",
       "285269       0.839933\n",
       "285270    1679.840000\n",
       "285271    1728.410000\n",
       "285272     905.239000\n",
       "285273     922.404000\n",
       "285274     872.527000\n",
       "Name: time, dtype: float64"
      ]
     },
     "execution_count": 8,
     "metadata": {},
     "output_type": "execute_result"
    }
   ],
   "source": [
    "df.time"
   ]
  }
 ],
 "metadata": {
  "anaconda-cloud": {},
  "kernelspec": {
   "display_name": "Python [default]",
   "language": "python",
   "name": "python2"
  },
  "language_info": {
   "codemirror_mode": {
    "name": "ipython",
    "version": 2
   },
   "file_extension": ".py",
   "mimetype": "text/x-python",
   "name": "python",
   "nbconvert_exporter": "python",
   "pygments_lexer": "ipython2",
   "version": "2.7.12"
  }
 },
 "nbformat": 4,
 "nbformat_minor": 1
}
